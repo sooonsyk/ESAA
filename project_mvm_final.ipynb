{
  "cells": [
    {
      "cell_type": "markdown",
      "metadata": {
        "id": "view-in-github",
        "colab_type": "text"
      },
      "source": [
        "<a href=\"https://colab.research.google.com/github/sooonsyk/ESAA/blob/main/project_mvm_final.ipynb\" target=\"_parent\"><img src=\"https://colab.research.google.com/assets/colab-badge.svg\" alt=\"Open In Colab\"/></a>"
      ]
    },
    {
      "cell_type": "code",
      "execution_count": 60,
      "metadata": {
        "id": "-S1QlaTL6A0W"
      },
      "outputs": [],
      "source": [
        "import pandas as pd\n",
        "import numpy as np"
      ]
    },
    {
      "cell_type": "code",
      "execution_count": 61,
      "metadata": {
        "id": "K1aoSqFb6Mo6"
      },
      "outputs": [],
      "source": [
        "data = pd.read_csv('/content/drive/MyDrive/data_from2022.csv')"
      ]
    },
    {
      "cell_type": "code",
      "source": [
        "data.shape"
      ],
      "metadata": {
        "colab": {
          "base_uri": "https://localhost:8080/"
        },
        "id": "rJIf_ucwpxNS",
        "outputId": "9cf64a6e-cf53-4962-c9c0-79ddafb011c4"
      },
      "execution_count": 62,
      "outputs": [
        {
          "output_type": "execute_result",
          "data": {
            "text/plain": [
              "(113834, 52)"
            ]
          },
          "metadata": {},
          "execution_count": 62
        }
      ]
    },
    {
      "cell_type": "code",
      "execution_count": 63,
      "metadata": {
        "colab": {
          "base_uri": "https://localhost:8080/",
          "height": 543
        },
        "id": "-1smOX0P6hFy",
        "outputId": "bafa1532-c1f7-41c8-c136-f143bb282f8c"
      },
      "outputs": [
        {
          "output_type": "execute_result",
          "data": {
            "text/plain": [
              "   Unnamed: 0         MBER_SEQ_NO_VALUE  MESURE_SEQ_NO     CNTER_NM  \\\n",
              "0      241591  AAHjNmlrYmvwWrtwxNZ5omH2              1       창원마산회원   \n",
              "1      241592  AAGHmSMjc04KV0IyNNi12b2d              2       중구(서울)   \n",
              "2      241593  AAF5o3Y0J4zeaYqroA71KhIw              1  KSPO송파(출장B)   \n",
              "3      241594  AAEwd9bVGOlcR7hmR0bKO7ST              1           강동   \n",
              "4      241595  AAHARyeNT6BJcLtZDIOVybEU              1           서초   \n",
              "\n",
              "  AGRDE_FLAG_NM MESURE_PLACE_FLAG_NM  MESURE_AGE_CO INPT_FLAG_NM  \\\n",
              "0           청소년                   출장           15.0          관리자   \n",
              "1            성인                   일반           63.0         측정기기   \n",
              "2            성인                   일반           23.0          관리자   \n",
              "3            성인                   일반           63.0          관리자   \n",
              "4            노인                   일반           69.0          관리자   \n",
              "\n",
              "  CRTFC_FLAG_NM  MESURE_DE  ... MESURE_IEM_033_VALUE  MESURE_IEM_034_VALUE  \\\n",
              "0           3등급   20220103  ...                  NaN                   NaN   \n",
              "1           3등급   20220103  ...                  NaN                   NaN   \n",
              "2           2등급   20220103  ...                  NaN                   NaN   \n",
              "3           참가증   20220103  ...                  NaN                   NaN   \n",
              "4           3등급   20220103  ...                  NaN                   NaN   \n",
              "\n",
              "   MESURE_IEM_035_VALUE  MESURE_IEM_036_VALUE  MESURE_IEM_037_VALUE  \\\n",
              "0                   NaN                 143.0                  41.7   \n",
              "1                   NaN                 129.0                  33.4   \n",
              "2                   NaN                 110.0                  46.4   \n",
              "3                   NaN                 115.0                  34.4   \n",
              "4                   NaN                   NaN                   NaN   \n",
              "\n",
              "   MESURE_IEM_038_VALUE  MESURE_IEM_039_VALUE  MESURE_IEM_040_VALUE  \\\n",
              "0                   NaN                   NaN                   NaN   \n",
              "1                   NaN                   NaN                 0.356   \n",
              "2                   NaN                   NaN                 0.285   \n",
              "3                   NaN                   NaN                 0.357   \n",
              "4                   NaN                   NaN                   NaN   \n",
              "\n",
              "   MESURE_IEM_041_VALUE                                    MVM_PRSCRPTN_CN  \n",
              "0                   NaN  준비운동:동적 스트레칭 루틴프로그램,짝 스트레칭  루틴프로그램,걷기 / 본운동:전완...  \n",
              "1                   NaN                     본운동:달리기,실내 자전거타기,줄넘기,계단 뛰어 오르기  \n",
              "2                   NaN                          본운동:고정식 자전거 타기,스텝박스 오르내리기  \n",
              "3                   NaN  준비운동:유산소 운동 전 동적 루틴 스트레칭 / 본운동:스텝박스 오르내리기 ,계단 ...  \n",
              "4                   NaN  준비운동:목 스트레칭,목 돌림 스트레칭,양팔 벌려 전신 비틀기,회전근개 스트레칭,어...  \n",
              "\n",
              "[5 rows x 52 columns]"
            ],
            "text/html": [
              "\n",
              "  <div id=\"df-f7c3c5df-b300-4133-94a3-521b511e1299\">\n",
              "    <div class=\"colab-df-container\">\n",
              "      <div>\n",
              "<style scoped>\n",
              "    .dataframe tbody tr th:only-of-type {\n",
              "        vertical-align: middle;\n",
              "    }\n",
              "\n",
              "    .dataframe tbody tr th {\n",
              "        vertical-align: top;\n",
              "    }\n",
              "\n",
              "    .dataframe thead th {\n",
              "        text-align: right;\n",
              "    }\n",
              "</style>\n",
              "<table border=\"1\" class=\"dataframe\">\n",
              "  <thead>\n",
              "    <tr style=\"text-align: right;\">\n",
              "      <th></th>\n",
              "      <th>Unnamed: 0</th>\n",
              "      <th>MBER_SEQ_NO_VALUE</th>\n",
              "      <th>MESURE_SEQ_NO</th>\n",
              "      <th>CNTER_NM</th>\n",
              "      <th>AGRDE_FLAG_NM</th>\n",
              "      <th>MESURE_PLACE_FLAG_NM</th>\n",
              "      <th>MESURE_AGE_CO</th>\n",
              "      <th>INPT_FLAG_NM</th>\n",
              "      <th>CRTFC_FLAG_NM</th>\n",
              "      <th>MESURE_DE</th>\n",
              "      <th>...</th>\n",
              "      <th>MESURE_IEM_033_VALUE</th>\n",
              "      <th>MESURE_IEM_034_VALUE</th>\n",
              "      <th>MESURE_IEM_035_VALUE</th>\n",
              "      <th>MESURE_IEM_036_VALUE</th>\n",
              "      <th>MESURE_IEM_037_VALUE</th>\n",
              "      <th>MESURE_IEM_038_VALUE</th>\n",
              "      <th>MESURE_IEM_039_VALUE</th>\n",
              "      <th>MESURE_IEM_040_VALUE</th>\n",
              "      <th>MESURE_IEM_041_VALUE</th>\n",
              "      <th>MVM_PRSCRPTN_CN</th>\n",
              "    </tr>\n",
              "  </thead>\n",
              "  <tbody>\n",
              "    <tr>\n",
              "      <th>0</th>\n",
              "      <td>241591</td>\n",
              "      <td>AAHjNmlrYmvwWrtwxNZ5omH2</td>\n",
              "      <td>1</td>\n",
              "      <td>창원마산회원</td>\n",
              "      <td>청소년</td>\n",
              "      <td>출장</td>\n",
              "      <td>15.0</td>\n",
              "      <td>관리자</td>\n",
              "      <td>3등급</td>\n",
              "      <td>20220103</td>\n",
              "      <td>...</td>\n",
              "      <td>NaN</td>\n",
              "      <td>NaN</td>\n",
              "      <td>NaN</td>\n",
              "      <td>143.0</td>\n",
              "      <td>41.7</td>\n",
              "      <td>NaN</td>\n",
              "      <td>NaN</td>\n",
              "      <td>NaN</td>\n",
              "      <td>NaN</td>\n",
              "      <td>준비운동:동적 스트레칭 루틴프로그램,짝 스트레칭  루틴프로그램,걷기 / 본운동:전완...</td>\n",
              "    </tr>\n",
              "    <tr>\n",
              "      <th>1</th>\n",
              "      <td>241592</td>\n",
              "      <td>AAGHmSMjc04KV0IyNNi12b2d</td>\n",
              "      <td>2</td>\n",
              "      <td>중구(서울)</td>\n",
              "      <td>성인</td>\n",
              "      <td>일반</td>\n",
              "      <td>63.0</td>\n",
              "      <td>측정기기</td>\n",
              "      <td>3등급</td>\n",
              "      <td>20220103</td>\n",
              "      <td>...</td>\n",
              "      <td>NaN</td>\n",
              "      <td>NaN</td>\n",
              "      <td>NaN</td>\n",
              "      <td>129.0</td>\n",
              "      <td>33.4</td>\n",
              "      <td>NaN</td>\n",
              "      <td>NaN</td>\n",
              "      <td>0.356</td>\n",
              "      <td>NaN</td>\n",
              "      <td>본운동:달리기,실내 자전거타기,줄넘기,계단 뛰어 오르기</td>\n",
              "    </tr>\n",
              "    <tr>\n",
              "      <th>2</th>\n",
              "      <td>241593</td>\n",
              "      <td>AAF5o3Y0J4zeaYqroA71KhIw</td>\n",
              "      <td>1</td>\n",
              "      <td>KSPO송파(출장B)</td>\n",
              "      <td>성인</td>\n",
              "      <td>일반</td>\n",
              "      <td>23.0</td>\n",
              "      <td>관리자</td>\n",
              "      <td>2등급</td>\n",
              "      <td>20220103</td>\n",
              "      <td>...</td>\n",
              "      <td>NaN</td>\n",
              "      <td>NaN</td>\n",
              "      <td>NaN</td>\n",
              "      <td>110.0</td>\n",
              "      <td>46.4</td>\n",
              "      <td>NaN</td>\n",
              "      <td>NaN</td>\n",
              "      <td>0.285</td>\n",
              "      <td>NaN</td>\n",
              "      <td>본운동:고정식 자전거 타기,스텝박스 오르내리기</td>\n",
              "    </tr>\n",
              "    <tr>\n",
              "      <th>3</th>\n",
              "      <td>241594</td>\n",
              "      <td>AAEwd9bVGOlcR7hmR0bKO7ST</td>\n",
              "      <td>1</td>\n",
              "      <td>강동</td>\n",
              "      <td>성인</td>\n",
              "      <td>일반</td>\n",
              "      <td>63.0</td>\n",
              "      <td>관리자</td>\n",
              "      <td>참가증</td>\n",
              "      <td>20220103</td>\n",
              "      <td>...</td>\n",
              "      <td>NaN</td>\n",
              "      <td>NaN</td>\n",
              "      <td>NaN</td>\n",
              "      <td>115.0</td>\n",
              "      <td>34.4</td>\n",
              "      <td>NaN</td>\n",
              "      <td>NaN</td>\n",
              "      <td>0.357</td>\n",
              "      <td>NaN</td>\n",
              "      <td>준비운동:유산소 운동 전 동적 루틴 스트레칭 / 본운동:스텝박스 오르내리기 ,계단 ...</td>\n",
              "    </tr>\n",
              "    <tr>\n",
              "      <th>4</th>\n",
              "      <td>241595</td>\n",
              "      <td>AAHARyeNT6BJcLtZDIOVybEU</td>\n",
              "      <td>1</td>\n",
              "      <td>서초</td>\n",
              "      <td>노인</td>\n",
              "      <td>일반</td>\n",
              "      <td>69.0</td>\n",
              "      <td>관리자</td>\n",
              "      <td>3등급</td>\n",
              "      <td>20220103</td>\n",
              "      <td>...</td>\n",
              "      <td>NaN</td>\n",
              "      <td>NaN</td>\n",
              "      <td>NaN</td>\n",
              "      <td>NaN</td>\n",
              "      <td>NaN</td>\n",
              "      <td>NaN</td>\n",
              "      <td>NaN</td>\n",
              "      <td>NaN</td>\n",
              "      <td>NaN</td>\n",
              "      <td>준비운동:목 스트레칭,목 돌림 스트레칭,양팔 벌려 전신 비틀기,회전근개 스트레칭,어...</td>\n",
              "    </tr>\n",
              "  </tbody>\n",
              "</table>\n",
              "<p>5 rows × 52 columns</p>\n",
              "</div>\n",
              "      <button class=\"colab-df-convert\" onclick=\"convertToInteractive('df-f7c3c5df-b300-4133-94a3-521b511e1299')\"\n",
              "              title=\"Convert this dataframe to an interactive table.\"\n",
              "              style=\"display:none;\">\n",
              "        \n",
              "  <svg xmlns=\"http://www.w3.org/2000/svg\" height=\"24px\"viewBox=\"0 0 24 24\"\n",
              "       width=\"24px\">\n",
              "    <path d=\"M0 0h24v24H0V0z\" fill=\"none\"/>\n",
              "    <path d=\"M18.56 5.44l.94 2.06.94-2.06 2.06-.94-2.06-.94-.94-2.06-.94 2.06-2.06.94zm-11 1L8.5 8.5l.94-2.06 2.06-.94-2.06-.94L8.5 2.5l-.94 2.06-2.06.94zm10 10l.94 2.06.94-2.06 2.06-.94-2.06-.94-.94-2.06-.94 2.06-2.06.94z\"/><path d=\"M17.41 7.96l-1.37-1.37c-.4-.4-.92-.59-1.43-.59-.52 0-1.04.2-1.43.59L10.3 9.45l-7.72 7.72c-.78.78-.78 2.05 0 2.83L4 21.41c.39.39.9.59 1.41.59.51 0 1.02-.2 1.41-.59l7.78-7.78 2.81-2.81c.8-.78.8-2.07 0-2.86zM5.41 20L4 18.59l7.72-7.72 1.47 1.35L5.41 20z\"/>\n",
              "  </svg>\n",
              "      </button>\n",
              "      \n",
              "  <style>\n",
              "    .colab-df-container {\n",
              "      display:flex;\n",
              "      flex-wrap:wrap;\n",
              "      gap: 12px;\n",
              "    }\n",
              "\n",
              "    .colab-df-convert {\n",
              "      background-color: #E8F0FE;\n",
              "      border: none;\n",
              "      border-radius: 50%;\n",
              "      cursor: pointer;\n",
              "      display: none;\n",
              "      fill: #1967D2;\n",
              "      height: 32px;\n",
              "      padding: 0 0 0 0;\n",
              "      width: 32px;\n",
              "    }\n",
              "\n",
              "    .colab-df-convert:hover {\n",
              "      background-color: #E2EBFA;\n",
              "      box-shadow: 0px 1px 2px rgba(60, 64, 67, 0.3), 0px 1px 3px 1px rgba(60, 64, 67, 0.15);\n",
              "      fill: #174EA6;\n",
              "    }\n",
              "\n",
              "    [theme=dark] .colab-df-convert {\n",
              "      background-color: #3B4455;\n",
              "      fill: #D2E3FC;\n",
              "    }\n",
              "\n",
              "    [theme=dark] .colab-df-convert:hover {\n",
              "      background-color: #434B5C;\n",
              "      box-shadow: 0px 1px 3px 1px rgba(0, 0, 0, 0.15);\n",
              "      filter: drop-shadow(0px 1px 2px rgba(0, 0, 0, 0.3));\n",
              "      fill: #FFFFFF;\n",
              "    }\n",
              "  </style>\n",
              "\n",
              "      <script>\n",
              "        const buttonEl =\n",
              "          document.querySelector('#df-f7c3c5df-b300-4133-94a3-521b511e1299 button.colab-df-convert');\n",
              "        buttonEl.style.display =\n",
              "          google.colab.kernel.accessAllowed ? 'block' : 'none';\n",
              "\n",
              "        async function convertToInteractive(key) {\n",
              "          const element = document.querySelector('#df-f7c3c5df-b300-4133-94a3-521b511e1299');\n",
              "          const dataTable =\n",
              "            await google.colab.kernel.invokeFunction('convertToInteractive',\n",
              "                                                     [key], {});\n",
              "          if (!dataTable) return;\n",
              "\n",
              "          const docLinkHtml = 'Like what you see? Visit the ' +\n",
              "            '<a target=\"_blank\" href=https://colab.research.google.com/notebooks/data_table.ipynb>data table notebook</a>'\n",
              "            + ' to learn more about interactive tables.';\n",
              "          element.innerHTML = '';\n",
              "          dataTable['output_type'] = 'display_data';\n",
              "          await google.colab.output.renderOutput(dataTable, element);\n",
              "          const docLink = document.createElement('div');\n",
              "          docLink.innerHTML = docLinkHtml;\n",
              "          element.appendChild(docLink);\n",
              "        }\n",
              "      </script>\n",
              "    </div>\n",
              "  </div>\n",
              "  "
            ]
          },
          "metadata": {},
          "execution_count": 63
        }
      ],
      "source": [
        "data.head()"
      ]
    },
    {
      "cell_type": "markdown",
      "metadata": {
        "id": "67f8NKxn7Cu6"
      },
      "source": [
        "##라벨 분리"
      ]
    },
    {
      "cell_type": "code",
      "execution_count": 64,
      "metadata": {
        "id": "tC9tG8LRFFYP"
      },
      "outputs": [],
      "source": [
        "data_mvm = data['MVM_PRSCRPTN_CN'].dropna(axis=0)"
      ]
    },
    {
      "cell_type": "code",
      "execution_count": 65,
      "metadata": {
        "id": "Glk6X4B8FFVs"
      },
      "outputs": [],
      "source": [
        "data_ispre = data_mvm[data_mvm.str.startswith('준')]  #준비운동 포함\n",
        "data_nopre = data_mvm[data_mvm.str.startswith('준')==False] # 준비운동 포함 안 함"
      ]
    },
    {
      "cell_type": "code",
      "execution_count": 66,
      "metadata": {
        "id": "qj9Luo5mIgDs"
      },
      "outputs": [],
      "source": [
        "ispre_nomain = data_ispre.str.split('본운동:',expand=True).reset_index(drop=True)[:][0] #마무리운동 포함하고 있을 수도\n",
        "ispre_ismain = data_ispre.str.split('본운동:',expand=True).reset_index(drop=True)[:][1]#본운동 o, 마무리운동 포함하고 있을 수도"
      ]
    },
    {
      "cell_type": "code",
      "execution_count": 67,
      "metadata": {
        "colab": {
          "base_uri": "https://localhost:8080/"
        },
        "id": "QTNA6zCTUxsp",
        "outputId": "0c02ee28-577e-455d-bb52-78f4bfdec335"
      },
      "outputs": [
        {
          "output_type": "execute_result",
          "data": {
            "text/plain": [
              "15999"
            ]
          },
          "metadata": {},
          "execution_count": 67
        }
      ],
      "source": [
        "ispre_ismain.isna().sum() #준비 운동만 있는 애들"
      ]
    },
    {
      "cell_type": "code",
      "execution_count": 68,
      "metadata": {
        "id": "INh2qUFdWL_D"
      },
      "outputs": [],
      "source": [
        "ispre_ismain.dropna(axis=0, inplace=True) #준비 운동만 있는 애들 제거"
      ]
    },
    {
      "cell_type": "code",
      "execution_count": 69,
      "metadata": {
        "colab": {
          "base_uri": "https://localhost:8080/"
        },
        "id": "iEfIX2MtWejz",
        "outputId": "78818c3a-1d86-4cff-f3b2-8130e4eecebd"
      },
      "outputs": [
        {
          "output_type": "execute_result",
          "data": {
            "text/plain": [
              "0"
            ]
          },
          "metadata": {},
          "execution_count": 69
        }
      ],
      "source": [
        "ispre_ismain.isna().sum()"
      ]
    },
    {
      "cell_type": "code",
      "execution_count": 70,
      "metadata": {
        "id": "C5i-YzwAJnWv"
      },
      "outputs": [],
      "source": [
        "ispre_nomain_noend = ispre_nomain.str.split('마무리운동:',expand=True).reset_index(drop=True)[:][0] \n",
        "ispre_nomain_isend = ispre_nomain.str.split('마무리운동:',expand=True).reset_index(drop=True)[:][1] "
      ]
    },
    {
      "cell_type": "code",
      "execution_count": 71,
      "metadata": {
        "colab": {
          "base_uri": "https://localhost:8080/"
        },
        "id": "GS358vr0W5PR",
        "outputId": "05d1615d-6670-4e9f-f76f-eddf006ce5fc"
      },
      "outputs": [
        {
          "output_type": "execute_result",
          "data": {
            "text/plain": [
              "81340"
            ]
          },
          "metadata": {},
          "execution_count": 71
        }
      ],
      "source": [
        "ispre_nomain_isend.isna().sum() #마무리운동 없는 애들"
      ]
    },
    {
      "cell_type": "code",
      "execution_count": 72,
      "metadata": {
        "id": "1riXgeR0eJqA"
      },
      "outputs": [],
      "source": [
        "ispre_nomain_isend.dropna(axis=0, inplace=True) #마무리운동 없는 애들 제거"
      ]
    },
    {
      "cell_type": "code",
      "execution_count": 73,
      "metadata": {
        "colab": {
          "base_uri": "https://localhost:8080/"
        },
        "id": "_47-i0FYXFwC",
        "outputId": "b3053b93-1c3a-4c00-ab80-0b5c03bdb461"
      },
      "outputs": [
        {
          "output_type": "execute_result",
          "data": {
            "text/plain": [
              "0"
            ]
          },
          "metadata": {},
          "execution_count": 73
        }
      ],
      "source": [
        "ispre_nomain_isend.isna().sum()"
      ]
    },
    {
      "cell_type": "code",
      "execution_count": 74,
      "metadata": {
        "id": "l61ODIClSamK"
      },
      "outputs": [],
      "source": [
        "ispre_ismain_noend = ispre_ismain.str.split('마무리운동:',expand=True).reset_index(drop=True)[:][0] \n",
        "ispre_ismain_isend = ispre_ismain.str.split('마무리운동:',expand=True).reset_index(drop=True)[:][1] "
      ]
    },
    {
      "cell_type": "code",
      "execution_count": 75,
      "metadata": {
        "colab": {
          "base_uri": "https://localhost:8080/"
        },
        "id": "fqjo_Gg9RfK0",
        "outputId": "b3d6c94e-28da-483e-ae4c-d4fe1be474c0"
      },
      "outputs": [
        {
          "output_type": "execute_result",
          "data": {
            "text/plain": [
              "0"
            ]
          },
          "metadata": {},
          "execution_count": 75
        }
      ],
      "source": [
        "ispre_ismain_noend.isna().sum()"
      ]
    },
    {
      "cell_type": "code",
      "execution_count": 76,
      "metadata": {
        "colab": {
          "base_uri": "https://localhost:8080/"
        },
        "id": "z1ml9OBpS-S1",
        "outputId": "82c595d1-bd99-4ea0-cfb5-0c0ae6bbea6f"
      },
      "outputs": [
        {
          "output_type": "execute_result",
          "data": {
            "text/plain": [
              "8835"
            ]
          },
          "metadata": {},
          "execution_count": 76
        }
      ],
      "source": [
        "ispre_ismain_isend.isna().sum()"
      ]
    },
    {
      "cell_type": "code",
      "execution_count": 77,
      "metadata": {
        "id": "rC8tYzTZTCWV"
      },
      "outputs": [],
      "source": [
        "ispre_ismain_isend.dropna(axis=0, inplace=True) #마무리운동 없는 경우"
      ]
    },
    {
      "cell_type": "code",
      "execution_count": 78,
      "metadata": {
        "colab": {
          "base_uri": "https://localhost:8080/"
        },
        "id": "zYGlXzfyX2Xq",
        "outputId": "0ac8b4e7-f09e-4526-fda6-8921c030117d"
      },
      "outputs": [
        {
          "output_type": "execute_result",
          "data": {
            "text/plain": [
              "0"
            ]
          },
          "metadata": {},
          "execution_count": 78
        }
      ],
      "source": [
        "ispre_ismain_isend.isna().sum()"
      ]
    },
    {
      "cell_type": "code",
      "execution_count": 79,
      "metadata": {
        "id": "QOhgi6xCPULR"
      },
      "outputs": [],
      "source": [
        "nopre_noend = data_nopre.str.split('마무리운동:',expand=True).reset_index(drop=True)[:][0]\n",
        "nopre_isend = data_nopre.str.split('마무리운동:',expand=True).reset_index(drop=True)[:][1]"
      ]
    },
    {
      "cell_type": "code",
      "execution_count": 80,
      "metadata": {
        "colab": {
          "base_uri": "https://localhost:8080/"
        },
        "id": "I4AgWWk-RMtE",
        "outputId": "d6c13a4a-d20f-4490-e399-1d334f03cf97"
      },
      "outputs": [
        {
          "output_type": "execute_result",
          "data": {
            "text/plain": [
              "0"
            ]
          },
          "metadata": {},
          "execution_count": 80
        }
      ],
      "source": [
        "nopre_noend.isna().sum()"
      ]
    },
    {
      "cell_type": "code",
      "execution_count": 81,
      "metadata": {
        "colab": {
          "base_uri": "https://localhost:8080/"
        },
        "id": "0xvfbBRjQlZ2",
        "outputId": "14add6c5-0a11-4b4a-cb68-2915834aa388"
      },
      "outputs": [
        {
          "output_type": "execute_result",
          "data": {
            "text/plain": [
              "16465"
            ]
          },
          "metadata": {},
          "execution_count": 81
        }
      ],
      "source": [
        "nopre_isend.isna().sum()"
      ]
    },
    {
      "cell_type": "code",
      "execution_count": 82,
      "metadata": {
        "id": "oIVwB1C2RV5W"
      },
      "outputs": [],
      "source": [
        "nopre_isend.dropna(axis=0,inplace=True)"
      ]
    },
    {
      "cell_type": "code",
      "execution_count": 83,
      "metadata": {
        "colab": {
          "base_uri": "https://localhost:8080/"
        },
        "id": "bUwBL_qtRH1n",
        "outputId": "756d9192-c5b1-4699-ed70-19f1234dd3d1"
      },
      "outputs": [
        {
          "output_type": "execute_result",
          "data": {
            "text/plain": [
              "0"
            ]
          },
          "metadata": {},
          "execution_count": 83
        }
      ],
      "source": [
        "nopre_isend.isna().sum()"
      ]
    },
    {
      "cell_type": "code",
      "execution_count": 83,
      "metadata": {
        "id": "vozp1UAgTLV2"
      },
      "outputs": [],
      "source": [
        ""
      ]
    },
    {
      "cell_type": "markdown",
      "metadata": {
        "id": "VwK1dGnFWz8f"
      },
      "source": [
        "###준비운동 리스트 만들기"
      ]
    },
    {
      "cell_type": "code",
      "execution_count": 84,
      "metadata": {
        "id": "1kNnmp6HNTFP"
      },
      "outputs": [],
      "source": [
        "ispre_nomain_noend = ispre_nomain_noend.str.replace('준비운동:','')\n",
        "ispre_nomain_noend = ispre_nomain_noend.str.replace(' / ','')"
      ]
    },
    {
      "cell_type": "code",
      "execution_count": 85,
      "metadata": {
        "id": "N6W2nXP8Nt_m"
      },
      "outputs": [],
      "source": [
        "pre_data = ispre_nomain_noend.str.split(',')"
      ]
    },
    {
      "cell_type": "code",
      "execution_count": 86,
      "metadata": {
        "id": "ws3u6suoICCU"
      },
      "outputs": [],
      "source": [
        "pre_list = []\n",
        "\n",
        "for i in range(0,pre_data.shape[0]):\n",
        "  for j in range(len(pre_data[i])):\n",
        "    if pre_data[i][j] in pre_list:\n",
        "      continue\n",
        "    else:\n",
        "      pre_list.append(pre_data[i][j])\n"
      ]
    },
    {
      "cell_type": "code",
      "execution_count": 87,
      "metadata": {
        "colab": {
          "base_uri": "https://localhost:8080/"
        },
        "id": "ZjchMIvuYyb3",
        "outputId": "3cde5659-fb1f-4be2-8486-4d262424ca7a"
      },
      "outputs": [
        {
          "output_type": "execute_result",
          "data": {
            "text/plain": [
              "513"
            ]
          },
          "metadata": {},
          "execution_count": 87
        }
      ],
      "source": [
        "len(pre_list)"
      ]
    },
    {
      "cell_type": "markdown",
      "metadata": {
        "id": "zluqD9DrYteH"
      },
      "source": [
        "###본운동 만들기"
      ]
    },
    {
      "cell_type": "code",
      "execution_count": 88,
      "metadata": {
        "id": "9iAB4VnKY5sI"
      },
      "outputs": [],
      "source": [
        "nopre_noend = nopre_noend.str.replace('본운동:','')\n",
        "nopre_noend = nopre_noend.str.replace(' / ','')\n",
        "nopre_noend = nopre_noend.str.split(',')"
      ]
    },
    {
      "cell_type": "code",
      "execution_count": 89,
      "metadata": {
        "id": "511S4vtEZXea"
      },
      "outputs": [],
      "source": [
        "ispre_ismain_noend = ispre_ismain_noend.str.replace(' / ','')\n",
        "ispre_ismain_noend = ispre_ismain_noend.str.split(',')"
      ]
    },
    {
      "cell_type": "code",
      "execution_count": 90,
      "metadata": {
        "colab": {
          "base_uri": "https://localhost:8080/"
        },
        "id": "Vd0kS6PQaOjt",
        "outputId": "54b00361-c361-4ecd-a788-a5aee5e58431"
      },
      "outputs": [
        {
          "output_type": "execute_result",
          "data": {
            "text/plain": [
              "83823"
            ]
          },
          "metadata": {},
          "execution_count": 90
        }
      ],
      "source": [
        "nopre_noend.shape[0] + ispre_ismain_noend.shape[0]"
      ]
    },
    {
      "cell_type": "code",
      "execution_count": 91,
      "metadata": {
        "id": "t__kdnQzpNTO"
      },
      "outputs": [],
      "source": [
        "main_data = pd.concat([nopre_noend, ispre_ismain_noend],axis=0)\n",
        "main_data.reset_index(drop=True, inplace=True)\n",
        "\n",
        "main_list = []\n",
        "\n",
        "for i in range(0,main_data.shape[0]):\n",
        "  for j in range(len(main_data[i])):\n",
        "    if main_data[i][j] in main_list:\n",
        "      continue\n",
        "    else:\n",
        "      main_list.append(main_data[i][j])\n"
      ]
    },
    {
      "cell_type": "code",
      "execution_count": 92,
      "metadata": {
        "colab": {
          "base_uri": "https://localhost:8080/"
        },
        "id": "LOAdODtLcdYx",
        "outputId": "be4999a1-0da6-456b-d884-ff7127b80397"
      },
      "outputs": [
        {
          "output_type": "execute_result",
          "data": {
            "text/plain": [
              "603"
            ]
          },
          "metadata": {},
          "execution_count": 92
        }
      ],
      "source": [
        "len(main_list)"
      ]
    },
    {
      "cell_type": "markdown",
      "metadata": {
        "id": "EK1xIOMGclrO"
      },
      "source": [
        "###마무리 운동 리스트 만들기"
      ]
    },
    {
      "cell_type": "code",
      "execution_count": 93,
      "metadata": {
        "id": "mDUN4zL1csmK"
      },
      "outputs": [],
      "source": [
        "ispre_nomain_isend = ispre_nomain_isend.str.split(',')"
      ]
    },
    {
      "cell_type": "code",
      "execution_count": 94,
      "metadata": {
        "id": "8Pa-CK2Uc41L"
      },
      "outputs": [],
      "source": [
        "ispre_ismain_isend = ispre_ismain_isend.str.split(',')"
      ]
    },
    {
      "cell_type": "code",
      "execution_count": 95,
      "metadata": {
        "id": "yWwLLP5ze7TR"
      },
      "outputs": [],
      "source": [
        "nopre_isend = nopre_isend.str.split(',')"
      ]
    },
    {
      "cell_type": "code",
      "execution_count": 96,
      "metadata": {
        "colab": {
          "base_uri": "https://localhost:8080/"
        },
        "id": "EADliTyNewgN",
        "outputId": "df76c86c-b2e2-4249-d677-7c8c47bfda20"
      },
      "outputs": [
        {
          "output_type": "execute_result",
          "data": {
            "text/plain": [
              "58685"
            ]
          },
          "metadata": {},
          "execution_count": 96
        }
      ],
      "source": [
        "ispre_nomain_isend.shape[0] + ispre_ismain_isend.shape[0] + nopre_isend.shape[0]"
      ]
    },
    {
      "cell_type": "code",
      "execution_count": 97,
      "metadata": {
        "id": "13BUXE0XpZDU"
      },
      "outputs": [],
      "source": [
        "end_data = pd.concat([ispre_nomain_isend, ispre_ismain_isend, nopre_isend], axis=0)\n",
        "end_data.reset_index(drop=True, inplace=True)\n",
        "\n",
        "end_list = []\n",
        "\n",
        "for i in range(0,end_data.shape[0]):\n",
        "  for j in range(len(end_data[i])):\n",
        "    if end_data[i][j] in end_list:\n",
        "      continue\n",
        "    else:\n",
        "      end_list.append(end_data[i][j])"
      ]
    },
    {
      "cell_type": "code",
      "execution_count": 98,
      "metadata": {
        "colab": {
          "base_uri": "https://localhost:8080/"
        },
        "id": "AYZp7gfrfyNr",
        "outputId": "d0763892-f0ce-4f6a-c64f-ca6462346594"
      },
      "outputs": [
        {
          "output_type": "execute_result",
          "data": {
            "text/plain": [
              "279"
            ]
          },
          "metadata": {},
          "execution_count": 98
        }
      ],
      "source": [
        "len(end_list)"
      ]
    },
    {
      "cell_type": "markdown",
      "metadata": {
        "id": "Di6pNqxZiljU"
      },
      "source": [
        "##운동별 빈도 리스트\n"
      ]
    },
    {
      "cell_type": "code",
      "execution_count": 99,
      "metadata": {
        "id": "H0YUPtReZtw-"
      },
      "outputs": [],
      "source": [
        "pre_list2 = []\n",
        "\n",
        "for i in range(0,pre_data.shape[0]):\n",
        "  for j in range(len(pre_data[i])):\n",
        "    pre_list2.append(pre_data[i][j])\n",
        "    \n",
        "pre_list2 = pd.DataFrame(pre_list2)"
      ]
    },
    {
      "cell_type": "code",
      "source": [
        "pre_list2[0].value_counts()"
      ],
      "metadata": {
        "colab": {
          "base_uri": "https://localhost:8080/"
        },
        "id": "b6ChyN-ooiOH",
        "outputId": "8cb4599d-abf5-4bfc-fb58-5b4e52179903"
      },
      "execution_count": 100,
      "outputs": [
        {
          "output_type": "execute_result",
          "data": {
            "text/plain": [
              "동적 스트레칭 루틴프로그램         16836\n",
              "전신 루틴 스트레칭             16499\n",
              "유산소 운동 전 동적 루틴 스트레칭    11075\n",
              "정적 스트레칭  루틴프로그램         8702\n",
              "걷기                      8521\n",
              "                       ...  \n",
              "의자 잡고 반복 옆 뛰기              1\n",
              "대(大)자 점프 뛰기                1\n",
              "치매를 위한 근력운동                1\n",
              "서서 다리로 탄력밴드 당기기 II         1\n",
              "서서 탄력밴드 당겨내리기/올리기          1\n",
              "Name: 0, Length: 513, dtype: int64"
            ]
          },
          "metadata": {},
          "execution_count": 100
        }
      ]
    },
    {
      "cell_type": "code",
      "execution_count": 101,
      "metadata": {
        "colab": {
          "base_uri": "https://localhost:8080/"
        },
        "id": "X811ElAwbvab",
        "outputId": "11189981-4fa5-4a8b-fa0c-8096b62c5eb4"
      },
      "outputs": [
        {
          "output_type": "execute_result",
          "data": {
            "text/plain": [
              "10"
            ]
          },
          "metadata": {},
          "execution_count": 101
        }
      ],
      "source": [
        "(pre_list2[0].value_counts()>4000).sum()"
      ]
    },
    {
      "cell_type": "code",
      "execution_count": 102,
      "metadata": {
        "id": "elzfuMvndmAU"
      },
      "outputs": [],
      "source": [
        "main_list2 = []\n",
        "\n",
        "for i in range(0,main_data.shape[0]):\n",
        "  for j in range(len(main_data[i])):\n",
        "    main_list2.append(main_data[i][j])\n",
        "\n",
        "main_list2 = pd.DataFrame(main_list2)\n"
      ]
    },
    {
      "cell_type": "code",
      "source": [
        "main_list2[0].value_counts()"
      ],
      "metadata": {
        "colab": {
          "base_uri": "https://localhost:8080/"
        },
        "id": "5tREaD2Monei",
        "outputId": "746ac01d-fb85-4cfd-d1fa-262fc70f7857"
      },
      "execution_count": 103,
      "outputs": [
        {
          "output_type": "execute_result",
          "data": {
            "text/plain": [
              "앉았다 일어서기         23274\n",
              "엎드려 버티기          13792\n",
              "맨몸운동  루틴프로그램     13236\n",
              "윗몸올리기            12939\n",
              "수영               11663\n",
              "                 ...  \n",
              "유소년테스트               1\n",
              "탄력밴드 전방으로 당기기        1\n",
              "밴드 앞으로 당기기           1\n",
              "탄력밴드 후방으로 당기기        1\n",
              "무릎 당겨올리기             1\n",
              "Name: 0, Length: 603, dtype: int64"
            ]
          },
          "metadata": {},
          "execution_count": 103
        }
      ]
    },
    {
      "cell_type": "code",
      "execution_count": 104,
      "metadata": {
        "colab": {
          "base_uri": "https://localhost:8080/"
        },
        "id": "GunCGrxfiq4e",
        "outputId": "30a59e1a-8adb-4e6a-a6fc-def8903e4544"
      },
      "outputs": [
        {
          "output_type": "execute_result",
          "data": {
            "text/plain": [
              "36"
            ]
          },
          "metadata": {},
          "execution_count": 104
        }
      ],
      "source": [
        "(main_list2[0].value_counts()>4000).sum()"
      ]
    },
    {
      "cell_type": "code",
      "execution_count": 105,
      "metadata": {
        "id": "1hFbGYB5d2zm"
      },
      "outputs": [],
      "source": [
        "end_list2 = []\n",
        "\n",
        "for i in range(0,end_data.shape[0]):\n",
        "  for j in range(len(end_data[i])):\n",
        "    end_list2.append(end_data[i][j])\n",
        "\n",
        "end_list2 = pd.DataFrame(end_list2)\n"
      ]
    },
    {
      "cell_type": "code",
      "execution_count": 106,
      "metadata": {
        "colab": {
          "base_uri": "https://localhost:8080/"
        },
        "id": "cGDwA4bUg3sN",
        "outputId": "3775bf81-80aa-4687-b19f-469540e7bbd8"
      },
      "outputs": [
        {
          "output_type": "execute_result",
          "data": {
            "text/plain": [
              "8"
            ]
          },
          "metadata": {},
          "execution_count": 106
        }
      ],
      "source": [
        "(end_list2[0].value_counts()>4000).sum()"
      ]
    },
    {
      "cell_type": "markdown",
      "metadata": {
        "id": "5hGhwNvOARCw"
      },
      "source": [
        "##칼럼생성"
      ]
    },
    {
      "cell_type": "code",
      "execution_count": 107,
      "metadata": {
        "colab": {
          "base_uri": "https://localhost:8080/"
        },
        "id": "MgWe1dvLAQuM",
        "outputId": "c6d3a406-dd7d-434f-c103-5b0147890824"
      },
      "outputs": [
        {
          "output_type": "execute_result",
          "data": {
            "text/plain": [
              "(113834, 52)"
            ]
          },
          "metadata": {},
          "execution_count": 107
        }
      ],
      "source": [
        "data.shape"
      ]
    },
    {
      "cell_type": "code",
      "execution_count": 108,
      "metadata": {
        "colab": {
          "base_uri": "https://localhost:8080/"
        },
        "id": "3sO2576lBUgr",
        "outputId": "92bf4959-dc4c-4b4f-c3a3-e92de09d4531"
      },
      "outputs": [
        {
          "output_type": "execute_result",
          "data": {
            "text/plain": [
              "(113834, 11)"
            ]
          },
          "metadata": {},
          "execution_count": 108
        }
      ],
      "source": [
        "#10개\n",
        "pre_10000 = pd.DataFrame(pre_list2[0].value_counts()>4000)\n",
        "pre_10000_list = pre_10000[pre_10000[0]].index\n",
        "pre_col = pd.DataFrame(index=range(0,data.shape[0]),columns=pre_10000_list)\n",
        "pre_10000_data = pd.concat([data['MVM_PRSCRPTN_CN'],pre_col],axis=1)\n",
        "pre_10000_data.shape"
      ]
    },
    {
      "cell_type": "code",
      "execution_count": 109,
      "metadata": {
        "colab": {
          "base_uri": "https://localhost:8080/"
        },
        "id": "dOc1wp_fBKSg",
        "outputId": "095a5dc6-a3c4-4e9e-fdd3-aa7e764a1c43"
      },
      "outputs": [
        {
          "output_type": "execute_result",
          "data": {
            "text/plain": [
              "(113834, 37)"
            ]
          },
          "metadata": {},
          "execution_count": 109
        }
      ],
      "source": [
        "#36개\n",
        "main_10000 = pd.DataFrame(main_list2[0].value_counts()>4000)\n",
        "main_10000_list = main_10000[main_10000[0]].index\n",
        "main_col = pd.DataFrame(index=range(0,data.shape[0]),columns=main_10000_list)\n",
        "main_10000_data = pd.concat([data['MVM_PRSCRPTN_CN'],main_col],axis=1)\n",
        "main_10000_data.shape"
      ]
    },
    {
      "cell_type": "code",
      "execution_count": 110,
      "metadata": {
        "colab": {
          "base_uri": "https://localhost:8080/"
        },
        "id": "AD8PUy04ArHp",
        "outputId": "69b379ef-48b6-4337-b7eb-081e7a9e24a0"
      },
      "outputs": [
        {
          "output_type": "execute_result",
          "data": {
            "text/plain": [
              "(113834, 9)"
            ]
          },
          "metadata": {},
          "execution_count": 110
        }
      ],
      "source": [
        "#8개\n",
        "end_10000 = pd.DataFrame(end_list2[0].value_counts()>4000)\n",
        "end_10000_list = end_10000[end_10000[0]].index\n",
        "end_col = pd.DataFrame(index=range(0,data.shape[0]),columns=end_10000_list)\n",
        "end_10000_data = pd.concat([data['MVM_PRSCRPTN_CN'],end_col],axis=1)\n",
        "end_10000_data.shape"
      ]
    },
    {
      "cell_type": "markdown",
      "metadata": {
        "id": "odnNqLwtn9FG"
      },
      "source": [
        "##운동별 칼럼 채우기\n"
      ]
    },
    {
      "cell_type": "markdown",
      "source": [
        "###준비운동"
      ],
      "metadata": {
        "id": "afhpNd35n9FG"
      }
    },
    {
      "cell_type": "code",
      "execution_count": 111,
      "metadata": {
        "colab": {
          "base_uri": "https://localhost:8080/"
        },
        "outputId": "4cd691b5-23ef-4dfa-fd8b-a86c84f3d224",
        "id": "I0mZwAjvn9FH"
      },
      "outputs": [
        {
          "output_type": "execute_result",
          "data": {
            "text/plain": [
              "14012"
            ]
          },
          "metadata": {},
          "execution_count": 111
        }
      ],
      "source": [
        "pre_10000_data['MVM_PRSCRPTN_CN'].isna().sum()"
      ]
    },
    {
      "cell_type": "code",
      "execution_count": 112,
      "metadata": {
        "id": "qW0M97-an9FH"
      },
      "outputs": [],
      "source": [
        "pre_10000_data['MVM_PRSCRPTN_CN'].fillna('',inplace=True)"
      ]
    },
    {
      "cell_type": "code",
      "execution_count": 113,
      "metadata": {
        "colab": {
          "base_uri": "https://localhost:8080/"
        },
        "outputId": "a59b0fa9-65bb-4696-c372-fe6d4f0bd088",
        "id": "pzlxFNZGn9FH"
      },
      "outputs": [
        {
          "output_type": "execute_result",
          "data": {
            "text/plain": [
              "0"
            ]
          },
          "metadata": {},
          "execution_count": 113
        }
      ],
      "source": [
        "pre_10000_data['MVM_PRSCRPTN_CN'].isna().sum()"
      ]
    },
    {
      "cell_type": "code",
      "source": [
        "pre_10000_data.fillna(0,inplace=True)"
      ],
      "metadata": {
        "id": "WoYLzW5JLJcd"
      },
      "execution_count": 114,
      "outputs": []
    },
    {
      "cell_type": "code",
      "execution_count": 115,
      "metadata": {
        "id": "RcOs3Dx8n9FH"
      },
      "outputs": [],
      "source": [
        "pre_10000_list = pre_10000_data.columns[-10:]\n",
        "pre_10000_list = pd.Series(pre_10000_list)"
      ]
    },
    {
      "cell_type": "code",
      "execution_count": 116,
      "metadata": {
        "colab": {
          "base_uri": "https://localhost:8080/"
        },
        "outputId": "389d97af-e5f0-4c32-b1ea-732b78be4bfb",
        "id": "9l4j5geMn9FH"
      },
      "outputs": [
        {
          "output_type": "stream",
          "name": "stderr",
          "text": [
            "/usr/local/lib/python3.7/dist-packages/ipykernel_launcher.py:3: DeprecationWarning: `np.str` is a deprecated alias for the builtin `str`. To silence this warning, use `str` by itself. Doing this will not modify any behavior and is safe. If you specifically wanted the numpy scalar type, use `np.str_` here.\n",
            "Deprecated in NumPy 1.20; for more details and guidance: https://numpy.org/devdocs/release/1.20.0-notes.html#deprecations\n",
            "  This is separate from the ipykernel package so we can avoid doing imports until\n"
          ]
        }
      ],
      "source": [
        "for i in range(0,pre_10000_data.shape[0]): #데이터만큼 반복\n",
        "  for j in range(0,len(pre_10000_list)): #운동 칼럼 개수별 반복\n",
        "    if np.str(pre_10000_list[j]) in pre_10000_data.loc[i,'MVM_PRSCRPTN_CN']:\n",
        "      pre_10000_data.loc[i,pre_10000_list[j]] = 1"
      ]
    },
    {
      "cell_type": "markdown",
      "source": [
        "###본운동"
      ],
      "metadata": {
        "id": "T615hZHJn9FH"
      }
    },
    {
      "cell_type": "code",
      "execution_count": 117,
      "metadata": {
        "colab": {
          "base_uri": "https://localhost:8080/"
        },
        "outputId": "c8791e42-d31c-4621-9942-5e9325a7b5c4",
        "id": "j1tyw2Emn9FH"
      },
      "outputs": [
        {
          "output_type": "execute_result",
          "data": {
            "text/plain": [
              "14012"
            ]
          },
          "metadata": {},
          "execution_count": 117
        }
      ],
      "source": [
        "main_10000_data['MVM_PRSCRPTN_CN'].isna().sum()"
      ]
    },
    {
      "cell_type": "code",
      "execution_count": 118,
      "metadata": {
        "id": "Ns_a0u_9n9FH"
      },
      "outputs": [],
      "source": [
        "main_10000_data['MVM_PRSCRPTN_CN'].fillna('',inplace=True)"
      ]
    },
    {
      "cell_type": "code",
      "execution_count": 119,
      "metadata": {
        "colab": {
          "base_uri": "https://localhost:8080/"
        },
        "outputId": "635df9d9-b7cb-44a5-b9dd-1f7174e7ba6c",
        "id": "PFLpamNBn9FH"
      },
      "outputs": [
        {
          "output_type": "execute_result",
          "data": {
            "text/plain": [
              "0"
            ]
          },
          "metadata": {},
          "execution_count": 119
        }
      ],
      "source": [
        "main_10000_data['MVM_PRSCRPTN_CN'].isna().sum()"
      ]
    },
    {
      "cell_type": "code",
      "source": [
        "main_10000_data.fillna(0,inplace=True)"
      ],
      "metadata": {
        "id": "MzLMUFOiZbcF"
      },
      "execution_count": 120,
      "outputs": []
    },
    {
      "cell_type": "code",
      "execution_count": 121,
      "metadata": {
        "id": "yTzWB4Dmn9FI"
      },
      "outputs": [],
      "source": [
        "main_10000_list = main_10000_data.columns[-36:]\n",
        "main_10000_list = pd.Series(main_10000_list)"
      ]
    },
    {
      "cell_type": "code",
      "execution_count": 122,
      "metadata": {
        "colab": {
          "base_uri": "https://localhost:8080/"
        },
        "outputId": "6464683f-b665-461e-bd6c-8732dc18ce3f",
        "id": "xwiSKXRmn9FI"
      },
      "outputs": [
        {
          "output_type": "stream",
          "name": "stderr",
          "text": [
            "/usr/local/lib/python3.7/dist-packages/ipykernel_launcher.py:3: DeprecationWarning: `np.str` is a deprecated alias for the builtin `str`. To silence this warning, use `str` by itself. Doing this will not modify any behavior and is safe. If you specifically wanted the numpy scalar type, use `np.str_` here.\n",
            "Deprecated in NumPy 1.20; for more details and guidance: https://numpy.org/devdocs/release/1.20.0-notes.html#deprecations\n",
            "  This is separate from the ipykernel package so we can avoid doing imports until\n"
          ]
        }
      ],
      "source": [
        "for i in range(0,main_10000_data.shape[0]): #데이터만큼 반복\n",
        "  for j in range(0,len(main_10000_list)): #운동 칼럼 개수별 반복\n",
        "    if np.str(main_10000_list[j]) in main_10000_data.loc[i,'MVM_PRSCRPTN_CN']:\n",
        "      main_10000_data.loc[i,main_10000_list[j]] = 1"
      ]
    },
    {
      "cell_type": "markdown",
      "source": [
        "###마무리운동"
      ],
      "metadata": {
        "id": "WZxsAaIgn9FI"
      }
    },
    {
      "cell_type": "code",
      "execution_count": 123,
      "metadata": {
        "colab": {
          "base_uri": "https://localhost:8080/"
        },
        "id": "1teLXCezn9FI",
        "outputId": "468ffee9-4cff-468e-8a67-fb330bf39b3f"
      },
      "outputs": [
        {
          "output_type": "execute_result",
          "data": {
            "text/plain": [
              "14012"
            ]
          },
          "metadata": {},
          "execution_count": 123
        }
      ],
      "source": [
        "end_10000_data['MVM_PRSCRPTN_CN'].isna().sum()"
      ]
    },
    {
      "cell_type": "code",
      "execution_count": 124,
      "metadata": {
        "id": "cVuuhubyn9FI"
      },
      "outputs": [],
      "source": [
        "end_10000_data['MVM_PRSCRPTN_CN'].fillna('',inplace=True)"
      ]
    },
    {
      "cell_type": "code",
      "execution_count": 125,
      "metadata": {
        "colab": {
          "base_uri": "https://localhost:8080/"
        },
        "id": "9H280_Zsn9FI",
        "outputId": "6236379c-5420-4169-d5cf-1399372359e2"
      },
      "outputs": [
        {
          "output_type": "execute_result",
          "data": {
            "text/plain": [
              "0"
            ]
          },
          "metadata": {},
          "execution_count": 125
        }
      ],
      "source": [
        "end_10000_data['MVM_PRSCRPTN_CN'].isna().sum()"
      ]
    },
    {
      "cell_type": "code",
      "source": [
        "end_10000_data.fillna(0,inplace=True)"
      ],
      "metadata": {
        "id": "az3kut36aBUN"
      },
      "execution_count": 126,
      "outputs": []
    },
    {
      "cell_type": "code",
      "execution_count": 127,
      "metadata": {
        "id": "PZ4fnXugn9FI"
      },
      "outputs": [],
      "source": [
        "end_10000_list = end_10000_data.columns[-8:]\n",
        "end_10000_list = pd.Series(end_10000_list)"
      ]
    },
    {
      "cell_type": "code",
      "execution_count": 128,
      "metadata": {
        "colab": {
          "base_uri": "https://localhost:8080/"
        },
        "id": "OajuzxO5n9FI",
        "outputId": "f6b8b6dc-d124-47fe-e256-8c3670e15ade"
      },
      "outputs": [
        {
          "output_type": "stream",
          "name": "stderr",
          "text": [
            "/usr/local/lib/python3.7/dist-packages/ipykernel_launcher.py:3: DeprecationWarning: `np.str` is a deprecated alias for the builtin `str`. To silence this warning, use `str` by itself. Doing this will not modify any behavior and is safe. If you specifically wanted the numpy scalar type, use `np.str_` here.\n",
            "Deprecated in NumPy 1.20; for more details and guidance: https://numpy.org/devdocs/release/1.20.0-notes.html#deprecations\n",
            "  This is separate from the ipykernel package so we can avoid doing imports until\n"
          ]
        }
      ],
      "source": [
        "for i in range(0,end_10000_data.shape[0]): #데이터만큼 반복\n",
        "  for j in range(0,len(end_10000_list)): #운동 칼럼 개수별 반복\n",
        "    if np.str(end_10000_list[j]) in end_10000_data.loc[i,'MVM_PRSCRPTN_CN']:\n",
        "      end_10000_data.loc[i,end_10000_list[j]] = 1"
      ]
    },
    {
      "cell_type": "markdown",
      "source": [
        "##데이터 완성"
      ],
      "metadata": {
        "id": "SzR4geByvWx6"
      }
    },
    {
      "cell_type": "code",
      "source": [
        "pre_10000_data.drop('MVM_PRSCRPTN_CN',axis=1,inplace=True)"
      ],
      "metadata": {
        "id": "pnH_oMe4vYT0"
      },
      "execution_count": 129,
      "outputs": []
    },
    {
      "cell_type": "code",
      "source": [
        "pre_10000_data"
      ],
      "metadata": {
        "colab": {
          "base_uri": "https://localhost:8080/",
          "height": 485
        },
        "id": "Y2XrzLWQv1oS",
        "outputId": "53a5c523-b145-4e48-b08c-8ec82f263d2a"
      },
      "execution_count": null,
      "outputs": [
        {
          "output_type": "execute_result",
          "data": {
            "text/plain": [
              "        동적 스트레칭 루틴프로그램  전신 루틴 스트레칭  유산소 운동 전 동적 루틴 스트레칭  정적 스트레칭  루틴프로그램  걷기  \\\n",
              "0                    1           0                    0                1   1   \n",
              "1                    0           0                    0                0   0   \n",
              "2                    0           0                    0                0   0   \n",
              "3                    0           0                    1                0   0   \n",
              "4                    0           0                    0                0   1   \n",
              "...                ...         ...                  ...              ...  ..   \n",
              "113829               0           0                    0                0   0   \n",
              "113830               0           0                    0                1   1   \n",
              "113831               0           0                    0                0   0   \n",
              "113832               0           0                    0                0   0   \n",
              "113833               0           0                    0                0   0   \n",
              "\n",
              "        자가근막이완술 루틴 스트레칭  하지 루틴 스트레칭1  상지 루틴 스트레칭  달리기  목 스트레칭  \n",
              "0                     0            0           0    0       0  \n",
              "1                     0            0           0    1       0  \n",
              "2                     0            0           0    0       0  \n",
              "3                     0            0           0    1       0  \n",
              "4                     0            0           0    0       1  \n",
              "...                 ...          ...         ...  ...     ...  \n",
              "113829                0            0           0    0       0  \n",
              "113830                0            0           0    0       0  \n",
              "113831                0            0           0    0       0  \n",
              "113832                0            0           0    0       0  \n",
              "113833                0            0           0    0       0  \n",
              "\n",
              "[113834 rows x 10 columns]"
            ],
            "text/html": [
              "\n",
              "  <div id=\"df-b22d063c-aca5-47fd-bb0e-5a2e4b46c562\">\n",
              "    <div class=\"colab-df-container\">\n",
              "      <div>\n",
              "<style scoped>\n",
              "    .dataframe tbody tr th:only-of-type {\n",
              "        vertical-align: middle;\n",
              "    }\n",
              "\n",
              "    .dataframe tbody tr th {\n",
              "        vertical-align: top;\n",
              "    }\n",
              "\n",
              "    .dataframe thead th {\n",
              "        text-align: right;\n",
              "    }\n",
              "</style>\n",
              "<table border=\"1\" class=\"dataframe\">\n",
              "  <thead>\n",
              "    <tr style=\"text-align: right;\">\n",
              "      <th></th>\n",
              "      <th>동적 스트레칭 루틴프로그램</th>\n",
              "      <th>전신 루틴 스트레칭</th>\n",
              "      <th>유산소 운동 전 동적 루틴 스트레칭</th>\n",
              "      <th>정적 스트레칭  루틴프로그램</th>\n",
              "      <th>걷기</th>\n",
              "      <th>자가근막이완술 루틴 스트레칭</th>\n",
              "      <th>하지 루틴 스트레칭1</th>\n",
              "      <th>상지 루틴 스트레칭</th>\n",
              "      <th>달리기</th>\n",
              "      <th>목 스트레칭</th>\n",
              "    </tr>\n",
              "  </thead>\n",
              "  <tbody>\n",
              "    <tr>\n",
              "      <th>0</th>\n",
              "      <td>1</td>\n",
              "      <td>0</td>\n",
              "      <td>0</td>\n",
              "      <td>1</td>\n",
              "      <td>1</td>\n",
              "      <td>0</td>\n",
              "      <td>0</td>\n",
              "      <td>0</td>\n",
              "      <td>0</td>\n",
              "      <td>0</td>\n",
              "    </tr>\n",
              "    <tr>\n",
              "      <th>1</th>\n",
              "      <td>0</td>\n",
              "      <td>0</td>\n",
              "      <td>0</td>\n",
              "      <td>0</td>\n",
              "      <td>0</td>\n",
              "      <td>0</td>\n",
              "      <td>0</td>\n",
              "      <td>0</td>\n",
              "      <td>1</td>\n",
              "      <td>0</td>\n",
              "    </tr>\n",
              "    <tr>\n",
              "      <th>2</th>\n",
              "      <td>0</td>\n",
              "      <td>0</td>\n",
              "      <td>0</td>\n",
              "      <td>0</td>\n",
              "      <td>0</td>\n",
              "      <td>0</td>\n",
              "      <td>0</td>\n",
              "      <td>0</td>\n",
              "      <td>0</td>\n",
              "      <td>0</td>\n",
              "    </tr>\n",
              "    <tr>\n",
              "      <th>3</th>\n",
              "      <td>0</td>\n",
              "      <td>0</td>\n",
              "      <td>1</td>\n",
              "      <td>0</td>\n",
              "      <td>0</td>\n",
              "      <td>0</td>\n",
              "      <td>0</td>\n",
              "      <td>0</td>\n",
              "      <td>1</td>\n",
              "      <td>0</td>\n",
              "    </tr>\n",
              "    <tr>\n",
              "      <th>4</th>\n",
              "      <td>0</td>\n",
              "      <td>0</td>\n",
              "      <td>0</td>\n",
              "      <td>0</td>\n",
              "      <td>1</td>\n",
              "      <td>0</td>\n",
              "      <td>0</td>\n",
              "      <td>0</td>\n",
              "      <td>0</td>\n",
              "      <td>1</td>\n",
              "    </tr>\n",
              "    <tr>\n",
              "      <th>...</th>\n",
              "      <td>...</td>\n",
              "      <td>...</td>\n",
              "      <td>...</td>\n",
              "      <td>...</td>\n",
              "      <td>...</td>\n",
              "      <td>...</td>\n",
              "      <td>...</td>\n",
              "      <td>...</td>\n",
              "      <td>...</td>\n",
              "      <td>...</td>\n",
              "    </tr>\n",
              "    <tr>\n",
              "      <th>113829</th>\n",
              "      <td>0</td>\n",
              "      <td>0</td>\n",
              "      <td>0</td>\n",
              "      <td>0</td>\n",
              "      <td>0</td>\n",
              "      <td>0</td>\n",
              "      <td>0</td>\n",
              "      <td>0</td>\n",
              "      <td>0</td>\n",
              "      <td>0</td>\n",
              "    </tr>\n",
              "    <tr>\n",
              "      <th>113830</th>\n",
              "      <td>0</td>\n",
              "      <td>0</td>\n",
              "      <td>0</td>\n",
              "      <td>1</td>\n",
              "      <td>1</td>\n",
              "      <td>0</td>\n",
              "      <td>0</td>\n",
              "      <td>0</td>\n",
              "      <td>0</td>\n",
              "      <td>0</td>\n",
              "    </tr>\n",
              "    <tr>\n",
              "      <th>113831</th>\n",
              "      <td>0</td>\n",
              "      <td>0</td>\n",
              "      <td>0</td>\n",
              "      <td>0</td>\n",
              "      <td>0</td>\n",
              "      <td>0</td>\n",
              "      <td>0</td>\n",
              "      <td>0</td>\n",
              "      <td>0</td>\n",
              "      <td>0</td>\n",
              "    </tr>\n",
              "    <tr>\n",
              "      <th>113832</th>\n",
              "      <td>0</td>\n",
              "      <td>0</td>\n",
              "      <td>0</td>\n",
              "      <td>0</td>\n",
              "      <td>0</td>\n",
              "      <td>0</td>\n",
              "      <td>0</td>\n",
              "      <td>0</td>\n",
              "      <td>0</td>\n",
              "      <td>0</td>\n",
              "    </tr>\n",
              "    <tr>\n",
              "      <th>113833</th>\n",
              "      <td>0</td>\n",
              "      <td>0</td>\n",
              "      <td>0</td>\n",
              "      <td>0</td>\n",
              "      <td>0</td>\n",
              "      <td>0</td>\n",
              "      <td>0</td>\n",
              "      <td>0</td>\n",
              "      <td>0</td>\n",
              "      <td>0</td>\n",
              "    </tr>\n",
              "  </tbody>\n",
              "</table>\n",
              "<p>113834 rows × 10 columns</p>\n",
              "</div>\n",
              "      <button class=\"colab-df-convert\" onclick=\"convertToInteractive('df-b22d063c-aca5-47fd-bb0e-5a2e4b46c562')\"\n",
              "              title=\"Convert this dataframe to an interactive table.\"\n",
              "              style=\"display:none;\">\n",
              "        \n",
              "  <svg xmlns=\"http://www.w3.org/2000/svg\" height=\"24px\"viewBox=\"0 0 24 24\"\n",
              "       width=\"24px\">\n",
              "    <path d=\"M0 0h24v24H0V0z\" fill=\"none\"/>\n",
              "    <path d=\"M18.56 5.44l.94 2.06.94-2.06 2.06-.94-2.06-.94-.94-2.06-.94 2.06-2.06.94zm-11 1L8.5 8.5l.94-2.06 2.06-.94-2.06-.94L8.5 2.5l-.94 2.06-2.06.94zm10 10l.94 2.06.94-2.06 2.06-.94-2.06-.94-.94-2.06-.94 2.06-2.06.94z\"/><path d=\"M17.41 7.96l-1.37-1.37c-.4-.4-.92-.59-1.43-.59-.52 0-1.04.2-1.43.59L10.3 9.45l-7.72 7.72c-.78.78-.78 2.05 0 2.83L4 21.41c.39.39.9.59 1.41.59.51 0 1.02-.2 1.41-.59l7.78-7.78 2.81-2.81c.8-.78.8-2.07 0-2.86zM5.41 20L4 18.59l7.72-7.72 1.47 1.35L5.41 20z\"/>\n",
              "  </svg>\n",
              "      </button>\n",
              "      \n",
              "  <style>\n",
              "    .colab-df-container {\n",
              "      display:flex;\n",
              "      flex-wrap:wrap;\n",
              "      gap: 12px;\n",
              "    }\n",
              "\n",
              "    .colab-df-convert {\n",
              "      background-color: #E8F0FE;\n",
              "      border: none;\n",
              "      border-radius: 50%;\n",
              "      cursor: pointer;\n",
              "      display: none;\n",
              "      fill: #1967D2;\n",
              "      height: 32px;\n",
              "      padding: 0 0 0 0;\n",
              "      width: 32px;\n",
              "    }\n",
              "\n",
              "    .colab-df-convert:hover {\n",
              "      background-color: #E2EBFA;\n",
              "      box-shadow: 0px 1px 2px rgba(60, 64, 67, 0.3), 0px 1px 3px 1px rgba(60, 64, 67, 0.15);\n",
              "      fill: #174EA6;\n",
              "    }\n",
              "\n",
              "    [theme=dark] .colab-df-convert {\n",
              "      background-color: #3B4455;\n",
              "      fill: #D2E3FC;\n",
              "    }\n",
              "\n",
              "    [theme=dark] .colab-df-convert:hover {\n",
              "      background-color: #434B5C;\n",
              "      box-shadow: 0px 1px 3px 1px rgba(0, 0, 0, 0.15);\n",
              "      filter: drop-shadow(0px 1px 2px rgba(0, 0, 0, 0.3));\n",
              "      fill: #FFFFFF;\n",
              "    }\n",
              "  </style>\n",
              "\n",
              "      <script>\n",
              "        const buttonEl =\n",
              "          document.querySelector('#df-b22d063c-aca5-47fd-bb0e-5a2e4b46c562 button.colab-df-convert');\n",
              "        buttonEl.style.display =\n",
              "          google.colab.kernel.accessAllowed ? 'block' : 'none';\n",
              "\n",
              "        async function convertToInteractive(key) {\n",
              "          const element = document.querySelector('#df-b22d063c-aca5-47fd-bb0e-5a2e4b46c562');\n",
              "          const dataTable =\n",
              "            await google.colab.kernel.invokeFunction('convertToInteractive',\n",
              "                                                     [key], {});\n",
              "          if (!dataTable) return;\n",
              "\n",
              "          const docLinkHtml = 'Like what you see? Visit the ' +\n",
              "            '<a target=\"_blank\" href=https://colab.research.google.com/notebooks/data_table.ipynb>data table notebook</a>'\n",
              "            + ' to learn more about interactive tables.';\n",
              "          element.innerHTML = '';\n",
              "          dataTable['output_type'] = 'display_data';\n",
              "          await google.colab.output.renderOutput(dataTable, element);\n",
              "          const docLink = document.createElement('div');\n",
              "          docLink.innerHTML = docLinkHtml;\n",
              "          element.appendChild(docLink);\n",
              "        }\n",
              "      </script>\n",
              "    </div>\n",
              "  </div>\n",
              "  "
            ]
          },
          "metadata": {},
          "execution_count": 234
        }
      ]
    },
    {
      "cell_type": "code",
      "source": [
        "knn = pd.read_csv('/content/drive/MyDrive/DF_2022_KNN.csv')"
      ],
      "metadata": {
        "id": "690EMXqUzCxj"
      },
      "execution_count": null,
      "outputs": []
    },
    {
      "cell_type": "code",
      "source": [
        "pre_full_data = pd.concat([knn, pre_10000_data],axis=1)\n",
        "main_full_data = pd.concat([knn, main_10000_data],axis=1)\n",
        "end_full_data = pd.concat([knn, end_10000_data],axis=1)"
      ],
      "metadata": {
        "id": "GwhLfuZTzbmf"
      },
      "execution_count": null,
      "outputs": []
    },
    {
      "cell_type": "code",
      "source": [
        "pre_full_data.to_csv('pre_full_data.csv')\n",
        "main_full_data.to_csv('main_full_data.csv')\n",
        "end_full_data.to_csv('end_full_data.csv')"
      ],
      "metadata": {
        "id": "-uNTKq6HznxW"
      },
      "execution_count": null,
      "outputs": []
    }
  ],
  "metadata": {
    "colab": {
      "name": "project_mvm_final.ipynb",
      "provenance": [],
      "mount_file_id": "1XDeNewWLdWqe0FmM3i9sj7jxMKLEhWZF",
      "authorship_tag": "ABX9TyOFzcCQbkvTU2hVNJ/5cQi1",
      "include_colab_link": true
    },
    "kernelspec": {
      "display_name": "Python 3",
      "name": "python3"
    },
    "language_info": {
      "name": "python"
    }
  },
  "nbformat": 4,
  "nbformat_minor": 0
}