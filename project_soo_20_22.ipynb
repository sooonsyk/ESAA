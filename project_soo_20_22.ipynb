{
  "nbformat": 4,
  "nbformat_minor": 0,
  "metadata": {
    "colab": {
      "name": "\bproject_soo_20_22.ipynb",
      "provenance": [],
      "authorship_tag": "ABX9TyNA1OosXBoCHdLwOAbb54Ik",
      "include_colab_link": true
    },
    "kernelspec": {
      "name": "python3",
      "display_name": "Python 3"
    },
    "language_info": {
      "name": "python"
    }
  },
  "cells": [
    {
      "cell_type": "markdown",
      "metadata": {
        "id": "view-in-github",
        "colab_type": "text"
      },
      "source": [
        "<a href=\"https://colab.research.google.com/github/sooonsyk/ESAA/blob/main/%08project_soo_20_22.ipynb\" target=\"_parent\"><img src=\"https://colab.research.google.com/assets/colab-badge.svg\" alt=\"Open In Colab\"/></a>"
      ]
    },
    {
      "cell_type": "code",
      "source": [
        "import pandas as pd\n",
        "import numpy as np"
      ],
      "metadata": {
        "id": "VDFM_CGOfPY6"
      },
      "execution_count": 378,
      "outputs": []
    },
    {
      "cell_type": "code",
      "source": [
        "import seaborn as sns\n",
        "import matplotlib.pyplot as plt\n",
        "%matplotlib inline"
      ],
      "metadata": {
        "id": "MsYl4upup7JO"
      },
      "execution_count": 379,
      "outputs": []
    },
    {
      "cell_type": "code",
      "source": [
        "data = pd.read_csv('EDA_2019_2022.csv')"
      ],
      "metadata": {
        "id": "NEc-G7c5fRk7"
      },
      "execution_count": 380,
      "outputs": []
    },
    {
      "cell_type": "code",
      "source": [
        "data.head()"
      ],
      "metadata": {
        "colab": {
          "base_uri": "https://localhost:8080/",
          "height": 508
        },
        "id": "to-Rpqedmi9a",
        "outputId": "65442940-d529-4821-c8cf-65a1e6f588cc"
      },
      "execution_count": 381,
      "outputs": [
        {
          "output_type": "execute_result",
          "data": {
            "text/plain": [
              "          MBER_SEQ_NO_VALUE  MESURE_SEQ_NO CNTER_NM AGRDE_FLAG_NM  \\\n",
              "0  AAF5kO8szD4Osv0B5KkWVCZT              1       마포            성인   \n",
              "1  AAFeMtclq/bni2Lh5/5I4w3g              2       순천            성인   \n",
              "2  AAEFSPsnag1pku9Z/ULPLKxz              3       순천            성인   \n",
              "3  AAF1j4e4dcYGVfgXJvUf1yaa              1       연수            성인   \n",
              "4  AAFphadrBYkFejN0J0K5DhCo              1       춘천           청소년   \n",
              "\n",
              "  MESURE_PLACE_FLAG_NM  MESURE_AGE_CO INPT_FLAG_NM CRTFC_FLAG_NM  MESURE_DE  \\\n",
              "0                   일반           62.0          관리자           2등급   20190102   \n",
              "1                   일반           38.0          인바디           2등급   20190102   \n",
              "2                   일반           64.0          인바디           2등급   20190102   \n",
              "3                   출장           24.0          관리자           참가증   20190102   \n",
              "4                   출장           18.0          관리자           참가증   20190102   \n",
              "\n",
              "  SEXDSTN_FLAG_CD  ...  MESURE_IEM_033_VALUE  MESURE_IEM_034_VALUE  \\\n",
              "0               M  ...                   NaN                   NaN   \n",
              "1               F  ...                 125.0                   NaN   \n",
              "2               F  ...                 117.0                   NaN   \n",
              "3               M  ...                   NaN                   NaN   \n",
              "4               M  ...                   NaN                   NaN   \n",
              "\n",
              "   MESURE_IEM_035_VALUE  MESURE_IEM_036_VALUE  MESURE_IEM_037_VALUE  \\\n",
              "0                   NaN                   NaN                   NaN   \n",
              "1                  39.1                   NaN                   NaN   \n",
              "2                  34.7                   NaN                   NaN   \n",
              "3                   NaN                   NaN                   NaN   \n",
              "4                   NaN                   NaN                   NaN   \n",
              "\n",
              "   MESURE_IEM_038_VALUE  MESURE_IEM_039_VALUE  MESURE_IEM_040_VALUE  \\\n",
              "0                   NaN                   NaN                   NaN   \n",
              "1                   NaN                   NaN                   NaN   \n",
              "2                   NaN                   NaN                   NaN   \n",
              "3                   NaN                   NaN                   NaN   \n",
              "4                   NaN                   NaN                   NaN   \n",
              "\n",
              "   MESURE_IEM_041_VALUE                                    MVM_PRSCRPTN_CN  \n",
              "0                   NaN                                                NaN  \n",
              "1                   NaN     준비운동:걷기 / 본운동:윗몸 말아 올리기,달리기 / 마무리운동:전신 루틴 스트레칭  \n",
              "2                   NaN         준비운동:걷기 / 본운동:배스트레칭,달리기 / 마무리운동:전신 루틴 스트레칭  \n",
              "3                   NaN  준비운동:엎드려 버티기,엎드려서 팔 다리 들기,하지 루틴 스트레칭1,하지 루틴 스트...  \n",
              "4                   NaN  준비운동:깍지 끼고 상체 숙이기,목 스트레칭,등/어깨 뒤쪽 스트레칭,어깨 뒤쪽 스트...  \n",
              "\n",
              "[5 rows x 51 columns]"
            ],
            "text/html": [
              "\n",
              "  <div id=\"df-5cd05a2a-6fc4-4a71-b407-f858d4a7063c\">\n",
              "    <div class=\"colab-df-container\">\n",
              "      <div>\n",
              "<style scoped>\n",
              "    .dataframe tbody tr th:only-of-type {\n",
              "        vertical-align: middle;\n",
              "    }\n",
              "\n",
              "    .dataframe tbody tr th {\n",
              "        vertical-align: top;\n",
              "    }\n",
              "\n",
              "    .dataframe thead th {\n",
              "        text-align: right;\n",
              "    }\n",
              "</style>\n",
              "<table border=\"1\" class=\"dataframe\">\n",
              "  <thead>\n",
              "    <tr style=\"text-align: right;\">\n",
              "      <th></th>\n",
              "      <th>MBER_SEQ_NO_VALUE</th>\n",
              "      <th>MESURE_SEQ_NO</th>\n",
              "      <th>CNTER_NM</th>\n",
              "      <th>AGRDE_FLAG_NM</th>\n",
              "      <th>MESURE_PLACE_FLAG_NM</th>\n",
              "      <th>MESURE_AGE_CO</th>\n",
              "      <th>INPT_FLAG_NM</th>\n",
              "      <th>CRTFC_FLAG_NM</th>\n",
              "      <th>MESURE_DE</th>\n",
              "      <th>SEXDSTN_FLAG_CD</th>\n",
              "      <th>...</th>\n",
              "      <th>MESURE_IEM_033_VALUE</th>\n",
              "      <th>MESURE_IEM_034_VALUE</th>\n",
              "      <th>MESURE_IEM_035_VALUE</th>\n",
              "      <th>MESURE_IEM_036_VALUE</th>\n",
              "      <th>MESURE_IEM_037_VALUE</th>\n",
              "      <th>MESURE_IEM_038_VALUE</th>\n",
              "      <th>MESURE_IEM_039_VALUE</th>\n",
              "      <th>MESURE_IEM_040_VALUE</th>\n",
              "      <th>MESURE_IEM_041_VALUE</th>\n",
              "      <th>MVM_PRSCRPTN_CN</th>\n",
              "    </tr>\n",
              "  </thead>\n",
              "  <tbody>\n",
              "    <tr>\n",
              "      <th>0</th>\n",
              "      <td>AAF5kO8szD4Osv0B5KkWVCZT</td>\n",
              "      <td>1</td>\n",
              "      <td>마포</td>\n",
              "      <td>성인</td>\n",
              "      <td>일반</td>\n",
              "      <td>62.0</td>\n",
              "      <td>관리자</td>\n",
              "      <td>2등급</td>\n",
              "      <td>20190102</td>\n",
              "      <td>M</td>\n",
              "      <td>...</td>\n",
              "      <td>NaN</td>\n",
              "      <td>NaN</td>\n",
              "      <td>NaN</td>\n",
              "      <td>NaN</td>\n",
              "      <td>NaN</td>\n",
              "      <td>NaN</td>\n",
              "      <td>NaN</td>\n",
              "      <td>NaN</td>\n",
              "      <td>NaN</td>\n",
              "      <td>NaN</td>\n",
              "    </tr>\n",
              "    <tr>\n",
              "      <th>1</th>\n",
              "      <td>AAFeMtclq/bni2Lh5/5I4w3g</td>\n",
              "      <td>2</td>\n",
              "      <td>순천</td>\n",
              "      <td>성인</td>\n",
              "      <td>일반</td>\n",
              "      <td>38.0</td>\n",
              "      <td>인바디</td>\n",
              "      <td>2등급</td>\n",
              "      <td>20190102</td>\n",
              "      <td>F</td>\n",
              "      <td>...</td>\n",
              "      <td>125.0</td>\n",
              "      <td>NaN</td>\n",
              "      <td>39.1</td>\n",
              "      <td>NaN</td>\n",
              "      <td>NaN</td>\n",
              "      <td>NaN</td>\n",
              "      <td>NaN</td>\n",
              "      <td>NaN</td>\n",
              "      <td>NaN</td>\n",
              "      <td>준비운동:걷기 / 본운동:윗몸 말아 올리기,달리기 / 마무리운동:전신 루틴 스트레칭</td>\n",
              "    </tr>\n",
              "    <tr>\n",
              "      <th>2</th>\n",
              "      <td>AAEFSPsnag1pku9Z/ULPLKxz</td>\n",
              "      <td>3</td>\n",
              "      <td>순천</td>\n",
              "      <td>성인</td>\n",
              "      <td>일반</td>\n",
              "      <td>64.0</td>\n",
              "      <td>인바디</td>\n",
              "      <td>2등급</td>\n",
              "      <td>20190102</td>\n",
              "      <td>F</td>\n",
              "      <td>...</td>\n",
              "      <td>117.0</td>\n",
              "      <td>NaN</td>\n",
              "      <td>34.7</td>\n",
              "      <td>NaN</td>\n",
              "      <td>NaN</td>\n",
              "      <td>NaN</td>\n",
              "      <td>NaN</td>\n",
              "      <td>NaN</td>\n",
              "      <td>NaN</td>\n",
              "      <td>준비운동:걷기 / 본운동:배스트레칭,달리기 / 마무리운동:전신 루틴 스트레칭</td>\n",
              "    </tr>\n",
              "    <tr>\n",
              "      <th>3</th>\n",
              "      <td>AAF1j4e4dcYGVfgXJvUf1yaa</td>\n",
              "      <td>1</td>\n",
              "      <td>연수</td>\n",
              "      <td>성인</td>\n",
              "      <td>출장</td>\n",
              "      <td>24.0</td>\n",
              "      <td>관리자</td>\n",
              "      <td>참가증</td>\n",
              "      <td>20190102</td>\n",
              "      <td>M</td>\n",
              "      <td>...</td>\n",
              "      <td>NaN</td>\n",
              "      <td>NaN</td>\n",
              "      <td>NaN</td>\n",
              "      <td>NaN</td>\n",
              "      <td>NaN</td>\n",
              "      <td>NaN</td>\n",
              "      <td>NaN</td>\n",
              "      <td>NaN</td>\n",
              "      <td>NaN</td>\n",
              "      <td>준비운동:엎드려 버티기,엎드려서 팔 다리 들기,하지 루틴 스트레칭1,하지 루틴 스트...</td>\n",
              "    </tr>\n",
              "    <tr>\n",
              "      <th>4</th>\n",
              "      <td>AAFphadrBYkFejN0J0K5DhCo</td>\n",
              "      <td>1</td>\n",
              "      <td>춘천</td>\n",
              "      <td>청소년</td>\n",
              "      <td>출장</td>\n",
              "      <td>18.0</td>\n",
              "      <td>관리자</td>\n",
              "      <td>참가증</td>\n",
              "      <td>20190102</td>\n",
              "      <td>M</td>\n",
              "      <td>...</td>\n",
              "      <td>NaN</td>\n",
              "      <td>NaN</td>\n",
              "      <td>NaN</td>\n",
              "      <td>NaN</td>\n",
              "      <td>NaN</td>\n",
              "      <td>NaN</td>\n",
              "      <td>NaN</td>\n",
              "      <td>NaN</td>\n",
              "      <td>NaN</td>\n",
              "      <td>준비운동:깍지 끼고 상체 숙이기,목 스트레칭,등/어깨 뒤쪽 스트레칭,어깨 뒤쪽 스트...</td>\n",
              "    </tr>\n",
              "  </tbody>\n",
              "</table>\n",
              "<p>5 rows × 51 columns</p>\n",
              "</div>\n",
              "      <button class=\"colab-df-convert\" onclick=\"convertToInteractive('df-5cd05a2a-6fc4-4a71-b407-f858d4a7063c')\"\n",
              "              title=\"Convert this dataframe to an interactive table.\"\n",
              "              style=\"display:none;\">\n",
              "        \n",
              "  <svg xmlns=\"http://www.w3.org/2000/svg\" height=\"24px\"viewBox=\"0 0 24 24\"\n",
              "       width=\"24px\">\n",
              "    <path d=\"M0 0h24v24H0V0z\" fill=\"none\"/>\n",
              "    <path d=\"M18.56 5.44l.94 2.06.94-2.06 2.06-.94-2.06-.94-.94-2.06-.94 2.06-2.06.94zm-11 1L8.5 8.5l.94-2.06 2.06-.94-2.06-.94L8.5 2.5l-.94 2.06-2.06.94zm10 10l.94 2.06.94-2.06 2.06-.94-2.06-.94-.94-2.06-.94 2.06-2.06.94z\"/><path d=\"M17.41 7.96l-1.37-1.37c-.4-.4-.92-.59-1.43-.59-.52 0-1.04.2-1.43.59L10.3 9.45l-7.72 7.72c-.78.78-.78 2.05 0 2.83L4 21.41c.39.39.9.59 1.41.59.51 0 1.02-.2 1.41-.59l7.78-7.78 2.81-2.81c.8-.78.8-2.07 0-2.86zM5.41 20L4 18.59l7.72-7.72 1.47 1.35L5.41 20z\"/>\n",
              "  </svg>\n",
              "      </button>\n",
              "      \n",
              "  <style>\n",
              "    .colab-df-container {\n",
              "      display:flex;\n",
              "      flex-wrap:wrap;\n",
              "      gap: 12px;\n",
              "    }\n",
              "\n",
              "    .colab-df-convert {\n",
              "      background-color: #E8F0FE;\n",
              "      border: none;\n",
              "      border-radius: 50%;\n",
              "      cursor: pointer;\n",
              "      display: none;\n",
              "      fill: #1967D2;\n",
              "      height: 32px;\n",
              "      padding: 0 0 0 0;\n",
              "      width: 32px;\n",
              "    }\n",
              "\n",
              "    .colab-df-convert:hover {\n",
              "      background-color: #E2EBFA;\n",
              "      box-shadow: 0px 1px 2px rgba(60, 64, 67, 0.3), 0px 1px 3px 1px rgba(60, 64, 67, 0.15);\n",
              "      fill: #174EA6;\n",
              "    }\n",
              "\n",
              "    [theme=dark] .colab-df-convert {\n",
              "      background-color: #3B4455;\n",
              "      fill: #D2E3FC;\n",
              "    }\n",
              "\n",
              "    [theme=dark] .colab-df-convert:hover {\n",
              "      background-color: #434B5C;\n",
              "      box-shadow: 0px 1px 3px 1px rgba(0, 0, 0, 0.15);\n",
              "      filter: drop-shadow(0px 1px 2px rgba(0, 0, 0, 0.3));\n",
              "      fill: #FFFFFF;\n",
              "    }\n",
              "  </style>\n",
              "\n",
              "      <script>\n",
              "        const buttonEl =\n",
              "          document.querySelector('#df-5cd05a2a-6fc4-4a71-b407-f858d4a7063c button.colab-df-convert');\n",
              "        buttonEl.style.display =\n",
              "          google.colab.kernel.accessAllowed ? 'block' : 'none';\n",
              "\n",
              "        async function convertToInteractive(key) {\n",
              "          const element = document.querySelector('#df-5cd05a2a-6fc4-4a71-b407-f858d4a7063c');\n",
              "          const dataTable =\n",
              "            await google.colab.kernel.invokeFunction('convertToInteractive',\n",
              "                                                     [key], {});\n",
              "          if (!dataTable) return;\n",
              "\n",
              "          const docLinkHtml = 'Like what you see? Visit the ' +\n",
              "            '<a target=\"_blank\" href=https://colab.research.google.com/notebooks/data_table.ipynb>data table notebook</a>'\n",
              "            + ' to learn more about interactive tables.';\n",
              "          element.innerHTML = '';\n",
              "          dataTable['output_type'] = 'display_data';\n",
              "          await google.colab.output.renderOutput(dataTable, element);\n",
              "          const docLink = document.createElement('div');\n",
              "          docLink.innerHTML = docLinkHtml;\n",
              "          element.appendChild(docLink);\n",
              "        }\n",
              "      </script>\n",
              "    </div>\n",
              "  </div>\n",
              "  "
            ]
          },
          "metadata": {},
          "execution_count": 381
        }
      ]
    },
    {
      "cell_type": "code",
      "source": [
        "data.columns"
      ],
      "metadata": {
        "colab": {
          "base_uri": "https://localhost:8080/"
        },
        "id": "4CjgwNCtm1Ck",
        "outputId": "20463f5d-b180-43f5-f1cd-02c79c95cfdb"
      },
      "execution_count": 382,
      "outputs": [
        {
          "output_type": "execute_result",
          "data": {
            "text/plain": [
              "Index(['MBER_SEQ_NO_VALUE', 'MESURE_SEQ_NO', 'CNTER_NM', 'AGRDE_FLAG_NM',\n",
              "       'MESURE_PLACE_FLAG_NM', 'MESURE_AGE_CO', 'INPT_FLAG_NM',\n",
              "       'CRTFC_FLAG_NM', 'MESURE_DE', 'SEXDSTN_FLAG_CD', 'MESURE_IEM_001_VALUE',\n",
              "       'MESURE_IEM_002_VALUE', 'MESURE_IEM_003_VALUE', 'MESURE_IEM_004_VALUE',\n",
              "       'MESURE_IEM_005_VALUE', 'MESURE_IEM_006_VALUE', 'MESURE_IEM_007_VALUE',\n",
              "       'MESURE_IEM_008_VALUE', 'MESURE_IEM_009_VALUE', 'MESURE_IEM_010_VALUE',\n",
              "       'MESURE_IEM_012_VALUE', 'MESURE_IEM_013_VALUE', 'MESURE_IEM_014_VALUE',\n",
              "       'MESURE_IEM_015_VALUE', 'MESURE_IEM_016_VALUE', 'MESURE_IEM_017_VALUE',\n",
              "       'MESURE_IEM_018_VALUE', 'MESURE_IEM_019_VALUE', 'MESURE_IEM_020_VALUE',\n",
              "       'MESURE_IEM_021_VALUE', 'MESURE_IEM_022_VALUE', 'MESURE_IEM_023_VALUE',\n",
              "       'MESURE_IEM_024_VALUE', 'MESURE_IEM_025_VALUE', 'MESURE_IEM_026_VALUE',\n",
              "       'MESURE_IEM_027_VALUE', 'MESURE_IEM_028_VALUE', 'MESURE_IEM_029_VALUE',\n",
              "       'MESURE_IEM_030_VALUE', 'MESURE_IEM_031_VALUE', 'MESURE_IEM_032_VALUE',\n",
              "       'MESURE_IEM_033_VALUE', 'MESURE_IEM_034_VALUE', 'MESURE_IEM_035_VALUE',\n",
              "       'MESURE_IEM_036_VALUE', 'MESURE_IEM_037_VALUE', 'MESURE_IEM_038_VALUE',\n",
              "       'MESURE_IEM_039_VALUE', 'MESURE_IEM_040_VALUE', 'MESURE_IEM_041_VALUE',\n",
              "       'MVM_PRSCRPTN_CN'],\n",
              "      dtype='object')"
            ]
          },
          "metadata": {},
          "execution_count": 382
        }
      ]
    },
    {
      "cell_type": "code",
      "source": [
        "data_soo = data[['INPT_FLAG_NM','CRTFC_FLAG_NM', 'MESURE_DE', 'SEXDSTN_FLAG_CD']]"
      ],
      "metadata": {
        "id": "gNWmyIs6nRi2"
      },
      "execution_count": 383,
      "outputs": []
    },
    {
      "cell_type": "code",
      "source": [
        "data_soo.info()"
      ],
      "metadata": {
        "colab": {
          "base_uri": "https://localhost:8080/"
        },
        "id": "oG8IoVLUqSNI",
        "outputId": "a46726ea-a620-4855-cec5-86e92a89413f"
      },
      "execution_count": 384,
      "outputs": [
        {
          "output_type": "stream",
          "name": "stdout",
          "text": [
            "<class 'pandas.core.frame.DataFrame'>\n",
            "RangeIndex: 659196 entries, 0 to 659195\n",
            "Data columns (total 4 columns):\n",
            " #   Column           Non-Null Count   Dtype \n",
            "---  ------           --------------   ----- \n",
            " 0   INPT_FLAG_NM     659196 non-null  object\n",
            " 1   CRTFC_FLAG_NM    659196 non-null  object\n",
            " 2   MESURE_DE        659196 non-null  int64 \n",
            " 3   SEXDSTN_FLAG_CD  659196 non-null  object\n",
            "dtypes: int64(1), object(3)\n",
            "memory usage: 20.1+ MB\n"
          ]
        }
      ]
    },
    {
      "cell_type": "code",
      "source": [
        "data_soo.head()"
      ],
      "metadata": {
        "colab": {
          "base_uri": "https://localhost:8080/",
          "height": 206
        },
        "id": "ZWZhUqI2n1am",
        "outputId": "e322bf9a-82b2-40c6-dca6-b0b9ea509111"
      },
      "execution_count": 385,
      "outputs": [
        {
          "output_type": "execute_result",
          "data": {
            "text/plain": [
              "  INPT_FLAG_NM CRTFC_FLAG_NM  MESURE_DE SEXDSTN_FLAG_CD\n",
              "0          관리자           2등급   20190102               M\n",
              "1          인바디           2등급   20190102               F\n",
              "2          인바디           2등급   20190102               F\n",
              "3          관리자           참가증   20190102               M\n",
              "4          관리자           참가증   20190102               M"
            ],
            "text/html": [
              "\n",
              "  <div id=\"df-501a88a8-20f8-4808-8429-40892f97a8af\">\n",
              "    <div class=\"colab-df-container\">\n",
              "      <div>\n",
              "<style scoped>\n",
              "    .dataframe tbody tr th:only-of-type {\n",
              "        vertical-align: middle;\n",
              "    }\n",
              "\n",
              "    .dataframe tbody tr th {\n",
              "        vertical-align: top;\n",
              "    }\n",
              "\n",
              "    .dataframe thead th {\n",
              "        text-align: right;\n",
              "    }\n",
              "</style>\n",
              "<table border=\"1\" class=\"dataframe\">\n",
              "  <thead>\n",
              "    <tr style=\"text-align: right;\">\n",
              "      <th></th>\n",
              "      <th>INPT_FLAG_NM</th>\n",
              "      <th>CRTFC_FLAG_NM</th>\n",
              "      <th>MESURE_DE</th>\n",
              "      <th>SEXDSTN_FLAG_CD</th>\n",
              "    </tr>\n",
              "  </thead>\n",
              "  <tbody>\n",
              "    <tr>\n",
              "      <th>0</th>\n",
              "      <td>관리자</td>\n",
              "      <td>2등급</td>\n",
              "      <td>20190102</td>\n",
              "      <td>M</td>\n",
              "    </tr>\n",
              "    <tr>\n",
              "      <th>1</th>\n",
              "      <td>인바디</td>\n",
              "      <td>2등급</td>\n",
              "      <td>20190102</td>\n",
              "      <td>F</td>\n",
              "    </tr>\n",
              "    <tr>\n",
              "      <th>2</th>\n",
              "      <td>인바디</td>\n",
              "      <td>2등급</td>\n",
              "      <td>20190102</td>\n",
              "      <td>F</td>\n",
              "    </tr>\n",
              "    <tr>\n",
              "      <th>3</th>\n",
              "      <td>관리자</td>\n",
              "      <td>참가증</td>\n",
              "      <td>20190102</td>\n",
              "      <td>M</td>\n",
              "    </tr>\n",
              "    <tr>\n",
              "      <th>4</th>\n",
              "      <td>관리자</td>\n",
              "      <td>참가증</td>\n",
              "      <td>20190102</td>\n",
              "      <td>M</td>\n",
              "    </tr>\n",
              "  </tbody>\n",
              "</table>\n",
              "</div>\n",
              "      <button class=\"colab-df-convert\" onclick=\"convertToInteractive('df-501a88a8-20f8-4808-8429-40892f97a8af')\"\n",
              "              title=\"Convert this dataframe to an interactive table.\"\n",
              "              style=\"display:none;\">\n",
              "        \n",
              "  <svg xmlns=\"http://www.w3.org/2000/svg\" height=\"24px\"viewBox=\"0 0 24 24\"\n",
              "       width=\"24px\">\n",
              "    <path d=\"M0 0h24v24H0V0z\" fill=\"none\"/>\n",
              "    <path d=\"M18.56 5.44l.94 2.06.94-2.06 2.06-.94-2.06-.94-.94-2.06-.94 2.06-2.06.94zm-11 1L8.5 8.5l.94-2.06 2.06-.94-2.06-.94L8.5 2.5l-.94 2.06-2.06.94zm10 10l.94 2.06.94-2.06 2.06-.94-2.06-.94-.94-2.06-.94 2.06-2.06.94z\"/><path d=\"M17.41 7.96l-1.37-1.37c-.4-.4-.92-.59-1.43-.59-.52 0-1.04.2-1.43.59L10.3 9.45l-7.72 7.72c-.78.78-.78 2.05 0 2.83L4 21.41c.39.39.9.59 1.41.59.51 0 1.02-.2 1.41-.59l7.78-7.78 2.81-2.81c.8-.78.8-2.07 0-2.86zM5.41 20L4 18.59l7.72-7.72 1.47 1.35L5.41 20z\"/>\n",
              "  </svg>\n",
              "      </button>\n",
              "      \n",
              "  <style>\n",
              "    .colab-df-container {\n",
              "      display:flex;\n",
              "      flex-wrap:wrap;\n",
              "      gap: 12px;\n",
              "    }\n",
              "\n",
              "    .colab-df-convert {\n",
              "      background-color: #E8F0FE;\n",
              "      border: none;\n",
              "      border-radius: 50%;\n",
              "      cursor: pointer;\n",
              "      display: none;\n",
              "      fill: #1967D2;\n",
              "      height: 32px;\n",
              "      padding: 0 0 0 0;\n",
              "      width: 32px;\n",
              "    }\n",
              "\n",
              "    .colab-df-convert:hover {\n",
              "      background-color: #E2EBFA;\n",
              "      box-shadow: 0px 1px 2px rgba(60, 64, 67, 0.3), 0px 1px 3px 1px rgba(60, 64, 67, 0.15);\n",
              "      fill: #174EA6;\n",
              "    }\n",
              "\n",
              "    [theme=dark] .colab-df-convert {\n",
              "      background-color: #3B4455;\n",
              "      fill: #D2E3FC;\n",
              "    }\n",
              "\n",
              "    [theme=dark] .colab-df-convert:hover {\n",
              "      background-color: #434B5C;\n",
              "      box-shadow: 0px 1px 3px 1px rgba(0, 0, 0, 0.15);\n",
              "      filter: drop-shadow(0px 1px 2px rgba(0, 0, 0, 0.3));\n",
              "      fill: #FFFFFF;\n",
              "    }\n",
              "  </style>\n",
              "\n",
              "      <script>\n",
              "        const buttonEl =\n",
              "          document.querySelector('#df-501a88a8-20f8-4808-8429-40892f97a8af button.colab-df-convert');\n",
              "        buttonEl.style.display =\n",
              "          google.colab.kernel.accessAllowed ? 'block' : 'none';\n",
              "\n",
              "        async function convertToInteractive(key) {\n",
              "          const element = document.querySelector('#df-501a88a8-20f8-4808-8429-40892f97a8af');\n",
              "          const dataTable =\n",
              "            await google.colab.kernel.invokeFunction('convertToInteractive',\n",
              "                                                     [key], {});\n",
              "          if (!dataTable) return;\n",
              "\n",
              "          const docLinkHtml = 'Like what you see? Visit the ' +\n",
              "            '<a target=\"_blank\" href=https://colab.research.google.com/notebooks/data_table.ipynb>data table notebook</a>'\n",
              "            + ' to learn more about interactive tables.';\n",
              "          element.innerHTML = '';\n",
              "          dataTable['output_type'] = 'display_data';\n",
              "          await google.colab.output.renderOutput(dataTable, element);\n",
              "          const docLink = document.createElement('div');\n",
              "          docLink.innerHTML = docLinkHtml;\n",
              "          element.appendChild(docLink);\n",
              "        }\n",
              "      </script>\n",
              "    </div>\n",
              "  </div>\n",
              "  "
            ]
          },
          "metadata": {},
          "execution_count": 385
        }
      ]
    },
    {
      "cell_type": "code",
      "source": [
        "data['INPT_FLAG_NM'].isna().sum()"
      ],
      "metadata": {
        "colab": {
          "base_uri": "https://localhost:8080/"
        },
        "id": "eB_1B-LKn6nH",
        "outputId": "b0ffc67f-ded8-4a4f-9151-870967a0fed9"
      },
      "execution_count": 386,
      "outputs": [
        {
          "output_type": "execute_result",
          "data": {
            "text/plain": [
              "0"
            ]
          },
          "metadata": {},
          "execution_count": 386
        }
      ]
    },
    {
      "cell_type": "code",
      "source": [
        "data_soo['INPT_FLAG_NM'].unique()"
      ],
      "metadata": {
        "colab": {
          "base_uri": "https://localhost:8080/"
        },
        "id": "5XKjpVR5pGTX",
        "outputId": "26977d2c-c7e5-41c5-97c0-bfe0a4305c13"
      },
      "execution_count": 387,
      "outputs": [
        {
          "output_type": "execute_result",
          "data": {
            "text/plain": [
              "array(['관리자', '인바디', '측정기기'], dtype=object)"
            ]
          },
          "metadata": {},
          "execution_count": 387
        }
      ]
    },
    {
      "cell_type": "code",
      "source": [
        "data_soo['INPT_FLAG_NM'].value_counts()"
      ],
      "metadata": {
        "colab": {
          "base_uri": "https://localhost:8080/"
        },
        "id": "2SaoJs8xpU0Q",
        "outputId": "2fd179f7-e609-4693-a39e-527a65ac9c7e"
      },
      "execution_count": 388,
      "outputs": [
        {
          "output_type": "execute_result",
          "data": {
            "text/plain": [
              "관리자     594818\n",
              "인바디      38186\n",
              "측정기기     26192\n",
              "Name: INPT_FLAG_NM, dtype: int64"
            ]
          },
          "metadata": {},
          "execution_count": 388
        }
      ]
    },
    {
      "cell_type": "code",
      "source": [
        "ax = plt.subplots()\n",
        "ax = sns.countplot('INPT_FLAG_NM', data=data_soo)"
      ],
      "metadata": {
        "colab": {
          "base_uri": "https://localhost:8080/",
          "height": 979
        },
        "id": "6ONSHvGkovNT",
        "outputId": "3d715e93-b5df-4f16-9d0b-294b22daa7e7"
      },
      "execution_count": 389,
      "outputs": [
        {
          "output_type": "stream",
          "name": "stderr",
          "text": [
            "/usr/local/lib/python3.7/dist-packages/seaborn/_decorators.py:43: FutureWarning: Pass the following variable as a keyword arg: x. From version 0.12, the only valid positional argument will be `data`, and passing other arguments without an explicit keyword will result in an error or misinterpretation.\n",
            "  FutureWarning\n",
            "/usr/local/lib/python3.7/dist-packages/matplotlib/backends/backend_agg.py:214: RuntimeWarning: Glyph 44288 missing from current font.\n",
            "  font.set_text(s, 0.0, flags=flags)\n",
            "/usr/local/lib/python3.7/dist-packages/matplotlib/backends/backend_agg.py:214: RuntimeWarning: Glyph 47532 missing from current font.\n",
            "  font.set_text(s, 0.0, flags=flags)\n",
            "/usr/local/lib/python3.7/dist-packages/matplotlib/backends/backend_agg.py:214: RuntimeWarning: Glyph 51088 missing from current font.\n",
            "  font.set_text(s, 0.0, flags=flags)\n",
            "/usr/local/lib/python3.7/dist-packages/matplotlib/backends/backend_agg.py:214: RuntimeWarning: Glyph 51064 missing from current font.\n",
            "  font.set_text(s, 0.0, flags=flags)\n",
            "/usr/local/lib/python3.7/dist-packages/matplotlib/backends/backend_agg.py:214: RuntimeWarning: Glyph 48148 missing from current font.\n",
            "  font.set_text(s, 0.0, flags=flags)\n",
            "/usr/local/lib/python3.7/dist-packages/matplotlib/backends/backend_agg.py:214: RuntimeWarning: Glyph 46356 missing from current font.\n",
            "  font.set_text(s, 0.0, flags=flags)\n",
            "/usr/local/lib/python3.7/dist-packages/matplotlib/backends/backend_agg.py:214: RuntimeWarning: Glyph 52769 missing from current font.\n",
            "  font.set_text(s, 0.0, flags=flags)\n",
            "/usr/local/lib/python3.7/dist-packages/matplotlib/backends/backend_agg.py:214: RuntimeWarning: Glyph 51221 missing from current font.\n",
            "  font.set_text(s, 0.0, flags=flags)\n",
            "/usr/local/lib/python3.7/dist-packages/matplotlib/backends/backend_agg.py:214: RuntimeWarning: Glyph 44592 missing from current font.\n",
            "  font.set_text(s, 0.0, flags=flags)\n",
            "/usr/local/lib/python3.7/dist-packages/matplotlib/backends/backend_agg.py:183: RuntimeWarning: Glyph 44288 missing from current font.\n",
            "  font.set_text(s, 0, flags=flags)\n",
            "/usr/local/lib/python3.7/dist-packages/matplotlib/backends/backend_agg.py:183: RuntimeWarning: Glyph 47532 missing from current font.\n",
            "  font.set_text(s, 0, flags=flags)\n",
            "/usr/local/lib/python3.7/dist-packages/matplotlib/backends/backend_agg.py:183: RuntimeWarning: Glyph 51088 missing from current font.\n",
            "  font.set_text(s, 0, flags=flags)\n",
            "/usr/local/lib/python3.7/dist-packages/matplotlib/backends/backend_agg.py:183: RuntimeWarning: Glyph 51064 missing from current font.\n",
            "  font.set_text(s, 0, flags=flags)\n",
            "/usr/local/lib/python3.7/dist-packages/matplotlib/backends/backend_agg.py:183: RuntimeWarning: Glyph 48148 missing from current font.\n",
            "  font.set_text(s, 0, flags=flags)\n",
            "/usr/local/lib/python3.7/dist-packages/matplotlib/backends/backend_agg.py:183: RuntimeWarning: Glyph 46356 missing from current font.\n",
            "  font.set_text(s, 0, flags=flags)\n",
            "/usr/local/lib/python3.7/dist-packages/matplotlib/backends/backend_agg.py:183: RuntimeWarning: Glyph 52769 missing from current font.\n",
            "  font.set_text(s, 0, flags=flags)\n",
            "/usr/local/lib/python3.7/dist-packages/matplotlib/backends/backend_agg.py:183: RuntimeWarning: Glyph 51221 missing from current font.\n",
            "  font.set_text(s, 0, flags=flags)\n",
            "/usr/local/lib/python3.7/dist-packages/matplotlib/backends/backend_agg.py:183: RuntimeWarning: Glyph 44592 missing from current font.\n",
            "  font.set_text(s, 0, flags=flags)\n"
          ]
        },
        {
          "output_type": "display_data",
          "data": {
            "text/plain": [
              "<Figure size 432x288 with 1 Axes>"
            ],
            "image/png": "[encoded data removed]"
          },
          "metadata": {
            "needs_background": "light"
          }
        }
      ]
    },
    {
      "cell_type": "code",
      "source": [
        ""
      ],
      "metadata": {
        "id": "S_dEbwqxpBKZ"
      },
      "execution_count": 389,
      "outputs": []
    },
    {
      "cell_type": "code",
      "source": [
        "data['CRTFC_FLAG_NM'].isna().sum()"
      ],
      "metadata": {
        "colab": {
          "base_uri": "https://localhost:8080/"
        },
        "outputId": "4e75152d-5b29-4c39-87f1-878c77188197",
        "id": "ahylnhXRp7JN"
      },
      "execution_count": 390,
      "outputs": [
        {
          "output_type": "execute_result",
          "data": {
            "text/plain": [
              "0"
            ]
          },
          "metadata": {},
          "execution_count": 390
        }
      ]
    },
    {
      "cell_type": "code",
      "source": [
        "data['CRTFC_FLAG_NM'].unique()"
      ],
      "metadata": {
        "colab": {
          "base_uri": "https://localhost:8080/"
        },
        "outputId": "70020439-b52f-4dfd-873f-0fa547b41bae",
        "id": "nKfZ66o0p7JO"
      },
      "execution_count": 391,
      "outputs": [
        {
          "output_type": "execute_result",
          "data": {
            "text/plain": [
              "array(['2등급', '참가증', '1등급', '3등급', '동상', '금상'], dtype=object)"
            ]
          },
          "metadata": {},
          "execution_count": 391
        }
      ]
    },
    {
      "cell_type": "code",
      "source": [
        "data['CRTFC_FLAG_NM'].value_counts()"
      ],
      "metadata": {
        "colab": {
          "base_uri": "https://localhost:8080/"
        },
        "outputId": "08193f3f-671a-4dcb-9aaf-3088188bc08f",
        "id": "-mTo3gvHp7JO"
      },
      "execution_count": 392,
      "outputs": [
        {
          "output_type": "execute_result",
          "data": {
            "text/plain": [
              "참가증    397533\n",
              "3등급    136781\n",
              "2등급     87057\n",
              "1등급     37820\n",
              "동상          4\n",
              "금상          1\n",
              "Name: CRTFC_FLAG_NM, dtype: int64"
            ]
          },
          "metadata": {},
          "execution_count": 392
        }
      ]
    },
    {
      "cell_type": "code",
      "source": [
        "ax = plt.subplots()\n",
        "ax = sns.countplot('CRTFC_FLAG_NM', data=data_soo)"
      ],
      "metadata": {
        "colab": {
          "base_uri": "https://localhost:8080/",
          "height": 907
        },
        "outputId": "7ed177a8-f303-4c78-98b8-f105e031cb9b",
        "id": "hLLhtiNGp7JO"
      },
      "execution_count": 393,
      "outputs": [
        {
          "output_type": "stream",
          "name": "stderr",
          "text": [
            "/usr/local/lib/python3.7/dist-packages/seaborn/_decorators.py:43: FutureWarning: Pass the following variable as a keyword arg: x. From version 0.12, the only valid positional argument will be `data`, and passing other arguments without an explicit keyword will result in an error or misinterpretation.\n",
            "  FutureWarning\n",
            "/usr/local/lib/python3.7/dist-packages/matplotlib/backends/backend_agg.py:214: RuntimeWarning: Glyph 46321 missing from current font.\n",
            "  font.set_text(s, 0.0, flags=flags)\n",
            "/usr/local/lib/python3.7/dist-packages/matplotlib/backends/backend_agg.py:214: RuntimeWarning: Glyph 44553 missing from current font.\n",
            "  font.set_text(s, 0.0, flags=flags)\n",
            "/usr/local/lib/python3.7/dist-packages/matplotlib/backends/backend_agg.py:214: RuntimeWarning: Glyph 52280 missing from current font.\n",
            "  font.set_text(s, 0.0, flags=flags)\n",
            "/usr/local/lib/python3.7/dist-packages/matplotlib/backends/backend_agg.py:214: RuntimeWarning: Glyph 44032 missing from current font.\n",
            "  font.set_text(s, 0.0, flags=flags)\n",
            "/usr/local/lib/python3.7/dist-packages/matplotlib/backends/backend_agg.py:214: RuntimeWarning: Glyph 51613 missing from current font.\n",
            "  font.set_text(s, 0.0, flags=flags)\n",
            "/usr/local/lib/python3.7/dist-packages/matplotlib/backends/backend_agg.py:214: RuntimeWarning: Glyph 46041 missing from current font.\n",
            "  font.set_text(s, 0.0, flags=flags)\n",
            "/usr/local/lib/python3.7/dist-packages/matplotlib/backends/backend_agg.py:214: RuntimeWarning: Glyph 49345 missing from current font.\n",
            "  font.set_text(s, 0.0, flags=flags)\n",
            "/usr/local/lib/python3.7/dist-packages/matplotlib/backends/backend_agg.py:214: RuntimeWarning: Glyph 44552 missing from current font.\n",
            "  font.set_text(s, 0.0, flags=flags)\n",
            "/usr/local/lib/python3.7/dist-packages/matplotlib/backends/backend_agg.py:183: RuntimeWarning: Glyph 46321 missing from current font.\n",
            "  font.set_text(s, 0, flags=flags)\n",
            "/usr/local/lib/python3.7/dist-packages/matplotlib/backends/backend_agg.py:183: RuntimeWarning: Glyph 44553 missing from current font.\n",
            "  font.set_text(s, 0, flags=flags)\n",
            "/usr/local/lib/python3.7/dist-packages/matplotlib/backends/backend_agg.py:183: RuntimeWarning: Glyph 52280 missing from current font.\n",
            "  font.set_text(s, 0, flags=flags)\n",
            "/usr/local/lib/python3.7/dist-packages/matplotlib/backends/backend_agg.py:183: RuntimeWarning: Glyph 44032 missing from current font.\n",
            "  font.set_text(s, 0, flags=flags)\n",
            "/usr/local/lib/python3.7/dist-packages/matplotlib/backends/backend_agg.py:183: RuntimeWarning: Glyph 51613 missing from current font.\n",
            "  font.set_text(s, 0, flags=flags)\n",
            "/usr/local/lib/python3.7/dist-packages/matplotlib/backends/backend_agg.py:183: RuntimeWarning: Glyph 46041 missing from current font.\n",
            "  font.set_text(s, 0, flags=flags)\n",
            "/usr/local/lib/python3.7/dist-packages/matplotlib/backends/backend_agg.py:183: RuntimeWarning: Glyph 49345 missing from current font.\n",
            "  font.set_text(s, 0, flags=flags)\n",
            "/usr/local/lib/python3.7/dist-packages/matplotlib/backends/backend_agg.py:183: RuntimeWarning: Glyph 44552 missing from current font.\n",
            "  font.set_text(s, 0, flags=flags)\n"
          ]
        },
        {
          "output_type": "display_data",
          "data": {
            "text/plain": [
              "<Figure size 432x288 with 1 Axes>"
            ],
            "image/png": "[encoded data removed]"
          },
          "metadata": {
            "needs_background": "light"
          }
        }
      ]
    },
    {
      "cell_type": "code",
      "source": [
        "np.dtype(data['MESURE_DE'])"
      ],
      "metadata": {
        "colab": {
          "base_uri": "https://localhost:8080/"
        },
        "id": "s2sK6HlJqZkg",
        "outputId": "4c69e93f-97a4-45cf-c497-e404c9b92f24"
      },
      "execution_count": 394,
      "outputs": [
        {
          "output_type": "execute_result",
          "data": {
            "text/plain": [
              "dtype('int64')"
            ]
          },
          "metadata": {},
          "execution_count": 394
        }
      ]
    },
    {
      "cell_type": "code",
      "source": [
        "data['DE'] = pd.to_datetime(data_soo['MESURE_DE'],format='%Y%m%d')"
      ],
      "metadata": {
        "id": "XjB9hAp7qaLD"
      },
      "execution_count": 395,
      "outputs": []
    },
    {
      "cell_type": "code",
      "source": [
        "data.DE.min()"
      ],
      "metadata": {
        "colab": {
          "base_uri": "https://localhost:8080/"
        },
        "id": "VEjIFJwPqwN_",
        "outputId": "f99978d7-8dc4-4a0a-ef63-52987b769bcf"
      },
      "execution_count": 396,
      "outputs": [
        {
          "output_type": "execute_result",
          "data": {
            "text/plain": [
              "Timestamp('2019-01-02 00:00:00')"
            ]
          },
          "metadata": {},
          "execution_count": 396
        }
      ]
    },
    {
      "cell_type": "code",
      "source": [
        "data.DE.max()"
      ],
      "metadata": {
        "colab": {
          "base_uri": "https://localhost:8080/"
        },
        "id": "f6-_DP0-rY3c",
        "outputId": "b3e267e3-7254-4560-a0cf-61c775c9cd1a"
      },
      "execution_count": 397,
      "outputs": [
        {
          "output_type": "execute_result",
          "data": {
            "text/plain": [
              "Timestamp('2022-05-31 00:00:00')"
            ]
          },
          "metadata": {},
          "execution_count": 397
        }
      ]
    },
    {
      "cell_type": "code",
      "source": [
        "fig, ax = plt.subplots()\n",
        "ax.hist(data.DE)"
      ],
      "metadata": {
        "colab": {
          "base_uri": "https://localhost:8080/",
          "height": 354
        },
        "id": "ktYSwOOMrauF",
        "outputId": "d8b2c26d-6a54-4d8d-8165-5d717ce4c9c8"
      },
      "execution_count": 399,
      "outputs": [
        {
          "output_type": "execute_result",
          "data": {
            "text/plain": [
              "(array([ 89550., 119713.,  97753.,  16427.,  31638.,  28941.,  55444.,\n",
              "         57497.,  54879., 107354.]),\n",
              " array([737061. , 737185.5, 737310. , 737434.5, 737559. , 737683.5,\n",
              "        737808. , 737932.5, 738057. , 738181.5, 738306. ]),\n",
              " <a list of 10 Patch objects>)"
            ]
          },
          "metadata": {},
          "execution_count": 399
        },
        {
          "output_type": "display_data",
          "data": {
            "text/plain": [
              "<Figure size 432x288 with 1 Axes>"
            ],
            "image/png": "[encoded data removed]"
          },
          "metadata": {
            "needs_background": "light"
          }
        }
      ]
    },
    {
      "cell_type": "code",
      "source": [
        "data['SEXDSTN_FLAG_CD'].isna().sum()"
      ],
      "metadata": {
        "colab": {
          "base_uri": "https://localhost:8080/"
        },
        "outputId": "7eb96092-bbfb-4e10-aad9-9cda4a317b21",
        "id": "TOM2iWGqH4uQ"
      },
      "execution_count": 400,
      "outputs": [
        {
          "output_type": "execute_result",
          "data": {
            "text/plain": [
              "0"
            ]
          },
          "metadata": {},
          "execution_count": 400
        }
      ]
    },
    {
      "cell_type": "code",
      "source": [
        "data['SEXDSTN_FLAG_CD'].unique()"
      ],
      "metadata": {
        "colab": {
          "base_uri": "https://localhost:8080/"
        },
        "outputId": "bcaf3ff6-e92c-4b29-d5d0-883db9f8ee49",
        "id": "duF3s45wH4uQ"
      },
      "execution_count": 401,
      "outputs": [
        {
          "output_type": "execute_result",
          "data": {
            "text/plain": [
              "array(['M', 'F'], dtype=object)"
            ]
          },
          "metadata": {},
          "execution_count": 401
        }
      ]
    },
    {
      "cell_type": "code",
      "source": [
        "data['SEXDSTN_FLAG_CD'].value_counts()"
      ],
      "metadata": {
        "colab": {
          "base_uri": "https://localhost:8080/"
        },
        "outputId": "2373bda3-bf00-4ee6-f287-fb445a28c837",
        "id": "Rgqr_wrnH4uQ"
      },
      "execution_count": 402,
      "outputs": [
        {
          "output_type": "execute_result",
          "data": {
            "text/plain": [
              "M    376382\n",
              "F    282814\n",
              "Name: SEXDSTN_FLAG_CD, dtype: int64"
            ]
          },
          "metadata": {},
          "execution_count": 402
        }
      ]
    },
    {
      "cell_type": "code",
      "source": [
        "ax = plt.subplots()\n",
        "ax = sns.countplot('SEXDSTN_FLAG_CD', data=data_soo)"
      ],
      "metadata": {
        "colab": {
          "base_uri": "https://localhost:8080/",
          "height": 336
        },
        "id": "WYzFvPtpOUlz",
        "outputId": "6a6094bc-8592-4a62-8554-a21c132d3284"
      },
      "execution_count": 403,
      "outputs": [
        {
          "output_type": "stream",
          "name": "stderr",
          "text": [
            "/usr/local/lib/python3.7/dist-packages/seaborn/_decorators.py:43: FutureWarning: Pass the following variable as a keyword arg: x. From version 0.12, the only valid positional argument will be `data`, and passing other arguments without an explicit keyword will result in an error or misinterpretation.\n",
            "  FutureWarning\n"
          ]
        },
        {
          "output_type": "display_data",
          "data": {
            "text/plain": [
              "<Figure size 432x288 with 1 Axes>"
            ],
            "image/png": "[encoded data removed]"
          },
          "metadata": {
            "needs_background": "light"
          }
        }
      ]
    },
    {
      "cell_type": "code",
      "source": [
        ""
      ],
      "metadata": {
        "id": "5KKjmF3XdScq"
      },
      "execution_count": 403,
      "outputs": []
    },
    {
      "cell_type": "markdown",
      "source": [
        "##라벨분리"
      ],
      "metadata": {
        "id": "-5wEQn2KUADs"
      }
    },
    {
      "cell_type": "code",
      "source": [
        "data = data[data['MESURE_DE']>20200000]"
      ],
      "metadata": {
        "id": "SQGYIi_wmO7E"
      },
      "execution_count": 555,
      "outputs": []
    },
    {
      "cell_type": "code",
      "source": [
        "data['MVM_PRSCRPTN_CN'].head()"
      ],
      "metadata": {
        "colab": {
          "base_uri": "https://localhost:8080/"
        },
        "id": "oKTXp4U8SluB",
        "outputId": "0e36a8d1-03b4-4e53-aabc-102e1ed34506"
      },
      "execution_count": 556,
      "outputs": [
        {
          "output_type": "execute_result",
          "data": {
            "text/plain": [
              "303771    준비운동:동적 스트레칭 루틴프로그램 / 본운동:하프콘 투호,사다리 이용 루틴 운동,...\n",
              "303772    준비운동:하지 루틴 스트레칭1,걷기 / 본운동:앉았다 일어서기,앞굽이 앉았다 일어서...\n",
              "303773    준비운동:걷기,유산소 운동 전 동적 루틴 스트레칭 / 본운동:맨몸운동  루틴프로그램...\n",
              "303774    준비운동:동적 스트레칭 루틴프로그램 / 본운동:맨몸운동  루틴프로그램,저항밴드 운동...\n",
              "303775    준비운동:동적 스트레칭 루틴프로그램 / 본운동:맨몸운동  루틴프로그램,저항밴드 운동...\n",
              "Name: MVM_PRSCRPTN_CN, dtype: object"
            ]
          },
          "metadata": {},
          "execution_count": 556
        }
      ]
    },
    {
      "cell_type": "code",
      "source": [
        "data_mvm = data['MVM_PRSCRPTN_CN'].dropna(axis=0)"
      ],
      "metadata": {
        "id": "tC9tG8LRFFYP"
      },
      "execution_count": 557,
      "outputs": []
    },
    {
      "cell_type": "code",
      "source": [
        "data_ispre = data_mvm[data_mvm.str.startswith('준')]  #준비운동 포함\n",
        "data_nopre = data_mvm[data_mvm.str.startswith('준')==False] # 준비운동 포함 안 함"
      ],
      "metadata": {
        "id": "Glk6X4B8FFVs"
      },
      "execution_count": 558,
      "outputs": []
    },
    {
      "cell_type": "code",
      "source": [
        "data_ispre.head()"
      ],
      "metadata": {
        "colab": {
          "base_uri": "https://localhost:8080/"
        },
        "id": "-Dwrz4kUFK3o",
        "outputId": "e4a482ee-1639-4a58-8997-7fff08066bb5"
      },
      "execution_count": 559,
      "outputs": [
        {
          "output_type": "execute_result",
          "data": {
            "text/plain": [
              "303771    준비운동:동적 스트레칭 루틴프로그램 / 본운동:하프콘 투호,사다리 이용 루틴 운동,...\n",
              "303772    준비운동:하지 루틴 스트레칭1,걷기 / 본운동:앉았다 일어서기,앞굽이 앉았다 일어서...\n",
              "303773    준비운동:걷기,유산소 운동 전 동적 루틴 스트레칭 / 본운동:맨몸운동  루틴프로그램...\n",
              "303774    준비운동:동적 스트레칭 루틴프로그램 / 본운동:맨몸운동  루틴프로그램,저항밴드 운동...\n",
              "303775    준비운동:동적 스트레칭 루틴프로그램 / 본운동:맨몸운동  루틴프로그램,저항밴드 운동...\n",
              "Name: MVM_PRSCRPTN_CN, dtype: object"
            ]
          },
          "metadata": {},
          "execution_count": 559
        }
      ]
    },
    {
      "cell_type": "code",
      "source": [
        "ispre_nomain = data_ispre.str.split('본운동',expand=True).reset_index(drop=True)[:][0] #마무리운동 포함하고 있을 수도\n",
        "ispre_ismain = data_ispre.str.split('본운동',expand=True).reset_index(drop=True)[:][1]#본운동 o, 마무리운동 포함하고 있을 수도"
      ],
      "metadata": {
        "id": "qj9Luo5mIgDs"
      },
      "execution_count": 560,
      "outputs": []
    },
    {
      "cell_type": "code",
      "source": [
        "ispre_nomain.head()"
      ],
      "metadata": {
        "colab": {
          "base_uri": "https://localhost:8080/"
        },
        "id": "8_5ZyctsKnzj",
        "outputId": "29e8cc06-8157-46a6-f7ca-d759b9b64827"
      },
      "execution_count": 561,
      "outputs": [
        {
          "output_type": "execute_result",
          "data": {
            "text/plain": [
              "0            준비운동:동적 스트레칭 루틴프로그램 / \n",
              "1            준비운동:하지 루틴 스트레칭1,걷기 / \n",
              "2    준비운동:걷기,유산소 운동 전 동적 루틴 스트레칭 / \n",
              "3            준비운동:동적 스트레칭 루틴프로그램 / \n",
              "4            준비운동:동적 스트레칭 루틴프로그램 / \n",
              "Name: 0, dtype: object"
            ]
          },
          "metadata": {},
          "execution_count": 561
        }
      ]
    },
    {
      "cell_type": "code",
      "source": [
        "ispre_ismain.head()"
      ],
      "metadata": {
        "colab": {
          "base_uri": "https://localhost:8080/"
        },
        "id": "WwYzRmJMKpyE",
        "outputId": "4bcded83-c058-4272-d73f-df2e6188e11d"
      },
      "execution_count": 562,
      "outputs": [
        {
          "output_type": "execute_result",
          "data": {
            "text/plain": [
              "0    :하프콘 투호,사다리 이용 루틴 운동,짐볼 앉아 중심 잡기 루틴 운동 / 마무리운동...\n",
              "1    :앉았다 일어서기,앞굽이 앉았다 일어서기,연속 사이드 스쿼드,팔굽혀 펴기,뒤로 팔굽...\n",
              "2    :맨몸운동  루틴프로그램,팔벌려뛰기,사다리 옆으로 발 옮기기,옆으로 펀치하기,스텝퍼...\n",
              "3    :맨몸운동  루틴프로그램,저항밴드 운동  루틴프로그램,웨이트 트레이닝  루틴프로그램...\n",
              "4    :맨몸운동  루틴프로그램,저항밴드 운동  루틴프로그램,웨이트 트레이닝  루틴프로그램...\n",
              "Name: 1, dtype: object"
            ]
          },
          "metadata": {},
          "execution_count": 562
        }
      ]
    },
    {
      "cell_type": "code",
      "source": [
        "ispre_ismain.isna().sum() #준비 운동만 있는 애들"
      ],
      "metadata": {
        "colab": {
          "base_uri": "https://localhost:8080/"
        },
        "id": "QTNA6zCTUxsp",
        "outputId": "be7b6d98-b546-47e1-b153-ea6110f25248"
      },
      "execution_count": 563,
      "outputs": [
        {
          "output_type": "execute_result",
          "data": {
            "text/plain": [
              "57961"
            ]
          },
          "metadata": {},
          "execution_count": 563
        }
      ]
    },
    {
      "cell_type": "code",
      "source": [
        "ispre_ismain.dropna(axis=0, inplace=True) #준비 운동만 있는 애들 제거"
      ],
      "metadata": {
        "id": "INh2qUFdWL_D"
      },
      "execution_count": 564,
      "outputs": []
    },
    {
      "cell_type": "code",
      "source": [
        "ispre_ismain.isna().sum()"
      ],
      "metadata": {
        "colab": {
          "base_uri": "https://localhost:8080/"
        },
        "id": "iEfIX2MtWejz",
        "outputId": "6c2c32c7-697a-45e8-e9b8-04ee8d91c5ab"
      },
      "execution_count": 565,
      "outputs": [
        {
          "output_type": "execute_result",
          "data": {
            "text/plain": [
              "0"
            ]
          },
          "metadata": {},
          "execution_count": 565
        }
      ]
    },
    {
      "cell_type": "code",
      "source": [
        "ispre_ismain.shape"
      ],
      "metadata": {
        "colab": {
          "base_uri": "https://localhost:8080/"
        },
        "id": "m4yR6vCeWgb2",
        "outputId": "bf7210ce-ea1c-4b24-fbe5-8252b3f7cb53"
      },
      "execution_count": 566,
      "outputs": [
        {
          "output_type": "execute_result",
          "data": {
            "text/plain": [
              "(209732,)"
            ]
          },
          "metadata": {},
          "execution_count": 566
        }
      ]
    },
    {
      "cell_type": "code",
      "source": [
        ""
      ],
      "metadata": {
        "id": "WtDK4rkqK3ok"
      },
      "execution_count": 566,
      "outputs": []
    },
    {
      "cell_type": "code",
      "source": [
        "ispre_nomain_noend = ispre_nomain.str.split('마무리',expand=True).reset_index(drop=True)[:][0] \n",
        "ispre_nomain_isend = ispre_nomain.str.split('마무리',expand=True).reset_index(drop=True)[:][1] "
      ],
      "metadata": {
        "id": "C5i-YzwAJnWv"
      },
      "execution_count": 567,
      "outputs": []
    },
    {
      "cell_type": "code",
      "source": [
        "ispre_nomain_isend.isna().sum() #마무리운동 없는 애들"
      ],
      "metadata": {
        "colab": {
          "base_uri": "https://localhost:8080/"
        },
        "id": "GS358vr0W5PR",
        "outputId": "7c5a544f-7dbe-44b7-9192-106d72da13d2"
      },
      "execution_count": 568,
      "outputs": [
        {
          "output_type": "execute_result",
          "data": {
            "text/plain": [
              "266942"
            ]
          },
          "metadata": {},
          "execution_count": 568
        }
      ]
    },
    {
      "cell_type": "code",
      "source": [
        "ispre_nomain_isend.dropna(axis=0, inplace=True) #마무리운동 없는 애들 제거"
      ],
      "metadata": {
        "id": "1riXgeR0eJqA"
      },
      "execution_count": 569,
      "outputs": []
    },
    {
      "cell_type": "code",
      "source": [
        "ispre_nomain_isend.isna().sum()"
      ],
      "metadata": {
        "colab": {
          "base_uri": "https://localhost:8080/"
        },
        "id": "_47-i0FYXFwC",
        "outputId": "2163e3bc-02ab-400b-8724-ae4d82fc42ba"
      },
      "execution_count": 570,
      "outputs": [
        {
          "output_type": "execute_result",
          "data": {
            "text/plain": [
              "0"
            ]
          },
          "metadata": {},
          "execution_count": 570
        }
      ]
    },
    {
      "cell_type": "code",
      "source": [
        ""
      ],
      "metadata": {
        "id": "uxHEADXgePqI"
      },
      "execution_count": 570,
      "outputs": []
    },
    {
      "cell_type": "code",
      "source": [
        "ispre_ismain_noend = ispre_ismain.str.split('마무리운동:',expand=True).reset_index(drop=True)[:][0] \n",
        "ispre_ismain_isend = ispre_ismain.str.split('마무리운동:',expand=True).reset_index(drop=True)[:][1] "
      ],
      "metadata": {
        "id": "l61ODIClSamK"
      },
      "execution_count": 571,
      "outputs": []
    },
    {
      "cell_type": "code",
      "source": [
        "ispre_ismain_noend.isna().sum()"
      ],
      "metadata": {
        "colab": {
          "base_uri": "https://localhost:8080/"
        },
        "id": "fqjo_Gg9RfK0",
        "outputId": "a71bffe7-6347-4369-e810-6baf52198bfe"
      },
      "execution_count": 572,
      "outputs": [
        {
          "output_type": "execute_result",
          "data": {
            "text/plain": [
              "0"
            ]
          },
          "metadata": {},
          "execution_count": 572
        }
      ]
    },
    {
      "cell_type": "code",
      "source": [
        "ispre_ismain_isend.isna().sum()"
      ],
      "metadata": {
        "colab": {
          "base_uri": "https://localhost:8080/"
        },
        "id": "z1ml9OBpS-S1",
        "outputId": "1b13040a-8277-468f-a98b-3ee884b24391"
      },
      "execution_count": 573,
      "outputs": [
        {
          "output_type": "execute_result",
          "data": {
            "text/plain": [
              "32468"
            ]
          },
          "metadata": {},
          "execution_count": 573
        }
      ]
    },
    {
      "cell_type": "code",
      "source": [
        "ispre_ismain_isend.dropna(axis=0, inplace=True) #마무리운동 없는 경우"
      ],
      "metadata": {
        "id": "rC8tYzTZTCWV"
      },
      "execution_count": 574,
      "outputs": []
    },
    {
      "cell_type": "code",
      "source": [
        "ispre_ismain_isend.isna().sum()"
      ],
      "metadata": {
        "colab": {
          "base_uri": "https://localhost:8080/"
        },
        "id": "zYGlXzfyX2Xq",
        "outputId": "8ed6784f-1493-49f0-f7d1-08cd420ffa25"
      },
      "execution_count": 575,
      "outputs": [
        {
          "output_type": "execute_result",
          "data": {
            "text/plain": [
              "0"
            ]
          },
          "metadata": {},
          "execution_count": 575
        }
      ]
    },
    {
      "cell_type": "code",
      "source": [
        ""
      ],
      "metadata": {
        "id": "DkmlDP1RLFnm"
      },
      "execution_count": 575,
      "outputs": []
    },
    {
      "cell_type": "code",
      "source": [
        "nopre_noend = data_nopre.str.split('마무리운동:',expand=True).reset_index(drop=True)[:][0]\n",
        "nopre_isend = data_nopre.str.split('마무리운동:',expand=True).reset_index(drop=True)[:][1]"
      ],
      "metadata": {
        "id": "QOhgi6xCPULR"
      },
      "execution_count": 576,
      "outputs": []
    },
    {
      "cell_type": "code",
      "source": [
        "nopre_noend.isna().sum()"
      ],
      "metadata": {
        "colab": {
          "base_uri": "https://localhost:8080/"
        },
        "id": "I4AgWWk-RMtE",
        "outputId": "a113ebce-8abc-467e-8f82-5d2719c9a86d"
      },
      "execution_count": 577,
      "outputs": [
        {
          "output_type": "execute_result",
          "data": {
            "text/plain": [
              "0"
            ]
          },
          "metadata": {},
          "execution_count": 577
        }
      ]
    },
    {
      "cell_type": "code",
      "source": [
        "nopre_isend.isna().sum()"
      ],
      "metadata": {
        "colab": {
          "base_uri": "https://localhost:8080/"
        },
        "id": "0xvfbBRjQlZ2",
        "outputId": "e752ba3a-b417-4524-cda3-861b9de66e2d"
      },
      "execution_count": 578,
      "outputs": [
        {
          "output_type": "execute_result",
          "data": {
            "text/plain": [
              "54162"
            ]
          },
          "metadata": {},
          "execution_count": 578
        }
      ]
    },
    {
      "cell_type": "code",
      "source": [
        "nopre_isend.dropna(axis=0,inplace=True)"
      ],
      "metadata": {
        "id": "oIVwB1C2RV5W"
      },
      "execution_count": 579,
      "outputs": []
    },
    {
      "cell_type": "code",
      "source": [
        "nopre_isend.isna().sum()"
      ],
      "metadata": {
        "colab": {
          "base_uri": "https://localhost:8080/"
        },
        "id": "bUwBL_qtRH1n",
        "outputId": "51b618c9-dba4-4027-a9b6-f80b6835a59c"
      },
      "execution_count": 580,
      "outputs": [
        {
          "output_type": "execute_result",
          "data": {
            "text/plain": [
              "0"
            ]
          },
          "metadata": {},
          "execution_count": 580
        }
      ]
    },
    {
      "cell_type": "code",
      "source": [
        ""
      ],
      "metadata": {
        "id": "vozp1UAgTLV2"
      },
      "execution_count": 580,
      "outputs": []
    },
    {
      "cell_type": "code",
      "source": [
        ""
      ],
      "metadata": {
        "id": "KxlNKHEeWy_j"
      },
      "execution_count": 580,
      "outputs": []
    },
    {
      "cell_type": "markdown",
      "source": [
        "###준비운동 리스트 만들기"
      ],
      "metadata": {
        "id": "VwK1dGnFWz8f"
      }
    },
    {
      "cell_type": "code",
      "source": [
        "ispre_nomain_noend = ispre_nomain_noend.str.replace('준비운동:','')\n",
        "ispre_nomain_noend = ispre_nomain_noend.str.replace(' / ','')"
      ],
      "metadata": {
        "id": "1kNnmp6HNTFP"
      },
      "execution_count": 581,
      "outputs": []
    },
    {
      "cell_type": "code",
      "source": [
        "pre_data = ispre_nomain_noend.str.split(',')"
      ],
      "metadata": {
        "id": "N6W2nXP8Nt_m"
      },
      "execution_count": 582,
      "outputs": []
    },
    {
      "cell_type": "code",
      "source": [
        "pre_data.shape[0]"
      ],
      "metadata": {
        "colab": {
          "base_uri": "https://localhost:8080/"
        },
        "id": "VfH-b3T3amHV",
        "outputId": "e0841e02-f3ec-4e45-879b-b769709dcdc3"
      },
      "execution_count": 583,
      "outputs": [
        {
          "output_type": "execute_result",
          "data": {
            "text/plain": [
              "267693"
            ]
          },
          "metadata": {},
          "execution_count": 583
        }
      ]
    },
    {
      "cell_type": "code",
      "source": [
        ""
      ],
      "metadata": {
        "id": "hNgFDAIrdfXl"
      },
      "execution_count": 583,
      "outputs": []
    },
    {
      "cell_type": "code",
      "source": [
        "pre_list = []\n",
        "\n",
        "for i in range(0,pre_data.shape[0]):\n",
        "  for j in range(len(pre_data[i])):\n",
        "    if pre_data[i][j] in pre_list:\n",
        "      continue\n",
        "    else:\n",
        "      pre_list.append(pre_data[i][j])\n"
      ],
      "metadata": {
        "id": "ws3u6suoICCU"
      },
      "execution_count": 584,
      "outputs": []
    },
    {
      "cell_type": "code",
      "source": [
        "len(pre_list)"
      ],
      "metadata": {
        "colab": {
          "base_uri": "https://localhost:8080/"
        },
        "id": "ZjchMIvuYyb3",
        "outputId": "bdd49e40-136e-499e-f3bb-98a2afb3378a"
      },
      "execution_count": 585,
      "outputs": [
        {
          "output_type": "execute_result",
          "data": {
            "text/plain": [
              "645"
            ]
          },
          "metadata": {},
          "execution_count": 585
        }
      ]
    },
    {
      "cell_type": "markdown",
      "source": [
        "###본운동 만들기"
      ],
      "metadata": {
        "id": "zluqD9DrYteH"
      }
    },
    {
      "cell_type": "code",
      "source": [
        "nopre_noend.head()"
      ],
      "metadata": {
        "colab": {
          "base_uri": "https://localhost:8080/"
        },
        "id": "F0XOr_WFYr5m",
        "outputId": "30df1971-a20c-4f7e-8c8b-8bafc3656df9"
      },
      "execution_count": 586,
      "outputs": [
        {
          "output_type": "execute_result",
          "data": {
            "text/plain": [
              "0    본운동:짐볼 앉기 평형성 운동 루틴 프로그램,한발 들기,사다리 이용 루틴 운동,의자...\n",
              "1      본운동:뒤로 팔굽혀펴기,허리 굽혀 팔 뒤로 들기,물병 옆으로 들어올리기,팔꿈치 굽히기\n",
              "2                 본운동:달리기,줄넘기,발 닿기,몸통 들어올리기,몸통 옆으로 굽히기\n",
              "3    본운동:누워서 밀기,바벨 끌어당기기,서서 바벨 위로 밀기,고정한 상태에서 덤벨 들고...\n",
              "4    본운동:앉아서 팔꿈치 굽히기,물통으로 양팔 들어올리기,벽에서 팔굽혀 펴기,볼 위에 ...\n",
              "Name: 0, dtype: object"
            ]
          },
          "metadata": {},
          "execution_count": 586
        }
      ]
    },
    {
      "cell_type": "code",
      "source": [
        "nopre_noend = nopre_noend.str.replace('본운동:','')\n",
        "nopre_noend = nopre_noend.str.replace(' / ','')\n",
        "nopre_noend = nopre_noend.str.split(',')"
      ],
      "metadata": {
        "id": "9iAB4VnKY5sI"
      },
      "execution_count": 587,
      "outputs": []
    },
    {
      "cell_type": "code",
      "source": [
        "ispre_ismain_noend.head()"
      ],
      "metadata": {
        "colab": {
          "base_uri": "https://localhost:8080/"
        },
        "id": "xLqPRBrOZRNZ",
        "outputId": "bd57e24e-82c8-41cd-a78b-8ce9c614fb6d"
      },
      "execution_count": 588,
      "outputs": [
        {
          "output_type": "execute_result",
          "data": {
            "text/plain": [
              "0            :하프콘 투호,사다리 이용 루틴 운동,짐볼 앉아 중심 잡기 루틴 운동 / \n",
              "1    :앉았다 일어서기,앞굽이 앉았다 일어서기,연속 사이드 스쿼드,팔굽혀 펴기,뒤로 팔굽...\n",
              "2    :맨몸운동  루틴프로그램,팔벌려뛰기,사다리 옆으로 발 옮기기,옆으로 펀치하기,스텝퍼...\n",
              "3    :맨몸운동  루틴프로그램,저항밴드 운동  루틴프로그램,웨이트 트레이닝  루틴프로그램 / \n",
              "4    :맨몸운동  루틴프로그램,저항밴드 운동  루틴프로그램,웨이트 트레이닝  루틴프로그램 / \n",
              "Name: 0, dtype: object"
            ]
          },
          "metadata": {},
          "execution_count": 588
        }
      ]
    },
    {
      "cell_type": "code",
      "source": [
        "ispre_ismain_noend = ispre_ismain_noend.str.replace(':','')\n",
        "ispre_ismain_noend = ispre_ismain_noend.str.replace(' / ','')\n",
        "ispre_ismain_noend = ispre_ismain_noend.str.split(',')"
      ],
      "metadata": {
        "id": "511S4vtEZXea"
      },
      "execution_count": 589,
      "outputs": []
    },
    {
      "cell_type": "code",
      "source": [
        "nopre_noend.shape[0] + ispre_ismain_noend.shape[0]"
      ],
      "metadata": {
        "colab": {
          "base_uri": "https://localhost:8080/"
        },
        "id": "Vd0kS6PQaOjt",
        "outputId": "03525077-b16c-433e-936a-a3b9da785e8a"
      },
      "execution_count": 590,
      "outputs": [
        {
          "output_type": "execute_result",
          "data": {
            "text/plain": [
              "268916"
            ]
          },
          "metadata": {},
          "execution_count": 590
        }
      ]
    },
    {
      "cell_type": "code",
      "source": [
        "main_data = pd.concat([nopre_noend, ispre_ismain_noend],axis=0)\n",
        "main_data.shape"
      ],
      "metadata": {
        "colab": {
          "base_uri": "https://localhost:8080/"
        },
        "id": "D5ONac4YZzAF",
        "outputId": "da7b9e65-271a-44c9-fb0f-0f616877a024"
      },
      "execution_count": 591,
      "outputs": [
        {
          "output_type": "execute_result",
          "data": {
            "text/plain": [
              "(268916,)"
            ]
          },
          "metadata": {},
          "execution_count": 591
        }
      ]
    },
    {
      "cell_type": "code",
      "source": [
        "main_data.reset_index(drop=True, inplace=True)"
      ],
      "metadata": {
        "id": "S8reS0m5a7AX"
      },
      "execution_count": 592,
      "outputs": []
    },
    {
      "cell_type": "code",
      "source": [
        "main_list = []\n",
        "\n",
        "for i in range(0,main_data.shape[0]):\n",
        "  for j in range(len(main_data[i])):\n",
        "    if main_data[i][j] in main_list:\n",
        "      continue\n",
        "    else:\n",
        "      main_list.append(main_data[i][j])\n"
      ],
      "metadata": {
        "id": "D1XMpQgZaNGu"
      },
      "execution_count": 593,
      "outputs": []
    },
    {
      "cell_type": "code",
      "source": [
        "len(main_list)"
      ],
      "metadata": {
        "colab": {
          "base_uri": "https://localhost:8080/"
        },
        "id": "LOAdODtLcdYx",
        "outputId": "3c3fcf29-f648-4fbd-f712-80a131716c3d"
      },
      "execution_count": 594,
      "outputs": [
        {
          "output_type": "execute_result",
          "data": {
            "text/plain": [
              "641"
            ]
          },
          "metadata": {},
          "execution_count": 594
        }
      ]
    },
    {
      "cell_type": "code",
      "source": [
        ""
      ],
      "metadata": {
        "id": "g3t3mug4hQGE"
      },
      "execution_count": 594,
      "outputs": []
    },
    {
      "cell_type": "markdown",
      "source": [
        "###마무리 운동 리스트 만들기"
      ],
      "metadata": {
        "id": "EK1xIOMGclrO"
      }
    },
    {
      "cell_type": "code",
      "source": [
        "ispre_nomain_isend.head()"
      ],
      "metadata": {
        "colab": {
          "base_uri": "https://localhost:8080/"
        },
        "id": "8LLLV440celq",
        "outputId": "1f91f19d-381b-4d21-cdca-d625da4fcd2b"
      },
      "execution_count": 595,
      "outputs": [
        {
          "output_type": "execute_result",
          "data": {
            "text/plain": [
              "3070    운동:정적 스트레칭  루틴프로그램,베개 밟고 서기 평형성 운동 루틴 프로그램,탄력밴...\n",
              "3120                                        운동:전신 루틴 스트레칭\n",
              "3154                                        운동:전신 루틴 스트레칭\n",
              "3263                                        운동:전신 루틴 스트레칭\n",
              "4606                                        운동:전신 루틴 스트레칭\n",
              "Name: 1, dtype: object"
            ]
          },
          "metadata": {},
          "execution_count": 595
        }
      ]
    },
    {
      "cell_type": "code",
      "source": [
        "ispre_nomain_isend = ispre_nomain_isend.str.replace('운동:','')\n",
        "ispre_nomain_isend = ispre_nomain_isend.str.split(',')"
      ],
      "metadata": {
        "id": "mDUN4zL1csmK"
      },
      "execution_count": 596,
      "outputs": []
    },
    {
      "cell_type": "code",
      "source": [
        "ispre_ismain_isend.head()"
      ],
      "metadata": {
        "colab": {
          "base_uri": "https://localhost:8080/"
        },
        "id": "daReCmlbcwUE",
        "outputId": "29b55118-6158-441a-cc8d-1ece1af3d388"
      },
      "execution_count": 597,
      "outputs": [
        {
          "output_type": "execute_result",
          "data": {
            "text/plain": [
              "0    정적 스트레칭  루틴프로그램\n",
              "1    정적 스트레칭  루틴프로그램\n",
              "2         전신 루틴 스트레칭\n",
              "3    정적 스트레칭  루틴프로그램\n",
              "4    정적 스트레칭  루틴프로그램\n",
              "Name: 1, dtype: object"
            ]
          },
          "metadata": {},
          "execution_count": 597
        }
      ]
    },
    {
      "cell_type": "code",
      "source": [
        "ispre_ismain_isend = ispre_ismain_isend.str.split(',')"
      ],
      "metadata": {
        "id": "8Pa-CK2Uc41L"
      },
      "execution_count": 598,
      "outputs": []
    },
    {
      "cell_type": "code",
      "source": [
        "nopre_isend.head()"
      ],
      "metadata": {
        "colab": {
          "base_uri": "https://localhost:8080/"
        },
        "id": "luiJzj6se4lR",
        "outputId": "d0730444-e0aa-42cb-9ebb-281675b413b1"
      },
      "execution_count": 599,
      "outputs": [
        {
          "output_type": "execute_result",
          "data": {
            "text/plain": [
              "11          등/어깨 뒤쪽 스트레칭,허리 스트레칭,하지 루틴 스트레칭1,상지 루틴 스트레칭\n",
              "15    하지 루틴 스트레칭1,상지 루틴 스트레칭,유산소 운동 전 동적 루틴 스트레칭,자가근...\n",
              "41               하지 루틴 스트레칭1,상지 루틴 스트레칭,자가근막이완술 루틴 스트레칭\n",
              "42          넙다리 뒤쪽 스트레칭,넙다리 안쪽 스트레칭,유산소 운동 전 동적 루틴 스트레칭\n",
              "62                  유산소 운동 전 동적 루틴 스트레칭,자가근막이완술 루틴 스트레칭\n",
              "Name: 1, dtype: object"
            ]
          },
          "metadata": {},
          "execution_count": 599
        }
      ]
    },
    {
      "cell_type": "code",
      "source": [
        "nopre_isend = nopre_isend.str.split(',')"
      ],
      "metadata": {
        "id": "yWwLLP5ze7TR"
      },
      "execution_count": 600,
      "outputs": []
    },
    {
      "cell_type": "code",
      "source": [
        "nopre_isend.head()"
      ],
      "metadata": {
        "colab": {
          "base_uri": "https://localhost:8080/"
        },
        "id": "_9V2VM3wrl3Z",
        "outputId": "62cfd533-c6a8-4ae1-f31b-98c92ac723f6"
      },
      "execution_count": 601,
      "outputs": [
        {
          "output_type": "execute_result",
          "data": {
            "text/plain": [
              "11     [등/어깨 뒤쪽 스트레칭, 허리 스트레칭, 하지 루틴 스트레칭1, 상지 루틴 스트레칭]\n",
              "15    [하지 루틴 스트레칭1, 상지 루틴 스트레칭, 유산소 운동 전 동적 루틴 스트레칭,...\n",
              "41           [하지 루틴 스트레칭1, 상지 루틴 스트레칭, 자가근막이완술 루틴 스트레칭]\n",
              "42      [넙다리 뒤쪽 스트레칭, 넙다리 안쪽 스트레칭, 유산소 운동 전 동적 루틴 스트레칭]\n",
              "62               [유산소 운동 전 동적 루틴 스트레칭, 자가근막이완술 루틴 스트레칭]\n",
              "Name: 1, dtype: object"
            ]
          },
          "metadata": {},
          "execution_count": 601
        }
      ]
    },
    {
      "cell_type": "code",
      "source": [
        "ispre_nomain_isend.shape[0] + ispre_ismain_isend.shape[0] + nopre_isend.shape[0]"
      ],
      "metadata": {
        "colab": {
          "base_uri": "https://localhost:8080/"
        },
        "id": "EADliTyNewgN",
        "outputId": "6a2a2934-ac84-4950-cee9-6e448ad0fdda"
      },
      "execution_count": 602,
      "outputs": [
        {
          "output_type": "execute_result",
          "data": {
            "text/plain": [
              "183037"
            ]
          },
          "metadata": {},
          "execution_count": 602
        }
      ]
    },
    {
      "cell_type": "code",
      "source": [
        "end_data = pd.concat([ispre_nomain_isend, ispre_ismain_isend, nopre_isend], axis=0)\n",
        "end_data.reset_index(drop=True, inplace=True)\n",
        "end_data.shape"
      ],
      "metadata": {
        "colab": {
          "base_uri": "https://localhost:8080/"
        },
        "id": "npTLdPKue2oq",
        "outputId": "6f208376-33f0-4b0c-96e9-06ec2d4ab907"
      },
      "execution_count": 603,
      "outputs": [
        {
          "output_type": "execute_result",
          "data": {
            "text/plain": [
              "(183037,)"
            ]
          },
          "metadata": {},
          "execution_count": 603
        }
      ]
    },
    {
      "cell_type": "code",
      "source": [
        "end_list = []\n",
        "\n",
        "for i in range(0,end_data.shape[0]):\n",
        "  for j in range(len(end_data[i])):\n",
        "    if end_data[i][j] in end_list:\n",
        "      continue\n",
        "    else:\n",
        "      end_list.append(end_data[i][j])"
      ],
      "metadata": {
        "id": "UE2fP8RqfeCc"
      },
      "execution_count": 604,
      "outputs": []
    },
    {
      "cell_type": "code",
      "source": [
        "len(end_list)"
      ],
      "metadata": {
        "colab": {
          "base_uri": "https://localhost:8080/"
        },
        "id": "AYZp7gfrfyNr",
        "outputId": "1f876312-1067-448e-8307-e887851065fa"
      },
      "execution_count": 605,
      "outputs": [
        {
          "output_type": "execute_result",
          "data": {
            "text/plain": [
              "362"
            ]
          },
          "metadata": {},
          "execution_count": 605
        }
      ]
    },
    {
      "cell_type": "markdown",
      "source": [
        "##운동별 빈도\n"
      ],
      "metadata": {
        "id": "Di6pNqxZiljU"
      }
    },
    {
      "cell_type": "code",
      "source": [
        "pre_list2 = []\n",
        "\n",
        "for i in range(0,pre_data.shape[0]):\n",
        "  for j in range(len(pre_data[i])):\n",
        "    pre_list2.append(pre_data[i][j])"
      ],
      "metadata": {
        "id": "H0YUPtReZtw-"
      },
      "execution_count": 606,
      "outputs": []
    },
    {
      "cell_type": "code",
      "source": [
        "pre_list2 = pd.DataFrame(pre_list2)\n"
      ],
      "metadata": {
        "id": "0DUjom5IZ_zj"
      },
      "execution_count": 607,
      "outputs": []
    },
    {
      "cell_type": "code",
      "source": [
        "(pre_list2[0].value_counts()>10000).sum()"
      ],
      "metadata": {
        "colab": {
          "base_uri": "https://localhost:8080/"
        },
        "id": "X811ElAwbvab",
        "outputId": "745c044f-1cc6-4d17-df92-576f667394bf"
      },
      "execution_count": 613,
      "outputs": [
        {
          "output_type": "execute_result",
          "data": {
            "text/plain": [
              "17"
            ]
          },
          "metadata": {},
          "execution_count": 613
        }
      ]
    },
    {
      "cell_type": "code",
      "source": [
        "main_list2 = []\n",
        "\n",
        "for i in range(0,main_data.shape[0]):\n",
        "  for j in range(len(main_data[i])):\n",
        "    main_list2.append(main_data[i][j])\n",
        "\n",
        "main_list2 = pd.DataFrame(main_list2)\n"
      ],
      "metadata": {
        "id": "elzfuMvndmAU"
      },
      "execution_count": 609,
      "outputs": []
    },
    {
      "cell_type": "code",
      "source": [
        "(main_list2[0].value_counts()>10000).sum()"
      ],
      "metadata": {
        "colab": {
          "base_uri": "https://localhost:8080/"
        },
        "id": "GunCGrxfiq4e",
        "outputId": "6480fe7c-4f99-4efa-9c2b-cd074a40c23a"
      },
      "execution_count": 614,
      "outputs": [
        {
          "output_type": "execute_result",
          "data": {
            "text/plain": [
              "46"
            ]
          },
          "metadata": {},
          "execution_count": 614
        }
      ]
    },
    {
      "cell_type": "code",
      "source": [
        "end_list2 = []\n",
        "\n",
        "for i in range(0,end_data.shape[0]):\n",
        "  for j in range(len(end_data[i])):\n",
        "    end_list2.append(end_data[i][j])\n",
        "\n",
        "end_list2 = pd.DataFrame(end_list2)\n"
      ],
      "metadata": {
        "id": "1hFbGYB5d2zm"
      },
      "execution_count": 611,
      "outputs": []
    },
    {
      "cell_type": "code",
      "source": [
        "(end_list2[0].value_counts()>10000).sum()"
      ],
      "metadata": {
        "colab": {
          "base_uri": "https://localhost:8080/"
        },
        "id": "cGDwA4bUg3sN",
        "outputId": "d5efb881-aace-4c03-d71f-84e1ea62db4f"
      },
      "execution_count": 615,
      "outputs": [
        {
          "output_type": "execute_result",
          "data": {
            "text/plain": [
              "12"
            ]
          },
          "metadata": {},
          "execution_count": 615
        }
      ]
    },
    {
      "cell_type": "code",
      "source": [
        ""
      ],
      "metadata": {
        "id": "ynnl0NbQmipB"
      },
      "execution_count": null,
      "outputs": []
    }
  ]
}