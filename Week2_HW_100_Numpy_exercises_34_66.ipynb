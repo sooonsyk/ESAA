{
  "nbformat": 4,
  "nbformat_minor": 0,
  "metadata": {
    "colab": {
      "name": "100_Numpy_exercises_34_66.ipynb",
      "provenance": [],
      "authorship_tag": "ABX9TyM1+rk5Ug/ppIXEQvWacOp4",
      "include_colab_link": true
    },
    "kernelspec": {
      "name": "python3",
      "display_name": "Python 3"
    },
    "language_info": {
      "name": "python"
    }
  },
  "cells": [
    {
      "cell_type": "markdown",
      "metadata": {
        "id": "view-in-github",
        "colab_type": "text"
      },
      "source": [
        "<a href=\"https://colab.research.google.com/github/sooonsyk/ESAA/blob/main/Week2_HW_100_Numpy_exercises_34_66.ipynb\" target=\"_parent\"><img src=\"https://colab.research.google.com/assets/colab-badge.svg\" alt=\"Open In Colab\"/></a>"
      ]
    },
    {
      "cell_type": "code",
      "source": [
        "import numpy as np"
      ],
      "metadata": {
        "id": "bnDVieNkEtVt"
      },
      "execution_count": 34,
      "outputs": []
    },
    {
      "cell_type": "markdown",
      "metadata": {
        "id": "42f8b2f9"
      },
      "source": [
        "#### 34. How to get all the dates corresponding to the month of July 2016? (★★☆)"
      ]
    },
    {
      "cell_type": "code",
      "metadata": {
        "id": "eb8ebe45",
        "colab": {
          "base_uri": "https://localhost:8080/"
        },
        "outputId": "d6e5ad07-2ca9-4173-ca1b-fde0111e2751"
      },
      "source": [
        "np.arange('2016-07', '2016-08', dtype = 'datetime64[D]')"
      ],
      "execution_count": 6,
      "outputs": [
        {
          "output_type": "execute_result",
          "data": {
            "text/plain": [
              "array(['2016-07-01', '2016-07-02', '2016-07-03', '2016-07-04',\n",
              "       '2016-07-05', '2016-07-06', '2016-07-07', '2016-07-08',\n",
              "       '2016-07-09', '2016-07-10', '2016-07-11', '2016-07-12',\n",
              "       '2016-07-13', '2016-07-14', '2016-07-15', '2016-07-16',\n",
              "       '2016-07-17', '2016-07-18', '2016-07-19', '2016-07-20',\n",
              "       '2016-07-21', '2016-07-22', '2016-07-23', '2016-07-24',\n",
              "       '2016-07-25', '2016-07-26', '2016-07-27', '2016-07-28',\n",
              "       '2016-07-29', '2016-07-30', '2016-07-31'], dtype='datetime64[D]')"
            ]
          },
          "metadata": {},
          "execution_count": 6
        }
      ]
    },
    {
      "cell_type": "markdown",
      "source": [
        "Numpy 의 날짜/시간 클래스는 datatime64\n",
        "- 한 클래스로 날짜시간, 날짜, 시간을 모두 정의할 수 있음\n",
        "- 날짜, 시간 타입은 일반적인 정수, 실수끼리 연산할 때와 달리 단위를 가지고 있는 점 때문에 시간의 차이를 저장하는 별도의 클래스가 있음 -> 이를 timedelta라고 함 \n",
        "- 날짜, 시간은 특정 시점의 시각을 표시하는 용도이고(2021년 3월 16일), 타임델타는 기간 또는 시간 차이를 표시하는 용도(5일)\n",
        "\n",
        "출처: https://ellun.tistory.com/320 [Ellun's Library]\n",
        " 타임델타 클래스는 timedelta64"
      ],
      "metadata": {
        "id": "ZTRAa4eeFOHH"
      }
    },
    {
      "cell_type": "markdown",
      "metadata": {
        "id": "252c43e2"
      },
      "source": [
        "#### 35. How to compute ((A+B)*(-A/2)) in place (without copy)? (★★☆)"
      ]
    },
    {
      "cell_type": "code",
      "metadata": {
        "id": "f06ff615",
        "colab": {
          "base_uri": "https://localhost:8080/"
        },
        "outputId": "7f97ddc5-5747-4292-e651-2154685c955f"
      },
      "source": [
        "A = np.arange(5) * 1.0  #divide한 결과 값을 저장하려면 A가 float이어야 함\n",
        "B = np.ones(5)\n",
        "print(A, B)\n",
        "np.add(A,B,out=B)   # A*B를 B에 저장\n",
        "np.negative(A,out=A)  # -A를 A에 저장\n",
        "np.divide(A,2,out=A)  # A/2를 A에 저장 즉 -A/2\n",
        "np.multiply(A,B)   #(A+B)가 B에 (-A/2)가 A에 저장되어있으므로  "
      ],
      "execution_count": 78,
      "outputs": [
        {
          "output_type": "stream",
          "name": "stdout",
          "text": [
            "[0. 1. 2. 3. 4.] [1. 1. 1. 1. 1.]\n"
          ]
        },
        {
          "output_type": "execute_result",
          "data": {
            "text/plain": [
              "array([ -0.,  -1.,  -3.,  -6., -10.])"
            ]
          },
          "metadata": {},
          "execution_count": 78
        }
      ]
    },
    {
      "cell_type": "markdown",
      "metadata": {
        "id": "486df8ea"
      },
      "source": [
        "#### 36. Extract the integer part of a random array of positive numbers using 4 different methods (★★☆)"
      ]
    },
    {
      "cell_type": "code",
      "metadata": {
        "id": "34b4fa08",
        "colab": {
          "base_uri": "https://localhost:8080/"
        },
        "outputId": "c9305a14-7188-41fa-992a-1d7890b4622d"
      },
      "source": [
        "array36 = np.random.uniform(0,10,10) #uniform 분포 0~10을 넘지 않는 수 중 10개 \n",
        "print(array36)"
      ],
      "execution_count": 11,
      "outputs": [
        {
          "output_type": "stream",
          "name": "stdout",
          "text": [
            "[9.34350262 2.98750517 5.41255198 8.16708731 1.48165041 0.1515026\n",
            " 3.68037973 3.89568283 1.24706361 9.97076424]\n"
          ]
        }
      ]
    },
    {
      "cell_type": "code",
      "source": [
        "print(array36 // 1)  #1로 나눈 몫\n",
        "print(array36 - array36 % 1) # 원래 값에서 1로 나눈 나머지 뺴줌\n",
        "print(np.floor(array36)) #버림\n",
        "print(array36.astype('int'))  #정수로 타입 변환"
      ],
      "metadata": {
        "colab": {
          "base_uri": "https://localhost:8080/"
        },
        "id": "puIDfBZJIJoU",
        "outputId": "92cc325a-dd40-40f9-da82-e3ec9434f096"
      },
      "execution_count": 20,
      "outputs": [
        {
          "output_type": "stream",
          "name": "stdout",
          "text": [
            "[9. 2. 5. 8. 1. 0. 3. 3. 1. 9.]\n",
            "[9. 2. 5. 8. 1. 0. 3. 3. 1. 9.]\n",
            "[9. 2. 5. 8. 1. 0. 3. 3. 1. 9.]\n",
            "[9 2 5 8 1 0 3 3 1 9]\n"
          ]
        }
      ]
    },
    {
      "cell_type": "markdown",
      "metadata": {
        "id": "649e89f9"
      },
      "source": [
        "#### 37. Create a 5x5 matrix with row values ranging from 0 to 4 (★★☆)"
      ]
    },
    {
      "cell_type": "code",
      "metadata": {
        "id": "663cc611",
        "colab": {
          "base_uri": "https://localhost:8080/"
        },
        "outputId": "c553b61e-cd52-45be-ce4d-e40d66df77c4"
      },
      "source": [
        "array37 = np.zeros((5,5))\n",
        "array37 += np.arange(0,5)\n",
        "print(array37)"
      ],
      "execution_count": 23,
      "outputs": [
        {
          "output_type": "stream",
          "name": "stdout",
          "text": [
            "[[0. 1. 2. 3. 4.]\n",
            " [0. 1. 2. 3. 4.]\n",
            " [0. 1. 2. 3. 4.]\n",
            " [0. 1. 2. 3. 4.]\n",
            " [0. 1. 2. 3. 4.]]\n"
          ]
        }
      ]
    },
    {
      "cell_type": "markdown",
      "metadata": {
        "id": "3421e17f"
      },
      "source": [
        "#### 38. Consider a generator function that generates 10 integers and use it to build an array (★☆☆)"
      ]
    },
    {
      "cell_type": "code",
      "metadata": {
        "id": "7336b8e4",
        "colab": {
          "base_uri": "https://localhost:8080/"
        },
        "outputId": "2973aa07-61e5-4283-968e-9b5977e88189"
      },
      "source": [
        "np.random.randint(0,100,10)"
      ],
      "execution_count": 46,
      "outputs": [
        {
          "output_type": "execute_result",
          "data": {
            "text/plain": [
              "array([12, 30, 24, 16, 29, 58, 74, 50, 89, 76])"
            ]
          },
          "metadata": {},
          "execution_count": 46
        }
      ]
    },
    {
      "cell_type": "markdown",
      "metadata": {
        "id": "483dd554"
      },
      "source": [
        "#### 39. Create a vector of size 10 with values ranging from 0 to 1, both excluded (★★☆)"
      ]
    },
    {
      "cell_type": "code",
      "metadata": {
        "id": "c89b93e7",
        "colab": {
          "base_uri": "https://localhost:8080/"
        },
        "outputId": "b5a538a5-cc5f-431b-b459-8009074236fb"
      },
      "source": [
        "np.linspace(0,1,11, endpoint = False)[1:]"
      ],
      "execution_count": 28,
      "outputs": [
        {
          "output_type": "execute_result",
          "data": {
            "text/plain": [
              "array([0.09090909, 0.18181818, 0.27272727, 0.36363636, 0.45454545,\n",
              "       0.54545455, 0.63636364, 0.72727273, 0.81818182, 0.90909091])"
            ]
          },
          "metadata": {},
          "execution_count": 28
        }
      ]
    },
    {
      "cell_type": "markdown",
      "source": [
        "linspace() : 일정 간격으로 array 생성\n",
        "- start 부터 end까지 일정 간격으로 array를 생성하고 endpoint로 end 포함 여부 설정 가능"
      ],
      "metadata": {
        "id": "D6RY2ZAnLLXJ"
      }
    },
    {
      "cell_type": "markdown",
      "metadata": {
        "id": "2d07be1c"
      },
      "source": [
        "#### 40. Create a random vector of size 10 and sort it (★★☆)"
      ]
    },
    {
      "cell_type": "code",
      "metadata": {
        "id": "4f7cb3ad",
        "colab": {
          "base_uri": "https://localhost:8080/"
        },
        "outputId": "1b5efdb8-18ad-4926-a5be-beca94ccfc75"
      },
      "source": [
        "array40 = np.random.random(10)\n",
        "print(array40)\n",
        "print(sorted(array40))"
      ],
      "execution_count": 33,
      "outputs": [
        {
          "output_type": "stream",
          "name": "stdout",
          "text": [
            "[0.38944106 0.04853889 0.8551897  0.58130558 0.33362214 0.04580377\n",
            " 0.40261696 0.2122648  0.37941979 0.32336734]\n",
            "[0.045803768976765635, 0.048538885258757936, 0.2122647982096023, 0.3233673397601864, 0.33362214376913846, 0.3794197938642736, 0.3894410641761161, 0.4026169640665175, 0.5813055800279638, 0.8551897037994448]\n"
          ]
        }
      ]
    },
    {
      "cell_type": "markdown",
      "metadata": {
        "id": "6415f02e"
      },
      "source": [
        "#### 41. How to sum a small array faster than np.sum? (★★☆)"
      ]
    },
    {
      "cell_type": "code",
      "metadata": {
        "id": "bb0dd942",
        "colab": {
          "base_uri": "https://localhost:8080/"
        },
        "outputId": "4986740b-c587-418f-e672-851d7c4e4d1b"
      },
      "source": [
        "%%time\n",
        "array41 = np.arange(10)\n",
        "np.sum(array41)"
      ],
      "execution_count": 2,
      "outputs": [
        {
          "output_type": "stream",
          "name": "stdout",
          "text": [
            "CPU times: user 1.26 ms, sys: 0 ns, total: 1.26 ms\n",
            "Wall time: 5.03 ms\n"
          ]
        }
      ]
    },
    {
      "cell_type": "code",
      "source": [
        "%%time\n",
        "array41 = np.arange(10)\n",
        "np.add.reduce(array41)"
      ],
      "metadata": {
        "colab": {
          "base_uri": "https://localhost:8080/"
        },
        "id": "UKz8HuwVWDaL",
        "outputId": "610359c3-0308-4956-c714-1d8bfc320f42"
      },
      "execution_count": 4,
      "outputs": [
        {
          "output_type": "stream",
          "name": "stdout",
          "text": [
            "CPU times: user 1.43 ms, sys: 0 ns, total: 1.43 ms\n",
            "Wall time: 1.44 ms\n"
          ]
        }
      ]
    },
    {
      "cell_type": "markdown",
      "source": [
        "- reduce() : 해당연산을 배열 요소에 반복 적용해줌\n",
        "- %%time : jupyter에서 한 cell의 실행시간을 출력해줌\n"
      ],
      "metadata": {
        "id": "ddfRZM71V2od"
      }
    },
    {
      "cell_type": "markdown",
      "metadata": {
        "id": "fe043549"
      },
      "source": [
        "#### 42. Consider two random array A and B, check if they are equal (★★☆)"
      ]
    },
    {
      "cell_type": "code",
      "metadata": {
        "id": "3326a686",
        "colab": {
          "base_uri": "https://localhost:8080/"
        },
        "outputId": "d8c14fc5-0c54-48d3-92ea-e2c800174429"
      },
      "source": [
        "A = np.random.random(10)\n",
        "B = np.random.random(10)\n",
        "print(A)\n",
        "print(B)\n",
        "np.array_equal(A,B)"
      ],
      "execution_count": 36,
      "outputs": [
        {
          "output_type": "stream",
          "name": "stdout",
          "text": [
            "[0.11966142 0.80353596 0.92580991 0.18535398 0.52513992 0.26321979\n",
            " 0.72321151 0.02451226 0.46818845 0.75377351]\n",
            "[0.08106608 0.08108216 0.66812283 0.23242862 0.42198944 0.32877393\n",
            " 0.20852977 0.01346885 0.0716275  0.50209232]\n"
          ]
        },
        {
          "output_type": "execute_result",
          "data": {
            "text/plain": [
              "False"
            ]
          },
          "metadata": {},
          "execution_count": 36
        }
      ]
    },
    {
      "cell_type": "markdown",
      "source": [
        "np.array_equal() : 2개의 배열이 동일한지 비교해줌\n",
        "- nan이 포함된 경우 다르다고 나옴\n",
        "\n",
        "\n"
      ],
      "metadata": {
        "id": "wBen2dHqM24O"
      }
    },
    {
      "cell_type": "markdown",
      "metadata": {
        "id": "cc08f71c"
      },
      "source": [
        "#### 43. Make an array immutable (read-only) (★★☆)"
      ]
    },
    {
      "cell_type": "code",
      "metadata": {
        "id": "d5cc9dbe",
        "colab": {
          "base_uri": "https://localhost:8080/",
          "height": 236
        },
        "outputId": "6095521a-0b69-47a6-9fb8-749a8170b92d"
      },
      "source": [
        "array43 = np.random.random(10)\n",
        "array43.flags.writeable = False\n",
        "print(array43)\n",
        "array43[0] = 0"
      ],
      "execution_count": 40,
      "outputs": [
        {
          "output_type": "stream",
          "name": "stdout",
          "text": [
            "[0.31875195 0.45596623 0.96712236 0.44230697 0.251311   0.28388834\n",
            " 0.11273786 0.69335796 0.08957091 0.94914145]\n"
          ]
        },
        {
          "output_type": "error",
          "ename": "ValueError",
          "evalue": "ignored",
          "traceback": [
            "\u001b[0;31m---------------------------------------------------------------------------\u001b[0m",
            "\u001b[0;31mValueError\u001b[0m                                Traceback (most recent call last)",
            "\u001b[0;32m<ipython-input-40-77aa5ff0bbe0>\u001b[0m in \u001b[0;36m<module>\u001b[0;34m()\u001b[0m\n\u001b[1;32m      2\u001b[0m \u001b[0marray43\u001b[0m\u001b[0;34m.\u001b[0m\u001b[0mflags\u001b[0m\u001b[0;34m.\u001b[0m\u001b[0mwriteable\u001b[0m \u001b[0;34m=\u001b[0m \u001b[0;32mFalse\u001b[0m\u001b[0;34m\u001b[0m\u001b[0;34m\u001b[0m\u001b[0m\n\u001b[1;32m      3\u001b[0m \u001b[0mprint\u001b[0m\u001b[0;34m(\u001b[0m\u001b[0marray43\u001b[0m\u001b[0;34m)\u001b[0m\u001b[0;34m\u001b[0m\u001b[0;34m\u001b[0m\u001b[0m\n\u001b[0;32m----> 4\u001b[0;31m \u001b[0marray43\u001b[0m\u001b[0;34m[\u001b[0m\u001b[0;36m0\u001b[0m\u001b[0;34m]\u001b[0m \u001b[0;34m=\u001b[0m \u001b[0;36m0\u001b[0m\u001b[0;34m\u001b[0m\u001b[0;34m\u001b[0m\u001b[0m\n\u001b[0m",
            "\u001b[0;31mValueError\u001b[0m: assignment destination is read-only"
          ]
        }
      ]
    },
    {
      "cell_type": "markdown",
      "source": [
        "ndarray.flags : Information about the memory layout of the array.\n",
        "- WRITEABLE (W) : Setting this to False locks the data, making it read-only. "
      ],
      "metadata": {
        "id": "ZXYB_lbePdnL"
      }
    },
    {
      "cell_type": "markdown",
      "metadata": {
        "id": "2002cb03"
      },
      "source": [
        "#### 44. Consider a random 10x2 matrix representing cartesian coordinates, convert them to polar coordinates (★★☆)"
      ]
    },
    {
      "cell_type": "code",
      "metadata": {
        "id": "58be72bc",
        "colab": {
          "base_uri": "https://localhost:8080/"
        },
        "outputId": "b7810646-9347-4a9e-dbf6-905306d2051b"
      },
      "source": [
        "array44 = np.random.random((10,2))\n",
        "print(array44)\n",
        "X = array44[:,0]\n",
        "Y = array44[:,1]\n",
        "R = np.sqrt(X**2 + Y**2)\n",
        "T = np.arctan2(Y,X) \n",
        "print(R, T)"
      ],
      "execution_count": 8,
      "outputs": [
        {
          "output_type": "stream",
          "name": "stdout",
          "text": [
            "[[0.53835993 0.54999601]\n",
            " [0.55557946 0.3503319 ]\n",
            " [0.06356413 0.05269164]\n",
            " [0.93279089 0.54438872]\n",
            " [0.23737589 0.49820893]\n",
            " [0.21540938 0.89234791]\n",
            " [0.37515786 0.59376965]\n",
            " [0.54910502 0.74178275]\n",
            " [0.42999432 0.68786106]\n",
            " [0.51387113 0.11077921]]\n",
            "[0.76962785 0.65681122 0.08256396 1.08002681 0.55186905 0.9179793\n",
            " 0.70235733 0.92290734 0.81120155 0.5256763 ] [0.79608918 0.56259489 0.69214721 0.52828295 1.12615864 1.33393162\n",
            " 1.00730497 0.93356418 1.01211217 0.21232837]\n"
          ]
        }
      ]
    },
    {
      "cell_type": "markdown",
      "source": [
        "- numpy.arctan(x1, x2) : arc tangent of x1/x2 : 출력 범위가 [-pi/2, pi/2], 180도 이상 차이나는 각의 arctan 값은 구분이 안됨(ex: arctan(0), arctan(180) 은 같음).\n",
        "\n",
        "- numpy.arctan2(x1, x2) : arc tangent of x1/x2, 출력 범위가 [-pi, pi], C언어 atan2 함수와 같음.\n",
        "\n",
        "\n",
        "출처: https://belitino.tistory.com/264 [belitino]"
      ],
      "metadata": {
        "id": "Xx9gsnAgafEm"
      }
    },
    {
      "cell_type": "markdown",
      "metadata": {
        "id": "b7109c9f"
      },
      "source": [
        "#### 45. Create random vector of size 10 and replace the maximum value by 0 (★★☆)"
      ]
    },
    {
      "cell_type": "code",
      "metadata": {
        "id": "f79e79a7",
        "colab": {
          "base_uri": "https://localhost:8080/"
        },
        "outputId": "9ebd86cf-cc13-415e-8baa-e5258c626475"
      },
      "source": [
        "array45 = np.random.random(10)\n",
        "print(array45)\n",
        "array45[array45.argmax()] = 0\n",
        "print(array45)"
      ],
      "execution_count": 43,
      "outputs": [
        {
          "output_type": "stream",
          "name": "stdout",
          "text": [
            "[0.82781278 0.71544508 0.98088615 0.66886972 0.14437605 0.02759876\n",
            " 0.97395218 0.71896052 0.74694878 0.90940589]\n",
            "[0.82781278 0.71544508 0.         0.66886972 0.14437605 0.02759876\n",
            " 0.97395218 0.71896052 0.74694878 0.90940589]\n"
          ]
        }
      ]
    },
    {
      "cell_type": "markdown",
      "source": [
        "ndarray.argmax() : array 속 최댓값의 index를 반환하는 함수"
      ],
      "metadata": {
        "id": "PwUxZRDnRF94"
      }
    },
    {
      "cell_type": "markdown",
      "metadata": {
        "id": "7d3131b9"
      },
      "source": [
        "#### 46. Create a structured array with `x` and `y` coordinates covering the [0,1]x[0,1] area (★★☆)"
      ]
    },
    {
      "cell_type": "code",
      "metadata": {
        "id": "4f471afe",
        "colab": {
          "base_uri": "https://localhost:8080/"
        },
        "outputId": "6e4f9d78-1e79-4c72-b6eb-10710b71cd28"
      },
      "source": [
        "array46_struct = np.dtype([('x','float'),('y','float')])\n",
        "np.zeros((5,5),array46_struct)"
      ],
      "execution_count": 81,
      "outputs": [
        {
          "output_type": "execute_result",
          "data": {
            "text/plain": [
              "array([[(0., 0.), (0., 0.), (0., 0.), (0., 0.), (0., 0.)],\n",
              "       [(0., 0.), (0., 0.), (0., 0.), (0., 0.), (0., 0.)],\n",
              "       [(0., 0.), (0., 0.), (0., 0.), (0., 0.), (0., 0.)],\n",
              "       [(0., 0.), (0., 0.), (0., 0.), (0., 0.), (0., 0.)],\n",
              "       [(0., 0.), (0., 0.), (0., 0.), (0., 0.), (0., 0.)]],\n",
              "      dtype=[('x', '<f8'), ('y', '<f8')])"
            ]
          },
          "metadata": {},
          "execution_count": 81
        }
      ]
    },
    {
      "cell_type": "markdown",
      "metadata": {
        "id": "7c8c1fc5"
      },
      "source": [
        "#### 47. Given two arrays, X and Y, construct the Cauchy matrix C (Cij =1/(xi - yj)) (★★☆)"
      ]
    },
    {
      "cell_type": "code",
      "metadata": {
        "id": "8fac7d28",
        "colab": {
          "base_uri": "https://localhost:8080/"
        },
        "outputId": "c868058d-19f9-4edb-a7ec-92e8a677e05c"
      },
      "source": [
        "X = np.random.random(10)\n",
        "Y = np.random.random(10)\n",
        "C = 1/np.subtract.outer(X,Y)\n",
        "print(C)"
      ],
      "execution_count": 49,
      "outputs": [
        {
          "output_type": "stream",
          "name": "stdout",
          "text": [
            "[[  -26.7892124     -2.29451569    -2.9080843     -1.29879299\n",
            "     -5.10317445   -10.82132304    -2.25123713   -18.04423657\n",
            "     -2.27519507    -1.64106973]\n",
            " [    1.81130837     6.51068166     4.07254705    -5.53924327\n",
            "      2.54156018     2.01205047     6.88632386     1.87267247\n",
            "      6.67143388   -50.14275637]\n",
            " [    3.27287873   -10.75824715 -1000.8876079     -2.34150489\n",
            "      6.8067304      3.9926578     -9.86871324     3.47885965\n",
            "    -10.34630329    -3.75250358]\n",
            " [    7.76384555    -3.70794435    -5.6262469     -1.65613631\n",
            "    -33.52796169    13.56475411    -3.59622198     9.03250566\n",
            "     -3.65774958    -2.25617506]\n",
            " [    1.30728132     2.72886342     2.18147344    30.93187649\n",
            "      1.64929875     1.40871934     2.79271458     1.33894728\n",
            "      2.75670432     5.18359992]\n",
            " [    4.6713852     -5.42228498   -10.81417048    -1.92846209\n",
            "     18.03710676     6.28979942    -5.1866552      5.10260402\n",
            "     -5.31561381    -2.79360118]\n",
            " [    5.20008923    -4.84992       -8.75379749    -1.8507798\n",
            "     29.69439336     7.28742356    -4.66054119     5.74008351\n",
            "     -4.76440263    -2.63347938]\n",
            " [    3.13754446   -12.53560461    82.10144017    -2.41606237\n",
            "      6.24638564     3.79306697   -11.34414949     3.32635151\n",
            "    -11.97981954    -3.94773848]\n",
            " [    3.58561695    -8.36111118   -36.16833283    -2.20397745\n",
            "      8.3150381      4.46806864    -7.81373825     3.83433917\n",
            "     -8.11015132    -3.41136098]\n",
            " [   18.65296199    -2.89953764    -3.95366713    -1.47274018\n",
            "     -9.52224851  -679.85807198    -2.83076851    28.15324096\n",
            "     -2.86875306    -1.92894023]]\n"
          ]
        }
      ]
    },
    {
      "cell_type": "markdown",
      "source": [
        "numpy.ufunc.outer() : Apply the ufunc op to all pairs (a, b) with a in A and b in B."
      ],
      "metadata": {
        "id": "Oc4HaPkUUNRx"
      }
    },
    {
      "cell_type": "markdown",
      "metadata": {
        "id": "5795b4bd"
      },
      "source": [
        "#### 48. Print the minimum and maximum representable value for each numpy scalar type (★★☆)"
      ]
    },
    {
      "cell_type": "code",
      "metadata": {
        "id": "b721f7ca",
        "colab": {
          "base_uri": "https://localhost:8080/"
        },
        "outputId": "7ed29a84-3a48-4b65-902d-05b5e7e8199c"
      },
      "source": [
        "print(np.iinfo(np.int8).min, np.iinfo(np.int8).max )\n",
        "print(np.iinfo(np.int32).min, np.iinfo(np.int32).max )\n",
        "print(np.iinfo(np.int64).min, np.iinfo(np.int64).max )\n",
        "print(np.finfo(np.float32).min, np.finfo(np.float32).max )"
      ],
      "execution_count": 10,
      "outputs": [
        {
          "output_type": "stream",
          "name": "stdout",
          "text": [
            "-128 127\n",
            "-2147483648 2147483647\n",
            "-9223372036854775808 9223372036854775807\n",
            "-3.4028235e+38 3.4028235e+38\n"
          ]
        }
      ]
    },
    {
      "cell_type": "markdown",
      "source": [
        "- iinfo와 finfo는 각각 int와 float의 표현가능한 수의 한계를 반환"
      ],
      "metadata": {
        "id": "Faq2w1gTZcAy"
      }
    },
    {
      "cell_type": "markdown",
      "metadata": {
        "id": "fb24674c"
      },
      "source": [
        "#### 49. How to print all the values of an array? (★★☆)"
      ]
    },
    {
      "cell_type": "code",
      "metadata": {
        "id": "c81f1456"
      },
      "source": [
        "np.set_printoptions(threshold=np.inf)\n",
        "#한 라인의 너비를 무한대로 설정"
      ],
      "execution_count": 13,
      "outputs": []
    },
    {
      "cell_type": "markdown",
      "metadata": {
        "id": "e6e1ae2f"
      },
      "source": [
        "#### 50. How to find the closest value (to a given scalar) in a vector? (★★☆)"
      ]
    },
    {
      "cell_type": "code",
      "metadata": {
        "id": "73dd91cc",
        "colab": {
          "base_uri": "https://localhost:8080/"
        },
        "outputId": "a56c3316-d44e-4feb-ce70-55bfa4c076cb"
      },
      "source": [
        "array50 = np.random.randint(0,100,30)\n",
        "num = np.random.randint(0,100,1)\n",
        "print(array50, num)\n",
        "np.abs(array50 - num).argmin()\n",
        "#차의 절댓값이 가장 작은 index 반환"
      ],
      "execution_count": 13,
      "outputs": [
        {
          "output_type": "stream",
          "name": "stdout",
          "text": [
            "[23 77 51 49 63 74 99 11 55 41 32 22 52 43 21 56 74 23  0 72 63  2 49 74\n",
            " 82 10 20 20 42 52] [64]\n"
          ]
        },
        {
          "output_type": "execute_result",
          "data": {
            "text/plain": [
              "4"
            ]
          },
          "metadata": {},
          "execution_count": 13
        }
      ]
    },
    {
      "cell_type": "markdown",
      "metadata": {
        "id": "c01f0ecf"
      },
      "source": [
        "#### 51. Create a structured array representing a position (x,y) and a color (r,g,b) (★★☆)"
      ]
    },
    {
      "cell_type": "code",
      "metadata": {
        "id": "fb8017ca",
        "colab": {
          "base_uri": "https://localhost:8080/"
        },
        "outputId": "da66c275-a085-4fb3-e610-1011f72ba334"
      },
      "source": [
        "array51_struct = np.dtype([('xy','f',2),('rgb','f',3)])\n",
        "np.zeros(10, array51_struct)"
      ],
      "execution_count": 59,
      "outputs": [
        {
          "output_type": "execute_result",
          "data": {
            "text/plain": [
              "array([([0., 0.], [0., 0., 0.]), ([0., 0.], [0., 0., 0.]),\n",
              "       ([0., 0.], [0., 0., 0.]), ([0., 0.], [0., 0., 0.]),\n",
              "       ([0., 0.], [0., 0., 0.]), ([0., 0.], [0., 0., 0.]),\n",
              "       ([0., 0.], [0., 0., 0.]), ([0., 0.], [0., 0., 0.]),\n",
              "       ([0., 0.], [0., 0., 0.]), ([0., 0.], [0., 0., 0.])],\n",
              "      dtype=[('xy', '<f4', (2,)), ('rgb', '<f4', (3,))])"
            ]
          },
          "metadata": {},
          "execution_count": 59
        }
      ]
    },
    {
      "cell_type": "markdown",
      "source": [
        "dtype를 지정해서 structured array 만듦\n",
        "- 각각 x,y를 나타내는 float 2개의 tuple과 각각 r,g,b를 나타내는 float 3개의 tuple이 한 쌍이 되어 하나의 element가 됨"
      ],
      "metadata": {
        "id": "rsFu8t1cMTpq"
      }
    },
    {
      "cell_type": "markdown",
      "metadata": {
        "id": "3b64a18b"
      },
      "source": [
        "#### 52. Consider a random vector with shape (100,2) representing coordinates, find point by point distances (★★☆)"
      ]
    },
    {
      "cell_type": "code",
      "metadata": {
        "id": "4b482822",
        "colab": {
          "base_uri": "https://localhost:8080/"
        },
        "outputId": "6daca67a-99e9-4ba6-c521-d936d558f437"
      },
      "source": [
        "array52 = np.random.random((10,2))\n",
        "print(array52)\n",
        "X, Y = np.atleast_2d(array52[:,0], array52[:,1])\n",
        "print(X, Y)\n",
        "np.sqrt((X-X.T)**2 + (Y-Y.T)**2)\n"
      ],
      "execution_count": 6,
      "outputs": [
        {
          "output_type": "stream",
          "name": "stdout",
          "text": [
            "[[0.36914016 0.09274678]\n",
            " [0.8799969  0.71298482]\n",
            " [0.2402256  0.66018225]\n",
            " [0.80529019 0.25840883]\n",
            " [0.30917779 0.66617826]\n",
            " [0.52935304 0.28029943]\n",
            " [0.05907566 0.54924312]\n",
            " [0.38816171 0.30600472]\n",
            " [0.82365256 0.6065951 ]\n",
            " [0.77633476 0.90629257]]\n",
            "[[0.36914016 0.8799969  0.2402256  0.80529019 0.30917779 0.52935304\n",
            "  0.05907566 0.38816171 0.82365256 0.77633476]] [[0.09274678 0.71298482 0.66018225 0.25840883 0.66617826 0.28029943\n",
            "  0.54924312 0.30600472 0.6065951  0.90629257]]\n"
          ]
        },
        {
          "output_type": "execute_result",
          "data": {
            "text/plain": [
              "array([[0.        , 0.80353583, 0.58189516, 0.46655199, 0.57655802,\n",
              "        0.24666609, 0.55184138, 0.21410457, 0.68601867, 0.90976051],\n",
              "       [0.80353583, 0.        , 0.6419466 , 0.46067388, 0.57273494,\n",
              "        0.55692707, 0.83709201, 0.63838441, 0.12038877, 0.21934841],\n",
              "       [0.58189516, 0.6419466 , 0.        , 0.69333965, 0.0692124 ,\n",
              "        0.47739463, 0.21242126, 0.38383176, 0.58588275, 0.58990111],\n",
              "       [0.46655199, 0.46067388, 0.69333965, 0.        , 0.64218644,\n",
              "        0.2768041 , 0.80088746, 0.41983513, 0.34867013, 0.64853046],\n",
              "       [0.57655802, 0.57273494, 0.0692124 , 0.64218644, 0.        ,\n",
              "        0.44427426, 0.27608858, 0.36873221, 0.51791355, 0.52525281],\n",
              "       [0.24666609, 0.55692707, 0.47739463, 0.2768041 , 0.44427426,\n",
              "        0.        , 0.54174859, 0.14351221, 0.43940992, 0.67295422],\n",
              "       [0.55184138, 0.83709201, 0.21242126, 0.80088746, 0.27608858,\n",
              "        0.54174859, 0.        , 0.40922189, 0.76672491, 0.80121466],\n",
              "       [0.21410457, 0.63838441, 0.38383176, 0.41983513, 0.36873221,\n",
              "        0.14351221, 0.40922189, 0.        , 0.52915674, 0.7148593 ],\n",
              "       [0.68601867, 0.12038877, 0.58588275, 0.34867013, 0.51791355,\n",
              "        0.43940992, 0.76672491, 0.52915674, 0.        , 0.30340987],\n",
              "       [0.90976051, 0.21934841, 0.58990111, 0.64853046, 0.52525281,\n",
              "        0.67295422, 0.80121466, 0.7148593 , 0.30340987, 0.        ]])"
            ]
          },
          "metadata": {},
          "execution_count": 6
        }
      ]
    },
    {
      "cell_type": "markdown",
      "source": [
        "numpy.atleast_2d() : View inputs as arrays with at least two dimensions."
      ],
      "metadata": {
        "id": "ec33JCRxOSsJ"
      }
    },
    {
      "cell_type": "markdown",
      "metadata": {
        "id": "48413134"
      },
      "source": [
        "#### 53. How to convert a float (32 bits) array into an integer (32 bits) in place?"
      ]
    },
    {
      "cell_type": "code",
      "metadata": {
        "id": "5db64b6d",
        "colab": {
          "base_uri": "https://localhost:8080/"
        },
        "outputId": "32bf4ab9-b944-436b-ec42-a2bc495368ee"
      },
      "source": [
        "array53 = np.arange(10, dtype = np.float32)\n",
        "print(array53)\n",
        "array53.astype(np.int32)"
      ],
      "execution_count": 68,
      "outputs": [
        {
          "output_type": "stream",
          "name": "stdout",
          "text": [
            "[0. 1. 2. 3. 4. 5. 6. 7. 8. 9.]\n"
          ]
        },
        {
          "output_type": "execute_result",
          "data": {
            "text/plain": [
              "array([0, 1, 2, 3, 4, 5, 6, 7, 8, 9], dtype=int32)"
            ]
          },
          "metadata": {},
          "execution_count": 68
        }
      ]
    },
    {
      "cell_type": "markdown",
      "metadata": {
        "id": "0a532633"
      },
      "source": [
        "#### 54. How to read the following file? (★★☆)\n",
        "```\n",
        "1, 2, 3, 4, 5\n",
        "6,  ,  , 7, 8\n",
        " ,  , 9,10,11\n",
        "```"
      ]
    },
    {
      "cell_type": "code",
      "metadata": {
        "id": "8af4f753",
        "colab": {
          "base_uri": "https://localhost:8080/"
        },
        "outputId": "73891850-fcc2-44ce-df27-e39becd87590"
      },
      "source": [
        "from io import StringIO\n",
        "\n",
        "string = StringIO(\"\"\"1, 2, 3, 4, 5\n",
        "                     6,  ,  , 7, 8\\n\n",
        "                     ,  , 9,10,11\\n\"\"\")\n",
        "np.genfromtxt(string, delimiter=\",\", dtype=np.int)"
      ],
      "execution_count": 8,
      "outputs": [
        {
          "output_type": "stream",
          "name": "stderr",
          "text": [
            "/usr/local/lib/python3.7/dist-packages/ipykernel_launcher.py:6: DeprecationWarning: `np.int` is a deprecated alias for the builtin `int`. To silence this warning, use `int` by itself. Doing this will not modify any behavior and is safe. When replacing `np.int`, you may wish to use e.g. `np.int64` or `np.int32` to specify the precision. If you wish to review your current use, check the release note link for additional information.\n",
            "Deprecated in NumPy 1.20; for more details and guidance: https://numpy.org/devdocs/release/1.20.0-notes.html#deprecations\n",
            "  \n"
          ]
        },
        {
          "output_type": "execute_result",
          "data": {
            "text/plain": [
              "array([[ 1,  2,  3,  4,  5],\n",
              "       [ 6, -1, -1,  7,  8],\n",
              "       [-1, -1,  9, 10, 11]])"
            ]
          },
          "metadata": {},
          "execution_count": 8
        }
      ]
    },
    {
      "cell_type": "markdown",
      "source": [
        "- StringIO 는 파일처럼 취급되는 객체를 만들지만 실제 파일은 아니고 보여주기 위한 코드임\n",
        "- numpy.genfromtxt() : 텍스트 파일을 numpy array 형식으로 바꾸어줌\n",
        " - 불러올 파일의 주소를 먼저 입력하고, dtype은 파일에서 불러온 행렬을 어떤 데이터 타입으로 출력할질 정하는 것이고, delimiter=' '는 불러오는 파일에 있는 데이터들을 띄어쓰기를 기준으로 행렬의 성분으로 인식하겠다는 겁니다.\n",
        "[출처] Python_Numpy_행렬입출력 genfromtxt|작성자 캘리집"
      ],
      "metadata": {
        "id": "zVaeCNjcSL0q"
      }
    },
    {
      "cell_type": "markdown",
      "metadata": {
        "id": "f98713a6"
      },
      "source": [
        "#### 55. What is the equivalent of enumerate for numpy arrays? (★★☆)"
      ]
    },
    {
      "cell_type": "code",
      "metadata": {
        "id": "64795f84",
        "colab": {
          "base_uri": "https://localhost:8080/"
        },
        "outputId": "8b1a2c85-f9d1-4308-9f26-8f72352ca25e"
      },
      "source": [
        "array55 = np.arange(9).reshape(3,3)\n",
        "print(array55)\n",
        "for index, x in np.ndenumerate(array55):\n",
        "  print(index, x)"
      ],
      "execution_count": 15,
      "outputs": [
        {
          "output_type": "stream",
          "name": "stdout",
          "text": [
            "[[0 1 2]\n",
            " [3 4 5]\n",
            " [6 7 8]]\n",
            "(0, 0) 0\n",
            "(0, 1) 1\n",
            "(0, 2) 2\n",
            "(1, 0) 3\n",
            "(1, 1) 4\n",
            "(1, 2) 5\n",
            "(2, 0) 6\n",
            "(2, 1) 7\n",
            "(2, 2) 8\n"
          ]
        }
      ]
    },
    {
      "cell_type": "markdown",
      "source": [
        "numpy.ndenumerate(arr): Multidimensional index iterator.\n",
        "- Return an iterator yielding pairs of array coordinates and values."
      ],
      "metadata": {
        "id": "A2fJpBzQfE47"
      }
    },
    {
      "cell_type": "markdown",
      "metadata": {
        "id": "1abc7cc8"
      },
      "source": [
        "#### 56. Generate a generic 2D Gaussian-like array (★★☆)"
      ]
    },
    {
      "cell_type": "code",
      "metadata": {
        "id": "42e3a5bc",
        "colab": {
          "base_uri": "https://localhost:8080/"
        },
        "outputId": "b7df425b-64ab-4d60-8aa4-93d0aa371ec7"
      },
      "source": [
        "X, Y = np.meshgrid(np.linspace(-1,1,10), np.linspace(-1,1,10))\n",
        "D = np.sqrt(X**2 + Y**2)\n",
        "sigma, mu = 1.0, 0.0\n",
        "np.exp(-((D-mu)**2 / 2*sigma**2))"
      ],
      "execution_count": 9,
      "outputs": [
        {
          "output_type": "execute_result",
          "data": {
            "text/plain": [
              "array([[0.36787944, 0.44822088, 0.51979489, 0.57375342, 0.60279818,\n",
              "        0.60279818, 0.57375342, 0.51979489, 0.44822088, 0.36787944],\n",
              "       [0.44822088, 0.54610814, 0.63331324, 0.69905581, 0.73444367,\n",
              "        0.73444367, 0.69905581, 0.63331324, 0.54610814, 0.44822088],\n",
              "       [0.51979489, 0.63331324, 0.73444367, 0.81068432, 0.85172308,\n",
              "        0.85172308, 0.81068432, 0.73444367, 0.63331324, 0.51979489],\n",
              "       [0.57375342, 0.69905581, 0.81068432, 0.89483932, 0.9401382 ,\n",
              "        0.9401382 , 0.89483932, 0.81068432, 0.69905581, 0.57375342],\n",
              "       [0.60279818, 0.73444367, 0.85172308, 0.9401382 , 0.98773022,\n",
              "        0.98773022, 0.9401382 , 0.85172308, 0.73444367, 0.60279818],\n",
              "       [0.60279818, 0.73444367, 0.85172308, 0.9401382 , 0.98773022,\n",
              "        0.98773022, 0.9401382 , 0.85172308, 0.73444367, 0.60279818],\n",
              "       [0.57375342, 0.69905581, 0.81068432, 0.89483932, 0.9401382 ,\n",
              "        0.9401382 , 0.89483932, 0.81068432, 0.69905581, 0.57375342],\n",
              "       [0.51979489, 0.63331324, 0.73444367, 0.81068432, 0.85172308,\n",
              "        0.85172308, 0.81068432, 0.73444367, 0.63331324, 0.51979489],\n",
              "       [0.44822088, 0.54610814, 0.63331324, 0.69905581, 0.73444367,\n",
              "        0.73444367, 0.69905581, 0.63331324, 0.54610814, 0.44822088],\n",
              "       [0.36787944, 0.44822088, 0.51979489, 0.57375342, 0.60279818,\n",
              "        0.60279818, 0.57375342, 0.51979489, 0.44822088, 0.36787944]])"
            ]
          },
          "metadata": {},
          "execution_count": 9
        }
      ]
    },
    {
      "cell_type": "markdown",
      "metadata": {
        "id": "0cf413ee"
      },
      "source": [
        "#### 57. How to randomly place p elements in a 2D array? (★★☆)"
      ]
    },
    {
      "cell_type": "code",
      "metadata": {
        "id": "dfc57e06",
        "colab": {
          "base_uri": "https://localhost:8080/"
        },
        "outputId": "fddfb7fc-0e3b-4697-ec29-14918ba772de"
      },
      "source": [
        "array57 = np.zeros((5,5))\n",
        "p = 3\n",
        "np.put(array57, np.random.choice(range(5*5),p,replace=False),1)\n",
        "# array57의 5*5개의 element 중 랜덤으로 p개 뽑아서 1로 값을 바꿔줌\n",
        "print(array57)"
      ],
      "execution_count": 14,
      "outputs": [
        {
          "output_type": "stream",
          "name": "stdout",
          "text": [
            "[[1. 0. 0. 0. 0.]\n",
            " [0. 0. 0. 0. 0.]\n",
            " [0. 0. 0. 0. 0.]\n",
            " [0. 1. 0. 0. 0.]\n",
            " [0. 0. 0. 0. 1.]]\n"
          ]
        }
      ]
    },
    {
      "cell_type": "markdown",
      "source": [
        "- numpy.put(a, ind, v, mode='raise') : Replaces specified elements of an array with given values\n",
        " - 사용할 array, 넣을 곳의 index, 넣을 값\n",
        " - mode는 optional"
      ],
      "metadata": {
        "id": "xH2RgCJyWPTa"
      }
    },
    {
      "cell_type": "markdown",
      "metadata": {
        "id": "215b6acc"
      },
      "source": [
        "#### 58. Subtract the mean of each row of a matrix (★★☆)"
      ]
    },
    {
      "cell_type": "code",
      "metadata": {
        "id": "dd1adef4",
        "colab": {
          "base_uri": "https://localhost:8080/"
        },
        "outputId": "711e1122-a6a7-4e50-da38-2a9917be45f0"
      },
      "source": [
        "array58 = np.random.random((5,10))\n",
        "array58 - array58.mean(axis = 1, keepdims = True)\n",
        "# axis = 1로 row 선택, keepdims로 차원 유지"
      ],
      "execution_count": 20,
      "outputs": [
        {
          "output_type": "execute_result",
          "data": {
            "text/plain": [
              "array([[ 0.26795887,  0.1881162 , -0.12151188, -0.34633434, -0.27503042,\n",
              "         0.51968841, -0.04989922,  0.35077522, -0.44096525, -0.09279758],\n",
              "       [ 0.21663628, -0.19792596, -0.42484308, -0.01833404,  0.20986014,\n",
              "         0.06221272,  0.20861427,  0.07632005, -0.20733032,  0.07478994],\n",
              "       [ 0.39917077,  0.45833499, -0.49998033,  0.31391641, -0.13512285,\n",
              "         0.15285982,  0.07822805, -0.31265976, -0.41561142, -0.03913567],\n",
              "       [ 0.42669771,  0.41585941, -0.4240254 ,  0.42956801, -0.13066035,\n",
              "        -0.2366596 ,  0.04620658,  0.06103151, -0.1655577 , -0.42246018],\n",
              "       [-0.4838162 ,  0.30884218,  0.18373749, -0.31837191,  0.21665467,\n",
              "         0.23186   , -0.15739039,  0.02182019,  0.28897481, -0.29231083]])"
            ]
          },
          "metadata": {},
          "execution_count": 20
        }
      ]
    },
    {
      "cell_type": "markdown",
      "metadata": {
        "id": "c0cf37e0"
      },
      "source": [
        "#### 59. How to sort an array by the nth column? (★★☆)"
      ]
    },
    {
      "cell_type": "code",
      "metadata": {
        "id": "9336ca5f",
        "colab": {
          "base_uri": "https://localhost:8080/"
        },
        "outputId": "c185e23b-614e-414e-abfc-c4ddf7c8c403"
      },
      "source": [
        "array59 = np.random.randint(0,10,(3,3))\n",
        "print(array59)\n",
        "print(array59[array59[:,0].argsort()])"
      ],
      "execution_count": 21,
      "outputs": [
        {
          "output_type": "stream",
          "name": "stdout",
          "text": [
            "[[9 9 0]\n",
            " [5 1 2]\n",
            " [2 8 3]]\n",
            "[[2 8 3]\n",
            " [5 1 2]\n",
            " [9 9 0]]\n"
          ]
        }
      ]
    },
    {
      "cell_type": "markdown",
      "source": [
        "numpy.argsort(a, axis=- 1, kind=None, order=None)\n",
        ": Returns the indices that would sort an array.\n",
        "\n",
        "- Perform an indirect sort along the given axis using the algorithm specified by the kind keyword. It returns an array of indices of the same shape as a that index data along the given axis in sorted order."
      ],
      "metadata": {
        "id": "ujuB50WAgP_y"
      }
    },
    {
      "cell_type": "markdown",
      "metadata": {
        "id": "c17fb213"
      },
      "source": [
        "#### 60. How to tell if a given 2D array has null columns? (★★☆)"
      ]
    },
    {
      "cell_type": "code",
      "metadata": {
        "id": "7fdda78d",
        "colab": {
          "base_uri": "https://localhost:8080/"
        },
        "outputId": "59acd176-ef69-480c-87a1-471b5a2749d4"
      },
      "source": [
        "array60 = np.array([0,1,2,0,3,4,0,5,6]).reshape(3,3)\n",
        "print(array60)\n",
        "print(~array60.any(axis=0))\n",
        "print((~array60.any(axis=0)).any())"
      ],
      "execution_count": 29,
      "outputs": [
        {
          "output_type": "stream",
          "name": "stdout",
          "text": [
            "[[0 1 2]\n",
            " [0 3 4]\n",
            " [0 5 6]]\n",
            "[ True False False]\n",
            "True\n"
          ]
        }
      ]
    },
    {
      "cell_type": "markdown",
      "source": [
        "numpy.any() : 인자에 전해진 배열에 하나라도 0이 아닌 수가 있다면 True 반환\n",
        "\n",
        "- ~array60.any(axis=0) : col이 nonzero인 수를  하나라도 가지면 False가 나옴, null로만 이루어진 경우 True 반환\n",
        "-(~array60.any(axis=0)).any() : 하나라도 null로만 이루어진 col이 있는 경우 True 반환"
      ],
      "metadata": {
        "id": "0wfeYBIE9uWy"
      }
    },
    {
      "cell_type": "markdown",
      "metadata": {
        "id": "8aaab886"
      },
      "source": [
        "#### 61. Find the nearest value from a given value in an array (★★☆)"
      ]
    },
    {
      "cell_type": "code",
      "metadata": {
        "id": "973f8079",
        "colab": {
          "base_uri": "https://localhost:8080/"
        },
        "outputId": "0cfbf8da-8731-48ab-fcc3-5392c5e91ca9"
      },
      "source": [
        "#50번과 유사\n",
        "array61 = np.random.random(10)\n",
        "num = np.random.random(1)\n",
        "print(array61, num)\n",
        "array61[np.abs(array61 - num).argmin()]"
      ],
      "execution_count": 23,
      "outputs": [
        {
          "output_type": "stream",
          "name": "stdout",
          "text": [
            "[0.63027203 0.50759677 0.15774539 0.97932559 0.60463256 0.70847121\n",
            " 0.9609397  0.39912353 0.35618325 0.56113047] [0.21758287]\n"
          ]
        },
        {
          "output_type": "execute_result",
          "data": {
            "text/plain": [
              "0.1577453902649817"
            ]
          },
          "metadata": {},
          "execution_count": 23
        }
      ]
    },
    {
      "cell_type": "markdown",
      "metadata": {
        "id": "66a04e2e"
      },
      "source": [
        "#### 62. Considering two arrays with shape (1,3) and (3,1), how to compute their sum using an iterator? (★★☆)"
      ]
    },
    {
      "cell_type": "code",
      "metadata": {
        "id": "4b356632",
        "colab": {
          "base_uri": "https://localhost:8080/"
        },
        "outputId": "710b189e-a93a-4a16-be58-19182a323aa0"
      },
      "source": [
        "A = np.arange(3).reshape(1,3)\n",
        "B = np.arange(3).reshape(3,1)\n",
        "it = np.nditer([A,B,None])\n",
        "for x,y,z in it:\n",
        "  z[...] = x + y\n",
        "print(it.operands[2]) #z출력"
      ],
      "execution_count": 22,
      "outputs": [
        {
          "output_type": "stream",
          "name": "stdout",
          "text": [
            "[[0 1 2]\n",
            " [1 2 3]\n",
            " [2 3 4]]\n"
          ]
        }
      ]
    },
    {
      "cell_type": "markdown",
      "source": [
        "- numpy.nditer() : for문을 사용하지 않고 다차원 배열을 순회하게 하는 함수\n",
        "\n",
        "\n"
      ],
      "metadata": {
        "id": "39MKgSBFa5S6"
      }
    },
    {
      "cell_type": "markdown",
      "metadata": {
        "id": "f4427f7f"
      },
      "source": [
        "#### 63. Create an array class that has a name attribute (★★☆)"
      ]
    },
    {
      "cell_type": "code",
      "source": [
        "class NameArray(np.ndarray):\n",
        "    def __new__(cls, array, name=\"no name\"):\n",
        "        obj = np.asarray(array).view(cls)\n",
        "        obj.name = name\n",
        "        return obj\n",
        "    def __array_finalize__(self, obj):\n",
        "        if obj is None:\n",
        "            return\n",
        "        self.info = getattr(obj, 'name', 'no name')\n",
        "        \n",
        "array63 = NameArray(np.arange(10), 'array63')\n",
        "print(array63.name)"
      ],
      "metadata": {
        "colab": {
          "base_uri": "https://localhost:8080/"
        },
        "id": "4Ew2Q9yL43dr",
        "outputId": "cafa374b-061d-4b00-d710-3b076ae3d2d5"
      },
      "execution_count": 44,
      "outputs": [
        {
          "output_type": "stream",
          "name": "stdout",
          "text": [
            "array63\n"
          ]
        }
      ]
    },
    {
      "cell_type": "code",
      "source": [
        "help(np.__new__)"
      ],
      "metadata": {
        "colab": {
          "base_uri": "https://localhost:8080/"
        },
        "id": "TwgtrBlgGwIF",
        "outputId": "55e7aa53-afbd-4e95-e041-3b71398f0182"
      },
      "execution_count": 49,
      "outputs": [
        {
          "output_type": "stream",
          "name": "stdout",
          "text": [
            "Help on built-in function __new__:\n",
            "\n",
            "__new__(*args, **kwargs) method of builtins.type instance\n",
            "    Create and return a new object.  See help(type) for accurate signature.\n",
            "\n"
          ]
        }
      ]
    },
    {
      "cell_type": "markdown",
      "source": [
        "- __new__ is a standard Python method, and, if present, is called before __init__ when we create a class instance. \n",
        "- __array_finalize__ is the mechanism that numpy provides to allow subclasses to handle the various ways that new instances get created.\n",
        "\n",
        "출처 : https://numpy.org/doc/1.14/user/basics.subclassing.html"
      ],
      "metadata": {
        "id": "e3wpUPcYIUAM"
      }
    },
    {
      "cell_type": "markdown",
      "source": [
        ""
      ],
      "metadata": {
        "id": "J-TdPeRu5McE"
      }
    },
    {
      "cell_type": "markdown",
      "metadata": {
        "id": "58be9dd4"
      },
      "source": [
        "#### 64. Consider a given vector, how to add 1 to each element indexed by a second vector (be careful with repeated indices)? (★★★)"
      ]
    },
    {
      "cell_type": "code",
      "metadata": {
        "id": "5c8bae42",
        "colab": {
          "base_uri": "https://localhost:8080/"
        },
        "outputId": "a1fcc297-1762-4349-dc03-50267e9c51f0"
      },
      "source": [
        "A = np.zeros(5)\n",
        "B = np.random.randint(0,5,10)\n",
        "np.add.at(A,B,1) #A[B]에 +1\n",
        "print(A,B)"
      ],
      "execution_count": 33,
      "outputs": [
        {
          "output_type": "stream",
          "name": "stdout",
          "text": [
            "[0. 5. 1. 1. 3.] [1 2 1 4 1 1 4 3 1 4]\n"
          ]
        }
      ]
    },
    {
      "cell_type": "markdown",
      "metadata": {
        "id": "7348abd0"
      },
      "source": [
        "#### 65. How to accumulate elements of a vector (X) to an array (F) based on an index list (I)? (★★★)"
      ]
    },
    {
      "cell_type": "code",
      "metadata": {
        "id": "b3e33a5a",
        "colab": {
          "base_uri": "https://localhost:8080/"
        },
        "outputId": "f45edf6e-4d88-4f8f-f6b2-765cfdea10a4"
      },
      "source": [
        "X = np.random.randint(1,10,5)\n",
        "I = np.random.randint(1,10,5)\n",
        "print(A, B)\n",
        "F = np.bincount(I,X)  #I의 index에 X를 weight로 빈도수 계산\n",
        "print(F)"
      ],
      "execution_count": 26,
      "outputs": [
        {
          "output_type": "stream",
          "name": "stdout",
          "text": [
            "[5 6 8 6 8] [3 9 6 9 2]\n"
          ]
        },
        {
          "output_type": "execute_result",
          "data": {
            "text/plain": [
              "array([ 0.,  0.,  8.,  5.,  0.,  0.,  8.,  0.,  0., 12.])"
            ]
          },
          "metadata": {},
          "execution_count": 26
        }
      ]
    },
    {
      "cell_type": "markdown",
      "source": [
        "- numpy.bincount() : 빈도수 계산"
      ],
      "metadata": {
        "id": "VgT7naUXcMym"
      }
    },
    {
      "cell_type": "markdown",
      "metadata": {
        "id": "538e651c"
      },
      "source": [
        "#### 66. Considering a (w,h,3) image of (dtype=ubyte), compute the number of unique colors (★★☆)"
      ]
    },
    {
      "cell_type": "code",
      "metadata": {
        "id": "57f2f02f",
        "colab": {
          "base_uri": "https://localhost:8080/"
        },
        "outputId": "c879d01d-f2bf-459d-cbd8-d4105efa00cf"
      },
      "source": [
        "I = np.random.randint(0,2,(16,16,3)).astype(np.ubyte)\n",
        "F = I[...,0]*(256*256) + I[...,1]*256 + I[...,2]\n",
        "print(len(np.unique(F)))"
      ],
      "execution_count": 46,
      "outputs": [
        {
          "output_type": "stream",
          "name": "stdout",
          "text": [
            "8\n"
          ]
        }
      ]
    }
  ]
}