{
  "nbformat": 4,
  "nbformat_minor": 0,
  "metadata": {
    "colab": {
      "name": "Week5_HW_2.ipynb",
      "provenance": [],
      "authorship_tag": "ABX9TyPO6cw0wSYWfNJSzaEWHbXH",
      "include_colab_link": true
    },
    "kernelspec": {
      "name": "python3",
      "display_name": "Python 3"
    },
    "language_info": {
      "name": "python"
    }
  },
  "cells": [
    {
      "cell_type": "markdown",
      "metadata": {
        "id": "view-in-github",
        "colab_type": "text"
      },
      "source": [
        "<a href=\"https://colab.research.google.com/github/sooonsyk/ESAA/blob/main/Week5_HW_2.ipynb\" target=\"_parent\"><img src=\"https://colab.research.google.com/assets/colab-badge.svg\" alt=\"Open In Colab\"/></a>"
      ]
    },
    {
      "cell_type": "markdown",
      "source": [
        "##**datetime 오브젝트**\n",
        "- datetime 라이브러리 : 날짜와 시간을 처리하는 등의 다양한 기능을 제공, 날짜를 처리하는 date 오브젝트, 시간을 처리하는 time 오브젝트, 날짜와 시간을 모두 처리하는 datetime 오브젝트가 포함되어 있음"
      ],
      "metadata": {
        "id": "SlhSm08B0yut"
      }
    },
    {
      "cell_type": "code",
      "execution_count": 1,
      "metadata": {
        "colab": {
          "base_uri": "https://localhost:8080/"
        },
        "id": "GVSI1OID0tbx",
        "outputId": "32c1d759-14be-4a4d-e7a3-7fd98c8cbfe5"
      },
      "outputs": [
        {
          "output_type": "stream",
          "name": "stdout",
          "text": [
            "2022-04-10 04:58:02.759286\n",
            "2022-04-10 04:58:02.759964\n"
          ]
        }
      ],
      "source": [
        "from datetime import datetime\n",
        "\n",
        "#now, today 메서드를 사용하면 현재 시간 출력할 수 있음\n",
        "now1 = datetime.now()\n",
        "print(now1)\n",
        "\n",
        "now2 = datetime.today()\n",
        "print(now2)"
      ]
    },
    {
      "cell_type": "code",
      "source": [
        "#datetime 오브젝트를 생성할 때 시간을 직접 입력하여 인자로 전달\n",
        "t1 = datetime.now()\n",
        "t2 = datetime(1970, 1, 1)\n",
        "t3 = datetime(1970, 12, 12, 13, 24, 34)\n",
        "\n",
        "print(t1)  # now 메서드는 밀리초 단위까지 구함\n",
        "print(t2)\n",
        "print(t3)"
      ],
      "metadata": {
        "colab": {
          "base_uri": "https://localhost:8080/"
        },
        "id": "M2gLESym1eM7",
        "outputId": "54363971-784b-4624-c0d4-017d09821825"
      },
      "execution_count": 2,
      "outputs": [
        {
          "output_type": "stream",
          "name": "stdout",
          "text": [
            "2022-04-10 04:59:13.384418\n",
            "1970-01-01 00:00:00\n",
            "1970-12-12 13:24:34\n"
          ]
        }
      ]
    },
    {
      "cell_type": "code",
      "source": [
        "#시간 계산 할 수 있음\n",
        "diff1 = t1- t2\n",
        "print(diff1)\n",
        "print(type(diff1))\n",
        "\n",
        "diff2 = t2 - t1\n",
        "print(diff2)\n",
        "print(type(diff2))"
      ],
      "metadata": {
        "colab": {
          "base_uri": "https://localhost:8080/"
        },
        "id": "GhSQZ6Rj1yCA",
        "outputId": "8084000b-a245-4b05-d8af-ccf625dcc45c"
      },
      "execution_count": 3,
      "outputs": [
        {
          "output_type": "stream",
          "name": "stdout",
          "text": [
            "19092 days, 4:59:13.384418\n",
            "<class 'datetime.timedelta'>\n",
            "-19093 days, 19:00:46.615582\n",
            "<class 'datetime.timedelta'>\n"
          ]
        }
      ]
    },
    {
      "cell_type": "markdown",
      "source": [
        "##**사례별 시계열 데이터 계산하기**\n",
        "\n",
        "- 테슬라 주식 데이터로 시간 계산하기"
      ],
      "metadata": {
        "id": "WGEmkJyJ2T1w"
      }
    },
    {
      "cell_type": "code",
      "source": [
        "pip install pandas-datareader"
      ],
      "metadata": {
        "colab": {
          "base_uri": "https://localhost:8080/"
        },
        "id": "KB_rE6pv2LjP",
        "outputId": "1e2d83b8-7981-475c-ef6d-32c067bbef4b"
      },
      "execution_count": 4,
      "outputs": [
        {
          "output_type": "stream",
          "name": "stdout",
          "text": [
            "Requirement already satisfied: pandas-datareader in /usr/local/lib/python3.7/dist-packages (0.9.0)\n",
            "Requirement already satisfied: lxml in /usr/local/lib/python3.7/dist-packages (from pandas-datareader) (4.2.6)\n",
            "Requirement already satisfied: requests>=2.19.0 in /usr/local/lib/python3.7/dist-packages (from pandas-datareader) (2.23.0)\n",
            "Requirement already satisfied: pandas>=0.23 in /usr/local/lib/python3.7/dist-packages (from pandas-datareader) (1.3.5)\n",
            "Requirement already satisfied: numpy>=1.17.3 in /usr/local/lib/python3.7/dist-packages (from pandas>=0.23->pandas-datareader) (1.21.5)\n",
            "Requirement already satisfied: pytz>=2017.3 in /usr/local/lib/python3.7/dist-packages (from pandas>=0.23->pandas-datareader) (2018.9)\n",
            "Requirement already satisfied: python-dateutil>=2.7.3 in /usr/local/lib/python3.7/dist-packages (from pandas>=0.23->pandas-datareader) (2.8.2)\n",
            "Requirement already satisfied: six>=1.5 in /usr/local/lib/python3.7/dist-packages (from python-dateutil>=2.7.3->pandas>=0.23->pandas-datareader) (1.15.0)\n",
            "Requirement already satisfied: certifi>=2017.4.17 in /usr/local/lib/python3.7/dist-packages (from requests>=2.19.0->pandas-datareader) (2021.10.8)\n",
            "Requirement already satisfied: urllib3!=1.25.0,!=1.25.1,<1.26,>=1.21.1 in /usr/local/lib/python3.7/dist-packages (from requests>=2.19.0->pandas-datareader) (1.24.3)\n",
            "Requirement already satisfied: idna<3,>=2.5 in /usr/local/lib/python3.7/dist-packages (from requests>=2.19.0->pandas-datareader) (2.10)\n",
            "Requirement already satisfied: chardet<4,>=3.0.2 in /usr/local/lib/python3.7/dist-packages (from requests>=2.19.0->pandas-datareader) (3.0.4)\n"
          ]
        }
      ]
    },
    {
      "cell_type": "code",
      "source": [
        "#get_data_quanal 메서드에 TSLA라는 문자열을 전달하여 테슬라의 주식 데이터를 내려받은 다음 to_csv 메서드를 사용하여 data 폴더 안에 'tesla_stock_quandl.csv'라는 이름으로 저장\n",
        "import pandas as pd\n",
        "\n",
        "pd.core.common.is_list_like = pd.api.types.is_list_like\n",
        "import pandas_datareader as pdr\n",
        "\n",
        "#tesla에는 데이터 프레임이 저장됨\n",
        "tesla = pdr.get_data_quandl('TSLA', api_key = 'SaDdbndBExZsDoDHAPDy')  #https://data.nasdaq.com/ 가입해서 접속 api_key를 생성하여 받은 키에 입력\n",
        "\n",
        "#tesla에 저장된 데이터프레임을 파일로 저장함\n",
        "tesla.to_csv('tesla_stock_quandl.csv')"
      ],
      "metadata": {
        "id": "QZgNSya72gTo"
      },
      "execution_count": 8,
      "outputs": []
    },
    {
      "cell_type": "code",
      "source": [
        "print(tesla.head())\n",
        "#tesla 데이터프레임의 Date열은 문자열로 저장돼있음 - datetime 오브젝트로 자료형을 변환해야 시간 계산 할 수 있음"
      ],
      "metadata": {
        "colab": {
          "base_uri": "https://localhost:8080/"
        },
        "id": "_un5zkyD3Rvs",
        "outputId": "5e4aa15d-7255-46f2-f6ec-956c5e66f36a"
      },
      "execution_count": 9,
      "outputs": [
        {
          "output_type": "stream",
          "name": "stdout",
          "text": [
            "              Open    High     Low   Close      Volume  ExDividend  \\\n",
            "Date                                                                 \n",
            "2018-03-27  304.00  304.27  277.18  279.18  13696168.0         0.0   \n",
            "2018-03-26  307.34  307.59  291.36  304.18   8324639.0         0.0   \n",
            "2018-03-23  311.25  311.61  300.45  301.54   6600538.0         0.0   \n",
            "2018-03-22  313.89  318.82  308.18  309.10   4914307.0         0.0   \n",
            "2018-03-21  310.25  322.44  310.19  316.53   5927881.0         0.0   \n",
            "\n",
            "            SplitRatio  AdjOpen  AdjHigh  AdjLow  AdjClose   AdjVolume  \n",
            "Date                                                                    \n",
            "2018-03-27         1.0   304.00   304.27  277.18    279.18  13696168.0  \n",
            "2018-03-26         1.0   307.34   307.59  291.36    304.18   8324639.0  \n",
            "2018-03-23         1.0   311.25   311.61  300.45    301.54   6600538.0  \n",
            "2018-03-22         1.0   313.89   318.82  308.18    309.10   4914307.0  \n",
            "2018-03-21         1.0   310.25   322.44  310.19    316.53   5927881.0  \n"
          ]
        }
      ]
    },
    {
      "cell_type": "code",
      "source": [
        "#Date열을 datetime 형으로 변환하려면 read_csv 메서드로 데이터 집합을 불러올 때 parse_dates 인자에 Date열을 전달하면 됨\n",
        "tesla = pd.read_csv('tesla_stock_quandl.csv', parse_dates=[0])\n",
        "print(tesla.info())"
      ],
      "metadata": {
        "colab": {
          "base_uri": "https://localhost:8080/"
        },
        "id": "6eS0tEvT4J_Q",
        "outputId": "9f13514d-d0f7-4c10-8f8e-42af3b029cfa"
      },
      "execution_count": 12,
      "outputs": [
        {
          "output_type": "stream",
          "name": "stdout",
          "text": [
            "<class 'pandas.core.frame.DataFrame'>\n",
            "RangeIndex: 241 entries, 0 to 240\n",
            "Data columns (total 13 columns):\n",
            " #   Column      Non-Null Count  Dtype         \n",
            "---  ------      --------------  -----         \n",
            " 0   Date        241 non-null    datetime64[ns]\n",
            " 1   Open        241 non-null    float64       \n",
            " 2   High        241 non-null    float64       \n",
            " 3   Low         241 non-null    float64       \n",
            " 4   Close       241 non-null    float64       \n",
            " 5   Volume      241 non-null    float64       \n",
            " 6   ExDividend  241 non-null    float64       \n",
            " 7   SplitRatio  241 non-null    float64       \n",
            " 8   AdjOpen     241 non-null    float64       \n",
            " 9   AdjHigh     241 non-null    float64       \n",
            " 10  AdjLow      241 non-null    float64       \n",
            " 11  AdjClose    241 non-null    float64       \n",
            " 12  AdjVolume   241 non-null    float64       \n",
            "dtypes: datetime64[ns](1), float64(12)\n",
            "memory usage: 24.6 KB\n",
            "None\n"
          ]
        }
      ]
    },
    {
      "cell_type": "code",
      "source": [
        "#dt 접근자 사용 가능\n",
        "print(tesla.loc[(tesla.Date.dt.year == 2010) & (tesla.Date.dt.month == 6)])"
      ],
      "metadata": {
        "colab": {
          "base_uri": "https://localhost:8080/"
        },
        "id": "jnsYX_W_4rk9",
        "outputId": "eefe4a25-3c72-4809-d9a8-b19267a09775"
      },
      "execution_count": 13,
      "outputs": [
        {
          "output_type": "stream",
          "name": "stdout",
          "text": [
            "Empty DataFrame\n",
            "Columns: [Date, Open, High, Low, Close, Volume, ExDividend, SplitRatio, AdjOpen, AdjHigh, AdjLow, AdjClose, AdjVolume]\n",
            "Index: []\n"
          ]
        }
      ]
    },
    {
      "cell_type": "markdown",
      "source": [
        "###**datetime 오브젝트와 인덱스 - DatetimeIndex**\n",
        "- datetime 오브젝트를 데이터 프레임의 인덱스로 설정하면 원하는 시간의 데이터를 바로 추출할 수 있음"
      ],
      "metadata": {
        "id": "LFnrVKKK5FSO"
      }
    },
    {
      "cell_type": "code",
      "source": [
        "#Date열을 인덱스로 지정\n",
        "tesla.index = tesla['Date']\n",
        "print(tesla.index)"
      ],
      "metadata": {
        "colab": {
          "base_uri": "https://localhost:8080/"
        },
        "id": "fAnj56y54_Rs",
        "outputId": "2eaa5416-e025-43b2-c7ac-54e5a6cf8719"
      },
      "execution_count": 14,
      "outputs": [
        {
          "output_type": "stream",
          "name": "stdout",
          "text": [
            "DatetimeIndex(['2018-03-27', '2018-03-26', '2018-03-23', '2018-03-22',\n",
            "               '2018-03-21', '2018-03-20', '2018-03-19', '2018-03-16',\n",
            "               '2018-03-15', '2018-03-14',\n",
            "               ...\n",
            "               '2017-04-25', '2017-04-24', '2017-04-21', '2017-04-20',\n",
            "               '2017-04-19', '2017-04-18', '2017-04-17', '2017-04-13',\n",
            "               '2017-04-12', '2017-04-11'],\n",
            "              dtype='datetime64[ns]', name='Date', length=241, freq=None)\n"
          ]
        }
      ]
    },
    {
      "cell_type": "code",
      "source": [
        "#원하는 시간의 데이터 바로 추출 가능\n",
        "print(tesla['2017'].iloc[:5, :5])"
      ],
      "metadata": {
        "colab": {
          "base_uri": "https://localhost:8080/"
        },
        "id": "ilyNBQCV5bAa",
        "outputId": "2ec82693-06af-47c9-edcd-64f76b7816ea"
      },
      "execution_count": 16,
      "outputs": [
        {
          "output_type": "stream",
          "name": "stdout",
          "text": [
            "                 Date    Open      High     Low   Close\n",
            "Date                                                   \n",
            "2017-12-29 2017-12-29  316.18  316.4100  310.00  311.35\n",
            "2017-12-28 2017-12-28  311.75  315.8200  309.54  315.36\n",
            "2017-12-27 2017-12-27  316.00  317.6800  310.75  311.64\n",
            "2017-12-26 2017-12-26  323.83  323.9400  316.58  317.29\n",
            "2017-12-22 2017-12-22  329.51  330.9214  324.82  325.20\n"
          ]
        },
        {
          "output_type": "stream",
          "name": "stderr",
          "text": [
            "/usr/local/lib/python3.7/dist-packages/ipykernel_launcher.py:2: FutureWarning: Indexing a DataFrame with a datetimelike index using a single string to slice the rows, like `frame[string]`, is deprecated and will be removed in a future version. Use `frame.loc[string]` instead.\n",
            "  \n"
          ]
        }
      ]
    },
    {
      "cell_type": "code",
      "source": [
        "print(tesla['2017-06'].iloc[:5,:5])"
      ],
      "metadata": {
        "colab": {
          "base_uri": "https://localhost:8080/"
        },
        "id": "PK2ZC8sY5oGu",
        "outputId": "1d1f0d0d-b9ac-4611-9f82-14e05255c850"
      },
      "execution_count": 19,
      "outputs": [
        {
          "output_type": "stream",
          "name": "stdout",
          "text": [
            "                 Date    Open      High       Low   Close\n",
            "Date                                                     \n",
            "2017-06-30 2017-06-30  363.71  366.7674  359.6187  361.61\n",
            "2017-06-29 2017-06-29  370.61  371.0000  354.1000  360.75\n",
            "2017-06-28 2017-06-28  366.68  371.7400  362.5200  371.24\n",
            "2017-06-27 2017-06-27  376.40  376.4000  362.0200  362.37\n",
            "2017-06-26 2017-06-26  386.69  386.9500  373.1000  377.49\n"
          ]
        },
        {
          "output_type": "stream",
          "name": "stderr",
          "text": [
            "/usr/local/lib/python3.7/dist-packages/ipykernel_launcher.py:1: FutureWarning: Indexing a DataFrame with a datetimelike index using a single string to slice the rows, like `frame[string]`, is deprecated and will be removed in a future version. Use `frame.loc[string]` instead.\n",
            "  \"\"\"Entry point for launching an IPython kernel.\n"
          ]
        }
      ]
    },
    {
      "cell_type": "markdown",
      "source": [
        "###**시간 간격과 인덱스 TimedeltaIndex**\n",
        "- 시간간격을 인덱스로 지정 - 주식 데이터에서 최초 5일간 수집된 데이터만 살펴보고 싶은 경우\n"
      ],
      "metadata": {
        "id": "yVvelEks55bv"
      }
    },
    {
      "cell_type": "code",
      "source": [
        "#Date열에서 Date열의 최솟값을 빼면 데이터를 수집한 이후에 시간이 얼마나 흘렀는지 알 수 있음\n",
        "tesla['ref_date'] = tesla['Date'] - tesla['Date'].min()\n",
        "print(tesla.head)"
      ],
      "metadata": {
        "colab": {
          "base_uri": "https://localhost:8080/"
        },
        "id": "97eWXLfM503j",
        "outputId": "7364a7c1-f3fe-43af-97b8-8ced08e6c882"
      },
      "execution_count": 20,
      "outputs": [
        {
          "output_type": "stream",
          "name": "stdout",
          "text": [
            "<bound method NDFrame.head of                  Date    Open      High     Low   Close      Volume  \\\n",
            "Date                                                                  \n",
            "2018-03-27 2018-03-27  304.00  304.2700  277.18  279.18  13696168.0   \n",
            "2018-03-26 2018-03-26  307.34  307.5900  291.36  304.18   8324639.0   \n",
            "2018-03-23 2018-03-23  311.25  311.6100  300.45  301.54   6600538.0   \n",
            "2018-03-22 2018-03-22  313.89  318.8200  308.18  309.10   4914307.0   \n",
            "2018-03-21 2018-03-21  310.25  322.4400  310.19  316.53   5927881.0   \n",
            "...               ...     ...       ...     ...     ...         ...   \n",
            "2017-04-18 2017-04-18  299.70  300.8399  297.90  300.25   3035698.0   \n",
            "2017-04-17 2017-04-17  302.70  304.0000  298.68  301.44   4138736.0   \n",
            "2017-04-13 2017-04-13  296.70  307.3900  295.30  304.00   9284634.0   \n",
            "2017-04-12 2017-04-12  306.34  308.4481  296.32  296.84   6050682.0   \n",
            "2017-04-11 2017-04-11  313.38  313.4700  305.50  308.71   5724577.0   \n",
            "\n",
            "            ExDividend  SplitRatio  AdjOpen   AdjHigh  AdjLow  AdjClose  \\\n",
            "Date                                                                      \n",
            "2018-03-27         0.0         1.0   304.00  304.2700  277.18    279.18   \n",
            "2018-03-26         0.0         1.0   307.34  307.5900  291.36    304.18   \n",
            "2018-03-23         0.0         1.0   311.25  311.6100  300.45    301.54   \n",
            "2018-03-22         0.0         1.0   313.89  318.8200  308.18    309.10   \n",
            "2018-03-21         0.0         1.0   310.25  322.4400  310.19    316.53   \n",
            "...                ...         ...      ...       ...     ...       ...   \n",
            "2017-04-18         0.0         1.0   299.70  300.8399  297.90    300.25   \n",
            "2017-04-17         0.0         1.0   302.70  304.0000  298.68    301.44   \n",
            "2017-04-13         0.0         1.0   296.70  307.3900  295.30    304.00   \n",
            "2017-04-12         0.0         1.0   306.34  308.4481  296.32    296.84   \n",
            "2017-04-11         0.0         1.0   313.38  313.4700  305.50    308.71   \n",
            "\n",
            "             AdjVolume ref_date  \n",
            "Date                             \n",
            "2018-03-27  13696168.0 350 days  \n",
            "2018-03-26   8324639.0 349 days  \n",
            "2018-03-23   6600538.0 346 days  \n",
            "2018-03-22   4914307.0 345 days  \n",
            "2018-03-21   5927881.0 344 days  \n",
            "...                ...      ...  \n",
            "2017-04-18   3035698.0   7 days  \n",
            "2017-04-17   4138736.0   6 days  \n",
            "2017-04-13   9284634.0   2 days  \n",
            "2017-04-12   6050682.0   1 days  \n",
            "2017-04-11   5724577.0   0 days  \n",
            "\n",
            "[241 rows x 14 columns]>\n"
          ]
        }
      ]
    },
    {
      "cell_type": "code",
      "source": [
        "#ref_date열을 인덱스로 지정\n",
        "tesla.index = tesla['ref_date']\n",
        "print(tesla.iloc[:5,:5])"
      ],
      "metadata": {
        "colab": {
          "base_uri": "https://localhost:8080/"
        },
        "id": "fDl77lZR6SS7",
        "outputId": "5357764e-24dc-4aa6-c005-a1d746e78cd6"
      },
      "execution_count": 21,
      "outputs": [
        {
          "output_type": "stream",
          "name": "stdout",
          "text": [
            "               Date    Open    High     Low   Close\n",
            "ref_date                                           \n",
            "350 days 2018-03-27  304.00  304.27  277.18  279.18\n",
            "349 days 2018-03-26  307.34  307.59  291.36  304.18\n",
            "346 days 2018-03-23  311.25  311.61  300.45  301.54\n",
            "345 days 2018-03-22  313.89  318.82  308.18  309.10\n",
            "344 days 2018-03-21  310.25  322.44  310.19  316.53\n"
          ]
        }
      ]
    },
    {
      "cell_type": "code",
      "source": [
        "#최초 5일\n",
        "print(tesla['5 days':].iloc[:5,:5])"
      ],
      "metadata": {
        "colab": {
          "base_uri": "https://localhost:8080/"
        },
        "id": "H983fe_M6g2P",
        "outputId": "972eddf8-19b5-418c-ea1e-0a45b86e4594"
      },
      "execution_count": 22,
      "outputs": [
        {
          "output_type": "stream",
          "name": "stdout",
          "text": [
            "               Date    Open      High     Low   Close\n",
            "ref_date                                             \n",
            "2 days   2017-04-13  296.70  307.3900  295.30  304.00\n",
            "1 days   2017-04-12  306.34  308.4481  296.32  296.84\n",
            "0 days   2017-04-11  313.38  313.4700  305.50  308.71\n"
          ]
        }
      ]
    },
    {
      "cell_type": "markdown",
      "source": [
        "###**시간 범위와 인덱스**\n",
        "- 특정 일에 누락된 데이터도 포함시켜 데이터를 살펴보려면 임의로 시간 범위를 생성하여 인덱스로 지정해야 함"
      ],
      "metadata": {
        "id": "Or-EmBlo6xRh"
      }
    },
    {
      "cell_type": "code",
      "source": [
        "import pandas as pd\n",
        "\n",
        "ebola = pd.read_csv('country_timeseries.csv', parse_dates=[0])\n",
        "print(ebola.iloc[:5, :5])\n",
        "#2015-01-01 누락"
      ],
      "metadata": {
        "colab": {
          "base_uri": "https://localhost:8080/"
        },
        "id": "W1-tqKKg6puo",
        "outputId": "a9903a6c-8167-4a3a-f25a-cc9e88dd33cc"
      },
      "execution_count": 28,
      "outputs": [
        {
          "output_type": "stream",
          "name": "stdout",
          "text": [
            "        Date  Day  Cases_Guinea  Cases_Liberia  Cases_SierraLeone\n",
            "0 2015-01-05  289        2776.0            NaN            10030.0\n",
            "1 2015-01-04  288        2775.0            NaN             9780.0\n",
            "2 2015-01-03  287        2769.0         8166.0             9722.0\n",
            "3 2015-01-02  286           NaN         8157.0                NaN\n",
            "4 2014-12-31  284        2730.0         8115.0             9633.0\n"
          ]
        }
      ]
    },
    {
      "cell_type": "code",
      "source": [
        "print(ebola.iloc[-5:,:5])\n",
        "#2014-03-23 누락"
      ],
      "metadata": {
        "colab": {
          "base_uri": "https://localhost:8080/"
        },
        "id": "mwtDTAkc7I6E",
        "outputId": "892297f7-12df-4105-bf5e-56909a9756a9"
      },
      "execution_count": 29,
      "outputs": [
        {
          "output_type": "stream",
          "name": "stdout",
          "text": [
            "          Date  Day  Cases_Guinea  Cases_Liberia  Cases_SierraLeone\n",
            "117 2014-03-27    5         103.0            8.0                6.0\n",
            "118 2014-03-26    4          86.0            NaN                NaN\n",
            "119 2014-03-25    3          86.0            NaN                NaN\n",
            "120 2014-03-24    2          86.0            NaN                NaN\n",
            "121 2014-03-22    0          49.0            NaN                NaN\n"
          ]
        }
      ]
    },
    {
      "cell_type": "code",
      "source": [
        "#date_range 메서드 사용해서 시간 인덱스 생성\n",
        "head_range = pd.date_range(start='2014-12-31', end='2015-01-05')\n",
        "print(head_range)"
      ],
      "metadata": {
        "colab": {
          "base_uri": "https://localhost:8080/"
        },
        "id": "sx2rFeeT83p-",
        "outputId": "2701769b-e666-4020-ba15-a32dbb910816"
      },
      "execution_count": 31,
      "outputs": [
        {
          "output_type": "stream",
          "name": "stdout",
          "text": [
            "DatetimeIndex(['2014-12-31', '2015-01-01', '2015-01-02', '2015-01-03',\n",
            "               '2015-01-04', '2015-01-05'],\n",
            "              dtype='datetime64[ns]', freq='D')\n"
          ]
        }
      ]
    },
    {
      "cell_type": "code",
      "source": [
        "#원본 데이터 손상 막기 위해 ebola 데이터프레임 앞쪽 5개의 데이터 추출하여 새로운 데이터 프레임 만듦\n",
        "#이때 Date열을 인덱스로 먼저 지정하지 않으면 오류 발생\n",
        "ebola_5 = ebola.head()\n",
        "ebola_5.index = ebola_5['Date']\n",
        "ebola_5.reindex(head_range)\n",
        "print(ebola_5.iloc[:5, :5])"
      ],
      "metadata": {
        "colab": {
          "base_uri": "https://localhost:8080/"
        },
        "id": "94Lm9zDr9BEa",
        "outputId": "641faae0-3d37-4fd1-e134-4a3900b856d5"
      },
      "execution_count": 32,
      "outputs": [
        {
          "output_type": "stream",
          "name": "stdout",
          "text": [
            "                 Date  Day  Cases_Guinea  Cases_Liberia  Cases_SierraLeone\n",
            "Date                                                                      \n",
            "2015-01-05 2015-01-05  289        2776.0            NaN            10030.0\n",
            "2015-01-04 2015-01-04  288        2775.0            NaN             9780.0\n",
            "2015-01-03 2015-01-03  287        2769.0         8166.0             9722.0\n",
            "2015-01-02 2015-01-02  286           NaN         8157.0                NaN\n",
            "2014-12-31 2014-12-31  284        2730.0         8115.0             9633.0\n"
          ]
        }
      ]
    },
    {
      "cell_type": "code",
      "source": [
        ""
      ],
      "metadata": {
        "id": "BalRPyEi9hh5"
      },
      "execution_count": null,
      "outputs": []
    }
  ]
}