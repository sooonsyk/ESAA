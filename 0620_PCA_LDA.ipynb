{
  "nbformat": 4,
  "nbformat_minor": 0,
  "metadata": {
    "colab": {
      "name": "0620_PCA_LDA.ipynb",
      "provenance": [],
      "collapsed_sections": [],
      "include_colab_link": true
    },
    "kernelspec": {
      "name": "python3",
      "display_name": "Python 3"
    },
    "language_info": {
      "name": "python"
    }
  },
  "cells": [
    {
      "cell_type": "markdown",
      "metadata": {
        "id": "view-in-github",
        "colab_type": "text"
      },
      "source": [
        "<a href=\"https://colab.research.google.com/github/sooonsyk/ESAA/blob/main/0620_PCA_LDA.ipynb\" target=\"_parent\"><img src=\"https://colab.research.google.com/assets/colab-badge.svg\" alt=\"Open In Colab\"/></a>"
      ]
    },
    {
      "cell_type": "code",
      "metadata": {
        "id": "t-RMDKJB7CyJ"
      },
      "source": [
        "# 데이터 로드\n",
        "from sklearn.datasets import fetch_openml\n",
        "mnist=fetch_openml('mnist_784', version=1)"
      ],
      "execution_count": 1,
      "outputs": []
    },
    {
      "cell_type": "code",
      "metadata": {
        "id": "itFJcmUSkBrK"
      },
      "source": [
        "# train, test split\n",
        "X_train = mnist['data'][:60000]\n",
        "y_train = mnist['target'][:60000]\n",
        "X_test = mnist['data'][60000:]\n",
        "y_test = mnist['target'][60000:]"
      ],
      "execution_count": 12,
      "outputs": []
    },
    {
      "cell_type": "markdown",
      "metadata": {
        "id": "RbkbV_ZWkSPc"
      },
      "source": [
        "* 랜덤포레스트에 적용"
      ]
    },
    {
      "cell_type": "code",
      "metadata": {
        "id": "xmeHyXmKkLN1"
      },
      "source": [
        "# 랜덤포레스트에 적용 (n_estimators=10, random_state=42)\n",
        "from sklearn.ensemble import RandomForestClassifier\n",
        "\n",
        "model = RandomForestClassifier(n_estimators=10, random_state=42)\n",
        "model.fit(X_train, y_train)\n",
        "y_pred = model.predict(X_test)\n"
      ],
      "execution_count": 4,
      "outputs": []
    },
    {
      "cell_type": "code",
      "metadata": {
        "id": "WXjOor-jknmH",
        "colab": {
          "base_uri": "https://localhost:8080/"
        },
        "outputId": "f26528b7-6549-4216-c535-f98d109c4d3a"
      },
      "source": [
        "# 정확도 결과\n",
        "from sklearn.metrics import accuracy_score\n",
        "\n",
        "accuracy_score(y_test, y_pred)"
      ],
      "execution_count": 5,
      "outputs": [
        {
          "output_type": "execute_result",
          "data": {
            "text/plain": [
              "0.9492"
            ]
          },
          "metadata": {},
          "execution_count": 5
        }
      ]
    },
    {
      "cell_type": "markdown",
      "source": [
        "# 1. PCA"
      ],
      "metadata": {
        "id": "yetHtlIxcCcY"
      }
    },
    {
      "cell_type": "markdown",
      "metadata": {
        "id": "Lw4KuER0lAGA"
      },
      "source": [
        "* PCA로 변환한 데이터 세트에 랜덤 포레스트 적용"
      ]
    },
    {
      "cell_type": "code",
      "source": [
        "# PCA 라이브러리 불러오기\n",
        "from sklearn.decomposition import PCA"
      ],
      "metadata": {
        "id": "1BLMGOa2VQuj"
      },
      "execution_count": 7,
      "outputs": []
    },
    {
      "cell_type": "code",
      "metadata": {
        "id": "u_w8te9tlDsr"
      },
      "source": [
        "# PCA 적용 95% : n_components=0.95\n",
        "pca = PCA(n_components=0.95)"
      ],
      "execution_count": 8,
      "outputs": []
    },
    {
      "cell_type": "code",
      "metadata": {
        "id": "aFezNneClV8u",
        "colab": {
          "base_uri": "https://localhost:8080/"
        },
        "outputId": "3dad9138-a6b7-48d4-b73a-b4ddf4903a7c"
      },
      "source": [
        "# PCA 이후 랜덤포레스트 훈련\n",
        "X_train_pca = pca.fit_transform(X_train)\n",
        "\n",
        "model = RandomForestClassifier(n_estimators=10, random_state=42)\n",
        "model.fit(X_train_pca, y_train)"
      ],
      "execution_count": 25,
      "outputs": [
        {
          "output_type": "execute_result",
          "data": {
            "text/plain": [
              "RandomForestClassifier(n_estimators=10, random_state=42)"
            ]
          },
          "metadata": {},
          "execution_count": 25
        }
      ]
    },
    {
      "cell_type": "code",
      "metadata": {
        "id": "PrsoPgs-lzYj",
        "colab": {
          "base_uri": "https://localhost:8080/"
        },
        "outputId": "086b6583-8280-40ca-accd-f7c20e3d79e5"
      },
      "source": [
        "# 정확도 결과 (X_test도 PCA 적용해야합니다.)\n",
        "X_test_pca = pca.transform(X_test)\n",
        "y_pred_pca = model.predict(X_test_pca)\n",
        "\n",
        "accuracy_score(y_pred_pca, y_test)"
      ],
      "execution_count": 26,
      "outputs": [
        {
          "output_type": "execute_result",
          "data": {
            "text/plain": [
              "0.9009"
            ]
          },
          "metadata": {},
          "execution_count": 26
        }
      ]
    },
    {
      "cell_type": "markdown",
      "source": [
        "# 2. LDA"
      ],
      "metadata": {
        "id": "A0ZWH3uVb3zW"
      }
    },
    {
      "cell_type": "markdown",
      "source": [
        "- LDA로 변환한 데이터 세트에 랜덤 포레스트 적용"
      ],
      "metadata": {
        "id": "t-FBfbZ2b94z"
      }
    },
    {
      "cell_type": "code",
      "source": [
        "# LDA 라이브러리 불러오기\n",
        "from sklearn.discriminant_analysis import LinearDiscriminantAnalysis"
      ],
      "metadata": {
        "id": "WxQG2ep9VCo4"
      },
      "execution_count": 15,
      "outputs": []
    },
    {
      "cell_type": "code",
      "source": [
        "# LDA 적용 : n_components=5\n",
        "lda = LinearDiscriminantAnalysis(n_components=5)"
      ],
      "metadata": {
        "id": "SYvLRl5qYTsn"
      },
      "execution_count": 16,
      "outputs": []
    },
    {
      "cell_type": "code",
      "source": [
        "# LDA 이후 랜덤포레스트 훈련\n",
        "X_train_lda = lda.fit_transform(X_train,y_train)\n",
        "\n",
        "model = RandomForestClassifier(n_estimators=10, random_state=42)\n",
        "model.fit(X_train_lda, y_train)\n"
      ],
      "metadata": {
        "id": "xggC9VrVZO3f",
        "colab": {
          "base_uri": "https://localhost:8080/"
        },
        "outputId": "c20f9f21-0cdf-4107-f3e9-abce504402e0"
      },
      "execution_count": 28,
      "outputs": [
        {
          "output_type": "execute_result",
          "data": {
            "text/plain": [
              "RandomForestClassifier(n_estimators=10, random_state=42)"
            ]
          },
          "metadata": {},
          "execution_count": 28
        }
      ]
    },
    {
      "cell_type": "code",
      "source": [
        "# 정확도 결과 (X_test도 LDA 적용해야합니다.)\n",
        "X_test_lda = lda.transform(X_test)\n",
        "y_pred_lda = model.predict(X_test_lda)\n",
        "\n",
        "accuracy_score(y_pred_lda, y_test)"
      ],
      "metadata": {
        "id": "_oVckjoyY4Ly",
        "colab": {
          "base_uri": "https://localhost:8080/"
        },
        "outputId": "b86be3d1-dc13-411a-d917-befdf0b8d83c"
      },
      "execution_count": 29,
      "outputs": [
        {
          "output_type": "execute_result",
          "data": {
            "text/plain": [
              "0.8291"
            ]
          },
          "metadata": {},
          "execution_count": 29
        }
      ]
    }
  ]
}