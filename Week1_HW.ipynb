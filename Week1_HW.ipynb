{
  "nbformat": 4,
  "nbformat_minor": 0,
  "metadata": {
    "colab": {
      "name": "Week1_HW.ipynb",
      "provenance": [],
      "authorship_tag": "ABX9TyNX/oA9VIS6+y9P5nSdsehU",
      "include_colab_link": true
    },
    "kernelspec": {
      "name": "python3",
      "display_name": "Python 3"
    },
    "language_info": {
      "name": "python"
    }
  },
  "cells": [
    {
      "cell_type": "markdown",
      "metadata": {
        "id": "view-in-github",
        "colab_type": "text"
      },
      "source": [
        "<a href=\"https://colab.research.google.com/github/sooonsyk/ESAA/blob/main/Week1_HW.ipynb\" target=\"_parent\"><img src=\"https://colab.research.google.com/assets/colab-badge.svg\" alt=\"Open In Colab\"/></a>"
      ]
    },
    {
      "cell_type": "markdown",
      "source": [
        "#**1. 파이썬 기반의 머신러닝과 생태계 이해**\n",
        "##1) 머신러닝의 개념\n",
        ": 애플리케이션을 수정하지 않고도 데이터를 기반으로 패턴을 학습하고 결과를 예측하는 알고리즘 기법\n",
        "\n",
        ": 복잡한 조건/규칙들이 다양한 형태로 결합하고 시시각각 변하면서 도저히 소프트웨어 코드로 로직을 구성하여 이들을 관통하는 일정한 패턴을 찾기 어려운 경우에 유용\n",
        "\n",
        ": 데이터를 기반으로 통계적인 신뢰도를 강화하고 예측 오류를 최소화하기 위한 다양한 수학적 기법을 적용해 데이터 내의 패턴을 스스로 인지하고 신뢰도 있는 예측 결과를 도출\n",
        "\n",
        "####분류\n",
        "- 지도학습 supervised learning\n",
        "  - 분류\n",
        "  - 회귀\n",
        "  - 추천 시스템\n",
        "  - 시각/음성 감지/인지\n",
        "  - 텍스트 분석, NLP\n",
        "- 비지도학습 un-supervised learning\n",
        "  - 클러스터링\n",
        "  - 차원 축소\n",
        "  - 강화학습\n",
        "\n",
        "####데이터 전쟁\n",
        ": 머신러닝의 가장 큰 단점은 데이터에 매우 의존적이라는 것\n",
        "\n",
        ": 최적의 머신러닝 알고리즘과 모델 파라미터를 구축하는 능력도 중요하지만 데이터를 이해하고 효율적으로 가공, 처리, 추출해 최적의 데이터를 기반으로 알고리즘을 구동하라 수 있도록 준비하는 능력이 더 중요할 수 있음\n",
        "\n",
        "####파이썬과 R기반의 머신러닝 비교\n",
        "- R : 통계 전용 프로그램 언어\n",
        "- 파이썬 : 다양한 영역에서 사용되는 개발 전문 프로그램 언어, 뛰어난 개발 생산성, 오픈 소스, 많은 라이브러리로 높은 생산성, 확장성, 유연성, 호환성\n",
        "- R < 파이썬\n",
        "\n",
        "##2) 파이썬 머신러닝 생태계를 구성하는 주요 패키지\n",
        "- 머신러닝 패키지 : 사이킷런 Scikit-Learn, 텐서플로, 케라스\n",
        "- 행렬/선형대수/통계 패키지 : 넘파이 Numppy, 사이파이 Scipy\n",
        "- 데이터 핸들링 : 판다스, 맷플롯립 Matplotlib\n",
        "- 시각화 : 맷플롯립, 시본 Seaborn\n",
        "\n",
        "##3)넘파이\n",
        ": NumPy = Numerical Python, 파이썬에서 선형대수 기반의 프로그램을 쉽게 만들 수 있도록 지원하는 대표적인 패키지\n",
        "\n",
        "\\- 루프를 사용하지 않고 대량 데이터의 배열 연산을 간으하게 함 --> 빠른 배열 연산 속도\n",
        "\\- 파이썬 언어 자체가 가지는 수행 성능의 제약이 있으므로 수행 성능이 매우 중요한 부분은 C/C++기반의 코드로 작성하고 이를 넘파이에서 호출하는 방식으로 쉽게 통합할 수 있음\n",
        "\n",
        "####넘파이 ndarray 개요\n",
        "\\- 넘파이의 기반 데이터 타입 : ndarray\n",
        "\\- ndarray를 이용해 넘파이에서 다차원 배열을 쉽게 생성하고 다양한 연산을 수행할 수 있음"
      ],
      "metadata": {
        "id": "fyHUdaVIVa7b"
      }
    },
    {
      "cell_type": "code",
      "source": [
        "import numpy as np\n",
        "#as 사용해서 약어로 모듈을 표현해주는 게 관례\n",
        "\n",
        "array1 = np.array([1,2,3])\n",
        "print('array1 type : ', type(array1))\n",
        "print('array1 array 형태 : ', array1.shape)\n",
        "\n",
        "array2 = np.array([[1,2,3],\n",
        "                   2,3,4])\n",
        "print('array2 type : ', type(array2))\n",
        "print('array2 array 형태 : ', array2.shape)\n",
        "\n",
        "array3 = np.array([[1,2,3]])\n",
        "print('array3 type : ', type(array3))\n",
        "print('array3 array 형태 : ', array3.shape)\n",
        "\n",
        "print('array1 : {:0}차원, array2: {:1}차원, array3: {:2}차원'.format(array1.ndim, array2.ndim, array3.ndim))"
      ],
      "metadata": {
        "colab": {
          "base_uri": "https://localhost:8080/"
        },
        "id": "_YGpZPOodQ3D",
        "outputId": "e3edec55-c4c2-482d-e8c3-7eb04bb86eaf"
      },
      "execution_count": 8,
      "outputs": [
        {
          "output_type": "stream",
          "name": "stdout",
          "text": [
            "array1 type :  <class 'numpy.ndarray'>\n",
            "array1 array 형태 :  (3,)\n",
            "array2 type :  <class 'numpy.ndarray'>\n",
            "array2 array 형태 :  (4,)\n",
            "array3 type :  <class 'numpy.ndarray'>\n",
            "array3 array 형태 :  (1, 3)\n",
            "array1 : 1차원, array2: 1차원, array3:  2차원\n"
          ]
        },
        {
          "output_type": "stream",
          "name": "stderr",
          "text": [
            "/usr/local/lib/python3.7/dist-packages/ipykernel_launcher.py:9: VisibleDeprecationWarning: Creating an ndarray from ragged nested sequences (which is a list-or-tuple of lists-or-tuples-or ndarrays with different lengths or shapes) is deprecated. If you meant to do this, you must specify 'dtype=object' when creating the ndarray.\n",
            "  if __name__ == '__main__':\n"
          ]
        }
      ]
    },
    {
      "cell_type": "markdown",
      "source": [
        "- array() : 파이썬의 리스트와 같은 다양한 인자를 입력 받아서 ndarray로 변환하는 기능 수행\n",
        "- 생성된 ndarray 배열의 shape 변수는 ndarray의 크기, 즉 행과 열의 수를 튜플 형태로 가지고 있으며 이를 통해 ndarray배열의 차원까지 알 수 있음\n",
        "- array1 과 array3 은 동일한 데이터 건수를 가지고 있지만, array1은 명확하게 1차원임을 (3,)로 표현한 것이고 array3은 명확하게 로우와 칼럼으로 이뤄진 2차원 데이털임을 (1,3)으로 표현한 것"
      ],
      "metadata": {
        "id": "apa2EWWNf6d3"
      }
    },
    {
      "cell_type": "markdown",
      "source": [
        "####ndarray의 데이터 타입\n",
        "- ndarray내의 데이터값은 숫자 값(int, unsigned int, float, complex), 문자열 값, 불 값 등이 모두 가능\n",
        "- ndarray내의 데이터 타입은 연산의 특성상 같은 데이터 타입만 가능 <-> list\n",
        "  - 다른 데이터 유형이 섞여 있는 리스트를 ndarray로 변경하면 데이터 크기가 더 큰 데이터 타입으로 형 변환을 일괄 적용\n",
        "- ndarray내의 데이터 타입은 dtype 속성으로 확인할 수 있음"
      ],
      "metadata": {
        "id": "Y-perdBTgop4"
      }
    },
    {
      "cell_type": "code",
      "source": [
        "list1 = [1,2,3]\n",
        "print(type(list1))\n",
        "array1 = np.array(list1)\n",
        "print(type(array1))\n",
        "print(array1, array1.dtype)"
      ],
      "metadata": {
        "colab": {
          "base_uri": "https://localhost:8080/"
        },
        "id": "RAX9wrZVfBYI",
        "outputId": "b2de5eba-8966-4306-953a-404d1da13fb0"
      },
      "execution_count": 11,
      "outputs": [
        {
          "output_type": "stream",
          "name": "stdout",
          "text": [
            "<class 'list'>\n",
            "<class 'numpy.ndarray'>\n",
            "[1 2 3] int64\n"
          ]
        }
      ]
    },
    {
      "cell_type": "code",
      "source": [
        "list2 = [1, 2, 'test']\n",
        "array2 = np.array(list2)\n",
        "print(array2, array2.dtype)\n",
        "# 숫자형 값이 모두 유니코드 문자열 값으로 변환됨\n",
        "\n",
        "list3 = [1, 2, 3.0]\n",
        "array3 = np.array(list3)\n",
        "print(array3, array3.dtype)\n",
        "# int가 모두 float64로 변환됨"
      ],
      "metadata": {
        "colab": {
          "base_uri": "https://localhost:8080/"
        },
        "id": "Um8ZHYRlhM86",
        "outputId": "6a925326-fda7-45fc-e658-0555587bfcc1"
      },
      "execution_count": 12,
      "outputs": [
        {
          "output_type": "stream",
          "name": "stdout",
          "text": [
            "['1' '2' 'test'] <U21\n",
            "[1. 2. 3.] float64\n"
          ]
        }
      ]
    },
    {
      "cell_type": "markdown",
      "source": [
        "- ndarray 내 데이터값의 변경도 astype()로 가능\n",
        "  - astype()에 인자로 원하는 타입을 문자열로 지정\n",
        "  - 대용량 데이터의 ndarray를 만들 때 많은 메모리가 사용됨, 메모리를 더 절약해야할 때 보통 이용됨"
      ],
      "metadata": {
        "id": "CT6jWH40i993"
      }
    },
    {
      "cell_type": "code",
      "source": [
        "array_int = np.array([1,2,3])\n",
        "array_float = array_int.astype('float64')\n",
        "print(array_float, array_float.dtype)\n",
        "\n",
        "array_int1 = array_float.astype('int32') \n",
        "print(array_int1, array_int1.dtype)\n",
        "\n",
        "array_float1 = np.array([1.1, 2.1, 3.1])\n",
        "array_int2 = array_float.astype('int32')\n",
        "print(array_int2, array_int2.dtype)"
      ],
      "metadata": {
        "colab": {
          "base_uri": "https://localhost:8080/"
        },
        "id": "7GN_5OUMiFAt",
        "outputId": "b4238120-57b7-4a34-9ff5-3d604f7ce354"
      },
      "execution_count": 15,
      "outputs": [
        {
          "output_type": "stream",
          "name": "stdout",
          "text": [
            "[1. 2. 3.] float64\n",
            "[1 2 3] int32\n",
            "[1 2 3] int32\n"
          ]
        }
      ]
    },
    {
      "cell_type": "markdown",
      "source": [
        "####ndarray를 편리하게 생성하기 - arange, zeros, ones\n",
        ": 특정 크기와 차원을 가진 ndarray를 연속값이나 0 또는 1로 초기화해 쉽게 생성해야 할 필요가 있는 경우가 발생할 수 있음 - arange(), zeros(), ones()를 이용해 쉽게 ndarray를 생성할 수 있음\n",
        "- 테스트용으로 데이터를 만들거나 대규모의 데이터를 일괄적으로 초기화해야 할 경우에 사용\n",
        "\n"
      ],
      "metadata": {
        "id": "v2-58iNNk5gF"
      }
    },
    {
      "cell_type": "markdown",
      "source": [
        "- arange() : 함수 이름에서 알 수 있듯 파이썬 표준 함수인 range()와 유사한 기능, array를  range()로 표현하는 것으로 쉽게 생각\n",
        "  - 0부터 함수 인자 값-1 까지의 값을 순차적으로 ndarray의 데이터 값으로 변환\n",
        "  - default 함수 인자는 stop값\n",
        "  - start값도 부여해 0이 아닌 다른 값부터 시작한 연속 값을 부여할 수도 있음\n",
        "  "
      ],
      "metadata": {
        "id": "Kyc4EVeJmI_E"
      }
    },
    {
      "cell_type": "code",
      "source": [
        "sequence_array = np.arange(10)\n",
        "print(sequence_array)\n",
        "print(sequence_array.dtype, sequence_array.shape)"
      ],
      "metadata": {
        "colab": {
          "base_uri": "https://localhost:8080/"
        },
        "id": "UPM3-8vOkAPG",
        "outputId": "97833a11-e319-4a59-c6ea-acb827d3fb37"
      },
      "execution_count": 19,
      "outputs": [
        {
          "output_type": "stream",
          "name": "stdout",
          "text": [
            "[0 1 2 3 4 5 6 7 8 9]\n",
            "int64 (10,)\n"
          ]
        }
      ]
    },
    {
      "cell_type": "markdown",
      "source": [
        "- zeros() : 함수 인자로 튜플 형태의 shape값을 입력하면 모든 값을 0으로 채운 해당 shape를 가진 ndarray를 반환함\n",
        "- ones() : 함수 인자로 튜플 형태의 shape값을 입력하면 모든 값을 1로 채운 해당 shape를 가진 ndarray 반환\n",
        "  - 함수 인자로 dtype를 정해주지 않으면 default로 float64형의 데이터로 ndarray를 채움"
      ],
      "metadata": {
        "id": "rNUWuPV-m9Fc"
      }
    },
    {
      "cell_type": "code",
      "source": [
        "zero_array = np.zeros((3,2), dtype = 'int32')\n",
        "print(zero_array)\n",
        "print(zero_array.dtype, zero_array.shape)\n",
        "\n",
        "one_array = np.ones((3,2))\n",
        "print(one_array)\n",
        "print(one_array.dtype, one_array.shape)"
      ],
      "metadata": {
        "colab": {
          "base_uri": "https://localhost:8080/"
        },
        "id": "KLmHm8xQnfGk",
        "outputId": "b3eaaa8f-0436-4ec4-fcb2-56f0a77a2bb1"
      },
      "execution_count": 20,
      "outputs": [
        {
          "output_type": "stream",
          "name": "stdout",
          "text": [
            "[[0 0]\n",
            " [0 0]\n",
            " [0 0]]\n",
            "int32 (3, 2)\n",
            "[[1. 1.]\n",
            " [1. 1.]\n",
            " [1. 1.]]\n",
            "float64 (3, 2)\n"
          ]
        }
      ]
    },
    {
      "cell_type": "markdown",
      "source": [
        "####ndarray의 차원과 크기를 변경하는 reshape()\n",
        "- reshape() : ndarray를 특정 차원 및 크기로 변환, 원하는 크기를 함수인자로 부여\n",
        "  - 지정된 사이즈로 변경이 불가능하면 오류 발생\n",
        "  - 인자로 -1을 적용하는 경우에 유용하게 사용 - 원래 ndarray와 호환되는 새로운 shape로 변환 - 마찬가지로 호환될 수 없는 형태는 변환할 수 없음"
      ],
      "metadata": {
        "id": "tc6jaUKJK-wG"
      }
    },
    {
      "cell_type": "code",
      "source": [
        "array1 = np.arange(10)\n",
        "print('array1:\\n', array1)\n",
        "\n",
        "array2 = array1.reshape(2,5)\n",
        "print('array2:\\n', array2)\n",
        "\n",
        "array3 = array1.reshape(5,2)\n",
        "print('array3:\\n', array3)"
      ],
      "metadata": {
        "colab": {
          "base_uri": "https://localhost:8080/"
        },
        "id": "3yN9QsoHn2pS",
        "outputId": "0e73a900-20be-415a-c0e6-09f7249abdec"
      },
      "execution_count": 21,
      "outputs": [
        {
          "output_type": "stream",
          "name": "stdout",
          "text": [
            "array1:\n",
            " [0 1 2 3 4 5 6 7 8 9]\n",
            "array2:\n",
            " [[0 1 2 3 4]\n",
            " [5 6 7 8 9]]\n",
            "array3:\n",
            " [[0 1]\n",
            " [2 3]\n",
            " [4 5]\n",
            " [6 7]\n",
            " [8 9]]\n"
          ]
        }
      ]
    },
    {
      "cell_type": "code",
      "source": [
        "array1 = np.arange(10)\n",
        "print(array1)\n",
        "array2 = array1.reshape(-1,5)  #5개의 col에 맞는 row 개수로 맞춰줌\n",
        "print('array2 shape:', array2.shape)\n",
        "array3 = array1.reshape(5,-1)  #5개의 row에 맞는 col 개수로 맞춰줌\n",
        "print('array3 shape:', array3.shape)"
      ],
      "metadata": {
        "colab": {
          "base_uri": "https://localhost:8080/"
        },
        "id": "Zd2FV2NZL1AD",
        "outputId": "14813ef8-9df6-46fb-d1fa-818d65f01c9e"
      },
      "execution_count": 22,
      "outputs": [
        {
          "output_type": "stream",
          "name": "stdout",
          "text": [
            "[0 1 2 3 4 5 6 7 8 9]\n",
            "array2 shape: (2, 5)\n",
            "array3 shape: (5, 2)\n"
          ]
        }
      ]
    },
    {
      "cell_type": "markdown",
      "source": [
        "- -1 인자는 reshape(-1,1)과 같은 형태로 자주 사용 - 원본 ndarray가 어떤 형태라도 2차원이고, 여러 개의 row를 가지되 반드시 한 개의 col을 가진 ndarray로 변환됨을 보장"
      ],
      "metadata": {
        "id": "myxfb5q1M8fa"
      }
    },
    {
      "cell_type": "code",
      "source": [
        "array1 = np.arange(8)\n",
        "array3d = array1.reshape(2,2,2)\n",
        "print('array3d:\\n', array3d.tolist())  # tolist() : ndarray를 리스트형으로 변환\n",
        "\n",
        "#3차원 ndarray를 2차원 ndarray로 변환\n",
        "array5 = array3d.reshape(-1,1) \n",
        "print('array5:\\n', array5.tolist())\n",
        "print('array5 shape:', array5.shape)\n",
        "\n",
        "#1차원 ndarray를 2차원 ndarray로 변환\n",
        "array6 = array1.reshape(-1,1)\n",
        "print('array6:\\n', array6.tolist())\n",
        "print('array6 shape:', array6.shape)\n"
      ],
      "metadata": {
        "colab": {
          "base_uri": "https://localhost:8080/"
        },
        "id": "NmouCRN4MZaY",
        "outputId": "482b6a2b-0c75-4e73-f7c7-a054d2db0a0c"
      },
      "execution_count": 27,
      "outputs": [
        {
          "output_type": "stream",
          "name": "stdout",
          "text": [
            "array3d:\n",
            " [[[0, 1], [2, 3]], [[4, 5], [6, 7]]]\n",
            "array5:\n",
            " [[0], [1], [2], [3], [4], [5], [6], [7]]\n",
            "array5 shape: (8, 1)\n",
            "array6:\n",
            " [[0], [1], [2], [3], [4], [5], [6], [7]]\n",
            "array6 shape: (8, 1)\n"
          ]
        }
      ]
    },
    {
      "cell_type": "markdown",
      "source": [
        "####넘파이의 ndarray의 데이터 세트 선택하기 - 인덱싱(indexing)\n",
        "1. 특정한 데이터만 추출 : 원하는 위치의 인덱스 값을 지정하면 해당 위치의 데이터가 반환됨\n",
        "2. 슬라이싱 slicing : 슬라이싱은 연속된 인덱스상의 ndarray를 추출하는 방식, ':' 기호 사이에 시작 인덱스와 종료 인덱스를 표시하면 시작 인덱스에서 종료 인덱스-1 위치에 있는 데이터의 ndarray를 반환\n",
        "3. 팬시 인덱싱 fancy indexing : 일정한 인덱싱 집합을 리스트 또는 ndarray 형태로 지정해 해당 위치에 있는 데이터의 ndarray를 반환\n",
        "4. 불린 인덱싱 boolean indexing : 특정 조건에 해당하는지 여부인 True/False 값 인덱싱 집합을 기반으로 True에 해당하는 인덱스 위치에 있는 데이터의 ndarray 반환\n",
        "\n",
        "- 단일 데이터값 추출을 제외하고 슬라이싱, 팬시 인덱싱, 불린 인덱싱으로 추출된 데이터 세트는 모두 ndarray 타입\n",
        "\n",
        "**-단일 값 추출**\n"
      ],
      "metadata": {
        "id": "Kcq_IJVTORJA"
      }
    },
    {
      "cell_type": "code",
      "source": [
        "array1 = np.arange(start = 1, stop = 10)\n",
        "print('array1:', array1)\n",
        "\n",
        "value = array1[2]  #0부터 시작하므로 3번째 위치의 값, 마이너스 기호 사용하면 맨 뒤에서부터 데이터 추출\n",
        "print('value :', value)\n",
        "print(type(value)) #array1[2]는 더이상 ndarray 타입이 아니고 ndarray내의 데이터값 의미"
      ],
      "metadata": {
        "colab": {
          "base_uri": "https://localhost:8080/"
        },
        "id": "NeCylk6_NdBQ",
        "outputId": "077af19e-8dc3-415a-8171-e980e06fcb7d"
      },
      "execution_count": 28,
      "outputs": [
        {
          "output_type": "stream",
          "name": "stdout",
          "text": [
            "array1: [1 2 3 4 5 6 7 8 9]\n",
            "value : 3\n",
            "<class 'numpy.int64'>\n"
          ]
        }
      ]
    },
    {
      "cell_type": "code",
      "source": [
        "array1[0] = 9\n",
        "array1[8] = 0\n",
        "print('array1', array1)  #단일 인덱스를 이용해 ndarray내의 데이터값도 간단히 수정 가능"
      ],
      "metadata": {
        "colab": {
          "base_uri": "https://localhost:8080/"
        },
        "id": "B4iHLeZnQBz6",
        "outputId": "d8577657-621f-49d8-c996-729ab9c75f89"
      },
      "execution_count": 29,
      "outputs": [
        {
          "output_type": "stream",
          "name": "stdout",
          "text": [
            "array1 [9 2 3 4 5 6 7 8 0]\n"
          ]
        }
      ]
    },
    {
      "cell_type": "code",
      "source": [
        "#다차원 ndarray에서 단일 값 추출\n",
        "array1d = np.arange(start = 1, stop = 10)\n",
        "array2d = array1d.reshape(3,3)\n",
        "print(array2d)\n",
        "\n",
        "print('(row=0, col=0) index 가리키는 값:', array2d[0,0])\n",
        "print('(row=0, col=1) index 가리키는 값:', array2d[0,1])\n",
        "print('(row=1, col=0) index 가리키는 값:', array2d[1,0])\n",
        "print('(row=1, col=1) index 가리키는 값:', array2d[1,1])"
      ],
      "metadata": {
        "colab": {
          "base_uri": "https://localhost:8080/"
        },
        "id": "rmW9KE9tQhYx",
        "outputId": "0a62e1e2-af43-4eac-ab9f-337b973fba69"
      },
      "execution_count": 32,
      "outputs": [
        {
          "output_type": "stream",
          "name": "stdout",
          "text": [
            "[[1 2 3]\n",
            " [4 5 6]\n",
            " [7 8 9]]\n",
            "(row=0, col=0) index 가리키는 값: 1\n",
            "(row=0, col=1) index 가리키는 값: 2\n",
            "(row=1, col=0) index 가리키는 값: 4\n",
            "(row=1, col=1) index 가리키는 값: 5\n"
          ]
        }
      ]
    },
    {
      "cell_type": "markdown",
      "source": [
        "- axis 0 : row 방향의 축\n",
        "- axis 1 : col 방향의 축\n",
        "  - **row 와 col은 ndarray에서는 사용되지 않는 표현! axis 0, axis 1 이 올바른 표현**"
      ],
      "metadata": {
        "id": "oSkQGEe1Rg54"
      }
    },
    {
      "cell_type": "markdown",
      "source": [
        "**-슬라이싱**\n",
        "- ':' 기호 앞에 시작 인덱스를 생략하면 자동으로 맨 처음 인덱스인 0으로 간주\n",
        "- ':' 기호 뒤에 종료 인댁스를 생략하면 자동으로 맨 마지막 인덱스로 간주\n",
        "- ':' 기호 앞/뒤에 시작/종료 인덱스를 생략하면 자동으로 맨처음/맨 마지막 인덱스로 간주"
      ],
      "metadata": {
        "id": "7giaCg8oR9kv"
      }
    },
    {
      "cell_type": "code",
      "source": [
        "array1 = np.arange(start=1, stop=10)\n",
        "array3 = array1[0:3]\n",
        "print(array3)\n",
        "print(type(array3))"
      ],
      "metadata": {
        "colab": {
          "base_uri": "https://localhost:8080/"
        },
        "id": "Yy8Vpf3jRBNJ",
        "outputId": "1fb119f6-0dd5-4e43-ef7f-c6389075f3c0"
      },
      "execution_count": 33,
      "outputs": [
        {
          "output_type": "stream",
          "name": "stdout",
          "text": [
            "[1 2 3]\n",
            "<class 'numpy.ndarray'>\n"
          ]
        }
      ]
    },
    {
      "cell_type": "code",
      "source": [
        "array1 = np.arange(1,10)\n",
        "array4 = array1[:3]\n",
        "print(array4)\n",
        "\n",
        "array5 = array1[3:]\n",
        "print(array5)\n",
        "\n",
        "array6 = array1[:]\n",
        "print(array6)"
      ],
      "metadata": {
        "colab": {
          "base_uri": "https://localhost:8080/"
        },
        "id": "HKnyVwXTScCE",
        "outputId": "19e8b50d-fbd8-4d42-cc73-3372d56cd395"
      },
      "execution_count": 37,
      "outputs": [
        {
          "output_type": "stream",
          "name": "stdout",
          "text": [
            "[1 2 3]\n",
            "[4 5 6 7 8 9]\n",
            "[1 2 3 4 5 6 7 8 9]\n"
          ]
        }
      ]
    },
    {
      "cell_type": "code",
      "source": [
        "#다차원 ndarray에서 슬라이싱\n",
        "array1d = np.arange(1,10)\n",
        "array2d = array1d.reshape(3,3)\n",
        "print('array2d:\\n', array2d)\n",
        "\n",
        "print('array2d[0:2,0:2]\\n', array2d[0:2,0:2])\n",
        "print('array2d[1:3,0:3]\\n', array2d[1:3,0:3])\n",
        "print('array2d[1:3,:]\\n', array2d[1:3,:])\n",
        "print('array2d[:,:]\\n', array2d[:,:])\n",
        "print('array2d[:2,1:]\\n', array2d[:2,1:])\n",
        "print('array2d[:2,0]\\n', array2d[:2,0])  # 2차원 ndarray에서 뒤에 오는 인덱스를 없애면 1차원 ndarray를 반환"
      ],
      "metadata": {
        "colab": {
          "base_uri": "https://localhost:8080/"
        },
        "id": "jJrUgnMuS6hU",
        "outputId": "4fb78533-b6a9-4df3-95db-af33a8ba1f5e"
      },
      "execution_count": 38,
      "outputs": [
        {
          "output_type": "stream",
          "name": "stdout",
          "text": [
            "array2d:\n",
            " [[1 2 3]\n",
            " [4 5 6]\n",
            " [7 8 9]]\n",
            "array2d[0:2,0:2]\n",
            " [[1 2]\n",
            " [4 5]]\n",
            "array2d[1:3,0:3]\n",
            " [[4 5 6]\n",
            " [7 8 9]]\n",
            "array2d[1:3,:]\n",
            " [[4 5 6]\n",
            " [7 8 9]]\n",
            "array2d[:,:]\n",
            " [[1 2 3]\n",
            " [4 5 6]\n",
            " [7 8 9]]\n",
            "array2d[:2,1:]\n",
            " [[2 3]\n",
            " [5 6]]\n",
            "array2d[:2,0]\n",
            " [1 4]\n"
          ]
        }
      ]
    },
    {
      "cell_type": "code",
      "source": [
        "print(array2d[0])\n",
        "print(array2d[1])\n",
        "print('array2d[0] shape:', array2d[0].shape, 'array2d[1] shape:', array2d[1].shape)"
      ],
      "metadata": {
        "colab": {
          "base_uri": "https://localhost:8080/"
        },
        "id": "jsnvbdQqT7Cj",
        "outputId": "d46c2c69-8542-4978-b67a-7de847eec20c"
      },
      "execution_count": 39,
      "outputs": [
        {
          "output_type": "stream",
          "name": "stdout",
          "text": [
            "[1 2 3]\n",
            "[4 5 6]\n",
            "array2d[0] shape: (3,) array2d[1] shape: (3,)\n"
          ]
        }
      ]
    },
    {
      "cell_type": "markdown",
      "source": [
        "**-팬시 인덱싱**"
      ],
      "metadata": {
        "id": "mHbaUiEEVRh3"
      }
    },
    {
      "cell_type": "code",
      "source": [
        "array1d = np.arange(1,10)\n",
        "array2d = array1d.reshape(3,3)\n",
        "\n",
        "array3 = array2d[[0,1],2]\n",
        "print('array2d[[0,1],2] =>', array3.tolist())\n",
        "\n",
        "array4 = array2d[[0,1],0:2]\n",
        "print('array2d[[0,1],0:2] =>', array4.tolist())\n",
        "\n",
        "array5 = array2d[[0,1]]\n",
        "print('array2d[[0,1]] => ', array5.tolist())"
      ],
      "metadata": {
        "colab": {
          "base_uri": "https://localhost:8080/"
        },
        "id": "LBHw8xwpVDYu",
        "outputId": "3264adc9-8b89-47fd-8010-371c79e3ec6f"
      },
      "execution_count": 41,
      "outputs": [
        {
          "output_type": "stream",
          "name": "stdout",
          "text": [
            "array2d[[0,1],2] => [3, 6]\n",
            "array2d[[0,1],0:2] => [[1, 2], [4, 5]]\n",
            "array2d[[0,1]] =>  [[1, 2, 3], [4, 5, 6]]\n"
          ]
        }
      ]
    },
    {
      "cell_type": "markdown",
      "source": [
        "**-불린 인덱싱**"
      ],
      "metadata": {
        "id": "EiEu-iwBW7Lw"
      }
    },
    {
      "cell_type": "code",
      "source": [
        "array1d = np.arange(1,10)\n",
        "array3 = array1d[array1d > 5]\n",
        "print('array1d > 5 불린 인덱싱 결과 값 : ', array3)"
      ],
      "metadata": {
        "colab": {
          "base_uri": "https://localhost:8080/"
        },
        "id": "6KErOytRVP_-",
        "outputId": "9d3e2d7a-5445-4b41-dcc0-3c5e7c5a9197"
      },
      "execution_count": 43,
      "outputs": [
        {
          "output_type": "stream",
          "name": "stdout",
          "text": [
            "array1d > 5 불린 인덱싱 결과 값 :  [6 7 8 9]\n"
          ]
        }
      ]
    },
    {
      "cell_type": "code",
      "source": [
        "array1d > 5  # True 위치에 해당하는 값만"
      ],
      "metadata": {
        "colab": {
          "base_uri": "https://localhost:8080/"
        },
        "id": "X-H8QlntYLMO",
        "outputId": "952952a4-8c4f-4dfb-a93f-d118a27a7a68"
      },
      "execution_count": 48,
      "outputs": [
        {
          "output_type": "execute_result",
          "data": {
            "text/plain": [
              "array([False, False, False, False, False,  True,  True,  True,  True])"
            ]
          },
          "metadata": {},
          "execution_count": 48
        }
      ]
    },
    {
      "cell_type": "code",
      "source": [
        "boolean_indexes = np.array([False, False, False, False, False,  True,  True,  True,  True])\n",
        "array3 = array1d[boolean_indexes]\n",
        "print('불린 인덱스로 필터링 결과 : ', array3)  #결과 동일"
      ],
      "metadata": {
        "colab": {
          "base_uri": "https://localhost:8080/"
        },
        "id": "SnwP_lCFXgyt",
        "outputId": "c6d5be3b-35b6-4eb9-9e8e-fe0445526c28"
      },
      "execution_count": 47,
      "outputs": [
        {
          "output_type": "stream",
          "name": "stdout",
          "text": [
            "불린 인덱스로 필터링 결과 :  [6 7 8 9]\n"
          ]
        }
      ]
    },
    {
      "cell_type": "markdown",
      "source": [
        "####행렬의 정렬 - sort()와 argsort()\n",
        "**-행렬 정렬**\n",
        "- np.sort() : 넘파이에서 sort()를 호출하는 방식, 원 행렬은 그대로 유지한 채 원 행렬의 정렬된 행렬 반환\n",
        "- ndarray.sort() : 행렬 자체에서 sort()를 호출하는 방식, 원 행렬 자체를 정렬한 형태로 변환, 반환 값 None\n",
        "- 모두 기본적으로 오름차순 정렬, 내림차순 정렬하기 위해서는 [::-1] 적용\n",
        "- 다차원 행렬일 경우 axis 축 값 설정을 통해 row 방향, 또는 col 방향으로 정렬 수행 가능"
      ],
      "metadata": {
        "id": "Z4c2mJ0uYSkG"
      }
    },
    {
      "cell_type": "code",
      "source": [
        "org_array = np.array([3,1,9,5])\n",
        "print('원본 행렬:', org_array)\n",
        "\n",
        "#np.sort()로 정렬\n",
        "sort_array1 = np.sort(org_array)\n",
        "print('np.sort() 호출 후 반환된 정렬 행렬 :', sort_array1)\n",
        "print('np.sort() 호출 후 원본 행렬 : ', org_array)\n",
        "\n",
        "#ndarray.sort()로 정렬\n",
        "sort_array2 = org_array.sort()\n",
        "print('ndarray.sort() 호출 후 반환된 행렬 :', sort_array2)\n",
        "print('ndarray.sort() 호출 후 원본 행렬 : ', org_array)"
      ],
      "metadata": {
        "colab": {
          "base_uri": "https://localhost:8080/"
        },
        "id": "ee-MNhv7Xod4",
        "outputId": "a67efd34-9ae5-452e-90b5-a74ffab24e8b"
      },
      "execution_count": 49,
      "outputs": [
        {
          "output_type": "stream",
          "name": "stdout",
          "text": [
            "원본 행렬: [3 1 9 5]\n",
            "np.sort() 호출 후 반환된 정렬 행렬 : [1 3 5 9]\n",
            "np.sort() 호출 후 원본 행렬 :  [3 1 9 5]\n",
            "ndarray.sort() 호출 후 반환된 행렬 : None\n",
            "ndarray.sort() 호출 후 원본 행렬 :  [1 3 5 9]\n"
          ]
        }
      ]
    },
    {
      "cell_type": "code",
      "source": [
        "sort_array1_desc = np.sort(org_array)[::-1]\n",
        "print('내림차순으로 정렬 : ', sort_array1_desc)"
      ],
      "metadata": {
        "colab": {
          "base_uri": "https://localhost:8080/"
        },
        "id": "zYkNre9yaQI5",
        "outputId": "516e15f5-efab-41c0-93de-694dcdf5fff2"
      },
      "execution_count": 50,
      "outputs": [
        {
          "output_type": "stream",
          "name": "stdout",
          "text": [
            "내림차순으로 정렬 :  [9 5 3 1]\n"
          ]
        }
      ]
    },
    {
      "cell_type": "code",
      "source": [
        "array2d = np.array([[8,12],\n",
        "                    [7,1]])\n",
        "\n",
        "sort_array2d_axis0 = np.sort(array2d, axis=0)\n",
        "print('row 방향으로 정렬 : \\n', sort_array2d_axis0)\n",
        "\n",
        "sort_array2d_axis1 = np.sort(array2d, axis=1)\n",
        "print('col 방향으로 정렬 : \\n', sort_array2d_axis1)"
      ],
      "metadata": {
        "colab": {
          "base_uri": "https://localhost:8080/"
        },
        "id": "N6bhZaHkakgS",
        "outputId": "57a4b12c-2f20-403c-a7fa-5e9eff8b5269"
      },
      "execution_count": 51,
      "outputs": [
        {
          "output_type": "stream",
          "name": "stdout",
          "text": [
            "row 방향으로 정렬 : \n",
            " [[ 7  1]\n",
            " [ 8 12]]\n",
            "col 방향으로 정렬 : \n",
            " [[ 8 12]\n",
            " [ 1  7]]\n"
          ]
        }
      ]
    },
    {
      "cell_type": "markdown",
      "source": [
        "**-정렬된 행렬의 인덱스를 반환하기**\n",
        "- np.argsort() : 원본 행렬이 정렬되었을 때 기존 원본 행렬의 원소에 대한 인덱스를 필요로 할 때 이용, 정렬 행렬의 원본 행렬 인덱스를 ndarray형으로 반환\n",
        "- 내림차순으로 정렬시에 원본 행렬의 인덱스를 구하는 것도 np.argsort()[::-1]과 같이 [::-1] 적용"
      ],
      "metadata": {
        "id": "arQKXN_8bR9Y"
      }
    },
    {
      "cell_type": "code",
      "source": [
        "org_array = np.array([3,1,9,5])\n",
        "sort_indices = np.argsort(org_array)\n",
        "print(type(sort_indices))\n",
        "print('행렬 정렬 시 원본 행렬의 인덱스 : ', sort_indices)"
      ],
      "metadata": {
        "colab": {
          "base_uri": "https://localhost:8080/"
        },
        "id": "C6IbZeJfbMQ7",
        "outputId": "7bf5d59b-e79b-448b-a9a8-c7e19f389f26"
      },
      "execution_count": 52,
      "outputs": [
        {
          "output_type": "stream",
          "name": "stdout",
          "text": [
            "<class 'numpy.ndarray'>\n",
            "행렬 정렬 시 원본 행렬의 인덱스 :  [1 0 3 2]\n"
          ]
        }
      ]
    },
    {
      "cell_type": "code",
      "source": [
        "org_array = np.array([3,1,9,5])\n",
        "sort_indices_desc = np.argsort(org_array)[::-1]\n",
        "print('행렬 내림차순 정렬 시 원본 행렬의 인덱스 : ', sort_indices_desc)"
      ],
      "metadata": {
        "colab": {
          "base_uri": "https://localhost:8080/"
        },
        "id": "_UrBfWB8b3kh",
        "outputId": "15c70432-2147-49e0-f6c1-f3e0d7bffed6"
      },
      "execution_count": 53,
      "outputs": [
        {
          "output_type": "stream",
          "name": "stdout",
          "text": [
            "행렬 내림차순 정렬 시 원본 행렬의 인덱스 :  [2 3 0 1]\n"
          ]
        }
      ]
    },
    {
      "cell_type": "markdown",
      "source": [
        "- 넘파이의 ndarray는 RDBMS의 TABLE 칼럼이나 뒤에 소개할 판다스 DataFrame 칼럼과 같은 메타 데이터 가질 수 없음, 따라서 실제 값과 그 값이 뜻하는 메타 데이커를 별도의 ndarray로 각각 가져야만 함"
      ],
      "metadata": {
        "id": "E8uSt63zd3pY"
      }
    },
    {
      "cell_type": "code",
      "source": [
        "name_array = np.array(['John', 'Mike', 'Sarah', 'Kate', 'Samuel'])\n",
        "score_array = np.array([78,95,84,98,88])\n",
        "\n",
        "sort_indices_asc = np.argsort(score_array)\n",
        "print('성적 오름차순 정렬 시 score_array의 인덱스 :', sort_indices_asc)\n",
        "print('성적 오름차순으로 name_array의 이름 출력 :', name_array[sort_indices_asc])"
      ],
      "metadata": {
        "colab": {
          "base_uri": "https://localhost:8080/"
        },
        "id": "-83pFn4FcSeP",
        "outputId": "b0e6f04a-9534-47c5-e05c-993b79bfb6f1"
      },
      "execution_count": 54,
      "outputs": [
        {
          "output_type": "stream",
          "name": "stdout",
          "text": [
            "성적 오름차순 정렬 시 score_array의 인덱스 : [0 2 4 1 3]\n",
            "성적 오름차순으로 name_array의 이름 출력 : ['John' 'Sarah' 'Samuel' 'Mike' 'Kate']\n"
          ]
        }
      ]
    },
    {
      "cell_type": "markdown",
      "source": [
        "####선형대수 연산 - 행렬 내적과 전치 행렬 구하기\n",
        "**-행렬 내적(행렬 곱)**\n",
        "- 행렬 내적은 행렬 곱이며, 두 행렬 A와 B의 내적은 np.dot()을 이용해 계산 가능\n",
        "- 왼쪽 행렬의 열 개수와 오른쪽 행렬의 행개수가 동일해야 내적 연산 가능\n",
        "\n"
      ],
      "metadata": {
        "id": "5uOBVXNDe5ns"
      }
    },
    {
      "cell_type": "code",
      "source": [
        "A = np.array([[1,2,3],\n",
        "              [4,5,6]])\n",
        "B = np.array([[7,8],\n",
        "              [9,10],\n",
        "              [11,12]])\n",
        "dot_product = np.dot(A, B)\n",
        "print('행렬 내적 결과:\\n', dot_product)"
      ],
      "metadata": {
        "colab": {
          "base_uri": "https://localhost:8080/"
        },
        "id": "gYGyql1pezbY",
        "outputId": "78a66c66-f6af-494f-8693-e7b1f5de3ec4"
      },
      "execution_count": 55,
      "outputs": [
        {
          "output_type": "stream",
          "name": "stdout",
          "text": [
            "행렬 내적 결과:\n",
            " [[ 58  64]\n",
            " [139 154]]\n"
          ]
        }
      ]
    },
    {
      "cell_type": "markdown",
      "source": [
        "**-전치 행렬**\n",
        "- 원 행렬에서 행과 열의 위치를 교환한 원소로 구성한 행렬 - transpose\n",
        "- np.transpose() 이용"
      ],
      "metadata": {
        "id": "QXroU9P3fpJC"
      }
    },
    {
      "cell_type": "code",
      "source": [
        "A = np.array([[1,2],\n",
        "              [3,4]])\n",
        "transpose_mat = np.transpose(A)\n",
        "print('A의 전치 행렬:\\n', transpose_mat)"
      ],
      "metadata": {
        "colab": {
          "base_uri": "https://localhost:8080/"
        },
        "id": "Fqa_8zFnfmF0",
        "outputId": "4df0bcf8-7eba-4684-aa61-8978f733be19"
      },
      "execution_count": 56,
      "outputs": [
        {
          "output_type": "stream",
          "name": "stdout",
          "text": [
            "A의 전치 행렬:\n",
            " [[1 3]\n",
            " [2 4]]\n"
          ]
        }
      ]
    }
  ]
}