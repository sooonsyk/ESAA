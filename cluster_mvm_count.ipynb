{
  "nbformat": 4,
  "nbformat_minor": 0,
  "metadata": {
    "colab": {
      "name": "cluster_mvm_count.ipynb",
      "provenance": [],
      "mount_file_id": "1V8xzTgwcJpG5AhluKfjWvSHbIEU_Cf5w",
      "authorship_tag": "ABX9TyOleDy/xwPnuq9GdXwDCtLj",
      "include_colab_link": true
    },
    "kernelspec": {
      "name": "python3",
      "display_name": "Python 3"
    },
    "language_info": {
      "name": "python"
    }
  },
  "cells": [
    {
      "cell_type": "markdown",
      "metadata": {
        "id": "view-in-github",
        "colab_type": "text"
      },
      "source": [
        "<a href=\"https://colab.research.google.com/github/sooonsyk/ESAA/blob/main/cluster_mvm_count.ipynb\" target=\"_parent\"><img src=\"https://colab.research.google.com/assets/colab-badge.svg\" alt=\"Open In Colab\"/></a>"
      ]
    },
    {
      "cell_type": "code",
      "source": [
        "import pandas as pd\n",
        "import numpy as np"
      ],
      "metadata": {
        "id": "dePLMS1RwEjQ"
      },
      "execution_count": 2,
      "outputs": []
    },
    {
      "cell_type": "code",
      "source": [
        "DF_2022=pd.read_csv('/content/drive/MyDrive/DF_2022_KNN.csv')\n",
        "col = ['MESURE_AGE_CO','SEXDSTN_FLAG_CD','MESURE_IEM_001_VALUE','MESURE_IEM_002_VALUE','MESURE_IEM_003_VALUE','MESURE_IEM_005_VALUE','MESURE_IEM_006_VALUE','MESURE_IEM_012_VALUE','MESURE_IEM_018_VALUE']\n",
        "df_2022 = DF_2022[col]\n",
        "df_2022 = pd.get_dummies(data=df_2022)"
      ],
      "metadata": {
        "id": "D1TjkXwW4A3c"
      },
      "execution_count": 3,
      "outputs": []
    },
    {
      "cell_type": "code",
      "execution_count": 4,
      "metadata": {
        "id": "8JHM8mk7vTn6"
      },
      "outputs": [],
      "source": [
        "from sklearn.cluster import KMeans"
      ]
    },
    {
      "cell_type": "code",
      "source": [
        "kmeans = KMeans(n_clusters=7, init='k-means++', max_iter=300, random_state=42)\n",
        "kmeans.fit(df_2022)\n",
        "df_2022['cluster'] = kmeans.labels_\n",
        "df_2022['MVM_PRSCRPTN_CN'] = DF_2022['df_2022[, 16]']\n",
        "df_2022['cluster'].value_counts()"
      ],
      "metadata": {
        "colab": {
          "base_uri": "https://localhost:8080/"
        },
        "id": "8IwaWQje4_-P",
        "outputId": "fceee9f0-bdc5-46b0-9cfb-9a31541e72d5"
      },
      "execution_count": 5,
      "outputs": [
        {
          "output_type": "execute_result",
          "data": {
            "text/plain": [
              "0    31683\n",
              "2    26071\n",
              "3    19379\n",
              "1    19204\n",
              "4    17492\n",
              "6        3\n",
              "5        2\n",
              "Name: cluster, dtype: int64"
            ]
          },
          "metadata": {},
          "execution_count": 5
        }
      ]
    },
    {
      "cell_type": "code",
      "source": [
        "df_2022_c0 = df_2022[df_2022['cluster']==0]\n",
        "df_2022_c1 = df_2022[df_2022['cluster']==1]\n",
        "df_2022_c2 = df_2022[df_2022['cluster']==2]\n",
        "df_2022_c3 = df_2022[df_2022['cluster']==3]\n",
        "df_2022_c4 = df_2022[df_2022['cluster']==4]\n",
        "df_2022_c5 = df_2022[df_2022['cluster']==5]\n",
        "df_2022_c6 = df_2022[df_2022['cluster']==6]"
      ],
      "metadata": {
        "id": "CqvbAVF35_8L"
      },
      "execution_count": 18,
      "outputs": []
    },
    {
      "cell_type": "code",
      "source": [
        ""
      ],
      "metadata": {
        "id": "vdHA7NFT6-FM"
      },
      "execution_count": 6,
      "outputs": []
    },
    {
      "cell_type": "code",
      "source": [
        "def mvm_list(data):\n",
        "  data_mvm = data['MVM_PRSCRPTN_CN'].dropna(axis=0)\n",
        "\n",
        "  data_ispre = data_mvm[data_mvm.str.startswith('준')]  #준비운동 포함\n",
        "  data_nopre = data_mvm[data_mvm.str.startswith('준')==False] # 준비운동 포함 안 함\n",
        "\n",
        "  ispre_nomain = data_ispre.str.split('본운동:',expand=True).reset_index(drop=True)[:][0]\n",
        "  ispre_ismain = data_ispre.str.split('본운동:',expand=True).reset_index(drop=True)[:][1]\n",
        "  ispre_ismain.dropna(axis=0, inplace=True)\n",
        "\n",
        "  ispre_nomain_noend = ispre_nomain.str.split('마무리운동:',expand=True).reset_index(drop=True)[:][0] \n",
        "  ispre_nomain_isend = ispre_nomain.str.split('마무리운동:',expand=True).reset_index(drop=True)[:][1]\n",
        "  ispre_nomain_isend.dropna(axis=0, inplace=True)\n",
        "\n",
        "  ispre_ismain_noend = ispre_ismain.str.split('마무리운동:',expand=True).reset_index(drop=True)[:][0] \n",
        "  ispre_ismain_isend = ispre_ismain.str.split('마무리운동:',expand=True).reset_index(drop=True)[:][1] \n",
        "  ispre_ismain_isend.dropna(axis=0, inplace=True)\n",
        "\n",
        "  nopre_noend = data_nopre.str.split('마무리운동:',expand=True).reset_index(drop=True)[:][0]\n",
        "  nopre_isend = data_nopre.str.split('마무리운동:',expand=True).reset_index(drop=True)[:][1]\n",
        "  nopre_isend.dropna(axis=0,inplace=True)\n",
        "\n",
        "  #준비운동 리스트 만들기\n",
        "  ispre_nomain_noend = ispre_nomain_noend.str.replace('준비운동:','')\n",
        "  ispre_nomain_noend = ispre_nomain_noend.str.replace(' / ','')\n",
        "  pre_data = ispre_nomain_noend.str.split(',')\n",
        "  pre_list = []\n",
        "  for i in range(pre_data.shape[0]):\n",
        "    for j in range(len(pre_data[i])):\n",
        "      pre_list.append(pre_data[i][j])\n",
        "  pre_list = pd.DataFrame(pre_list)\n",
        "\n",
        "  #본운동 리스트 만들기\n",
        "  nopre_noend = nopre_noend.str.replace('본운동:','')\n",
        "  nopre_noend = nopre_noend.str.replace(' / ','')\n",
        "  nopre_noend = nopre_noend.str.split(',')\n",
        "  ispre_ismain_noend = ispre_ismain_noend.str.replace(' / ','')\n",
        "  ispre_ismain_noend = ispre_ismain_noend.str.split(',')\n",
        "  main_data = pd.concat([nopre_noend, ispre_ismain_noend],axis=0)\n",
        "  main_data.reset_index(drop=True, inplace=True)\n",
        "  main_list = []\n",
        "  for i in range(main_data.shape[0]):\n",
        "    for j in range(len(main_data[i])):\n",
        "        main_list.append(main_data[i][j])\n",
        "  main_list = pd.DataFrame(main_list)\n",
        "\n",
        "  #마무리운동 리스트 만들기\n",
        "  ispre_nomain_isend = ispre_nomain_isend.str.split(',')\n",
        "  ispre_ismain_isend = ispre_ismain_isend.str.split(',')\n",
        "  nopre_isend = nopre_isend.str.split(',')\n",
        "  end_data = pd.concat([ispre_nomain_isend, ispre_ismain_isend, nopre_isend], axis=0)\n",
        "  end_data.reset_index(drop=True, inplace=True)\n",
        "  end_list = []\n",
        "  for i in range(end_data.shape[0]):\n",
        "    for j in range(len(end_data[i])):\n",
        "        end_list.append(end_data[i][j])\n",
        "  end_list = pd.DataFrame(end_list)\n",
        "  \n",
        "  return pre_list, main_list, end_list"
      ],
      "metadata": {
        "id": "hU2b30fe7ALc"
      },
      "execution_count": 7,
      "outputs": []
    },
    {
      "cell_type": "code",
      "source": [
        "c0_pre, c0_main, c0_end = mvm_list(df_2022_c0)\n",
        "c1_pre, c1_main, c1_end = mvm_list(df_2022_c1)\n",
        "c2_pre, c2_main, c2_end = mvm_list(df_2022_c2)\n",
        "c3_pre, c3_main, c3_end = mvm_list(df_2022_c3)\n",
        "c4_pre, c4_main, c4_end = mvm_list(df_2022_c4)"
      ],
      "metadata": {
        "id": "2dlEgz96-fD-"
      },
      "execution_count": 15,
      "outputs": []
    },
    {
      "cell_type": "code",
      "source": [
        "#5번 클러스터 - 마무리 없음\n",
        "df_2022_c5.reset_index(drop=True, inplace=True)\n",
        "c5_ispre = df_2022_c5['MVM_PRSCRPTN_CN'].str.split('준비운동:',expand=True)[1]\n",
        "c5_ispre_pre = c5_ispre.str.split(' / 본운동:',expand=True)[0].str.split(',')\n",
        "c5_ispre_main_end = c5_ispre.str.split(' / 본운동:',expand=True)[1]\n",
        "c5_ispre_main = c5_ispre_main_end.str.split(' / 마무리운동:',expand=True)[0].str.split(',')\n",
        "\n",
        "c5_pre = []\n",
        "for i in range(df_2022_c5.shape[0]):\n",
        "  for j in range(len(c5_ispre_pre[i])):\n",
        "    c5_pre.append(c5_ispre_pre[i][j])\n",
        "c5_pre = pd.DataFrame(c5_pre)\n",
        "\n",
        "c5_main = []\n",
        "for i in range(df_2022_c5.shape[0]):\n",
        "  for j in range(len(c5_ispre_main[i])):\n",
        "    c5_main.append(c5_ispre_main[i][j])\n",
        "c5_main = pd.DataFrame(c5_main)\n",
        "\n",
        "c5_end = []\n",
        "c5_end = pd.DataFrame(c5_end)"
      ],
      "metadata": {
        "id": "fpcN6ujbTj2A"
      },
      "execution_count": 75,
      "outputs": []
    },
    {
      "cell_type": "code",
      "source": [
        "c5_pre.value_counts()"
      ],
      "metadata": {
        "colab": {
          "base_uri": "https://localhost:8080/"
        },
        "id": "dlVbuuQDcUpH",
        "outputId": "a963f3e1-de1e-4e08-f7a7-fdc51ef01de2"
      },
      "execution_count": 76,
      "outputs": [
        {
          "output_type": "execute_result",
          "data": {
            "text/plain": [
              "누워서 전신 뻗기         1\n",
              "동적 스트레칭 루틴프로그램    1\n",
              "등/어깨 뒤쪽 스트레칭      1\n",
              "어깨 뒤쪽 스트레칭        1\n",
              "엉덩이 스트레칭          1\n",
              "엉덩이 스트레칭2         1\n",
              "전신 루틴 스트레칭        1\n",
              "dtype: int64"
            ]
          },
          "metadata": {},
          "execution_count": 76
        }
      ]
    },
    {
      "cell_type": "code",
      "source": [
        "c5_main.value_counts()"
      ],
      "metadata": {
        "colab": {
          "base_uri": "https://localhost:8080/"
        },
        "id": "EyIk95R4TgW1",
        "outputId": "b7496bc4-10b5-4dd7-9057-fa9c175ef73b"
      },
      "execution_count": 77,
      "outputs": [
        {
          "output_type": "execute_result",
          "data": {
            "text/plain": [
              "넙다리 안쪽 스트레칭     2\n",
              "넙다리 앞쪽 스트레칭     2\n",
              "엉덩이 스트레칭        2\n",
              "넙다리 뒤쪽 스트레칭     1\n",
              "등/어깨 뒤쪽 스트레칭    1\n",
              "상지 루틴 스트레칭      1\n",
              "하지 루틴 스트레칭1     1\n",
              "하지 루틴 스트레칭2     1\n",
              "허리 스트레칭         1\n",
              "dtype: int64"
            ]
          },
          "metadata": {},
          "execution_count": 77
        }
      ]
    },
    {
      "cell_type": "code",
      "source": [
        "c5_end.value_counts()"
      ],
      "metadata": {
        "colab": {
          "base_uri": "https://localhost:8080/"
        },
        "id": "GxVhCHVHgcdR",
        "outputId": "ed4243fa-94f4-4aae-dcf4-d4de814fd716"
      },
      "execution_count": 97,
      "outputs": [
        {
          "output_type": "execute_result",
          "data": {
            "text/plain": [
              "Series([], dtype: int64)"
            ]
          },
          "metadata": {},
          "execution_count": 97
        }
      ]
    },
    {
      "cell_type": "code",
      "source": [
        "#6번 클러스터\n",
        "df_2022_c6.dropna(axis=0,inplace=True)\n",
        "df_2022_c6.reset_index(drop=True, inplace=True)\n",
        "c6_ispre = df_2022_c6['MVM_PRSCRPTN_CN'].str.split('준비운동:',expand=True)[1]\n",
        "c6_ispre_pre = c6_ispre.str.split(' / 본운동:',expand=True)[0].str.split(',')\n",
        "c6_ispre_main_end = c6_ispre.str.split(' / 본운동:',expand=True)[1]\n",
        "c6_ispre_main = c6_ispre_main_end.str.split(' / 마무리운동:',expand=True)[0].str.split(',')\n",
        "c6_ispre_end = c6_ispre_main_end.str.split(' / 마무리운동:',expand=True)[1].str.split(',')\n",
        "\n",
        "c6_pre = []\n",
        "for i in range(df_2022_c6.shape[0]):\n",
        "  for j in range(len(c6_ispre_pre[i])):\n",
        "    c6_pre.append(c6_ispre_pre[i][j])\n",
        "c6_pre = pd.DataFrame(c6_pre)\n",
        "\n",
        "c6_main = []\n",
        "for i in range(df_2022_c6.shape[0]):\n",
        "  for j in range(len(c6_ispre_main[i])):\n",
        "    c6_main.append(c6_ispre_main[i][j])\n",
        "c6_main = pd.DataFrame(c6_main)\n",
        "\n",
        "c6_end = []\n",
        "for i in range(df_2022_c6.shape[0]):\n",
        "  for j in range(len(c6_ispre_end[i])):\n",
        "    c6_end.append(c6_ispre_end[i][j])\n",
        "c6_end = pd.DataFrame(c6_end)"
      ],
      "metadata": {
        "colab": {
          "base_uri": "https://localhost:8080/"
        },
        "id": "9WXozqKme1P5",
        "outputId": "812eb366-8a4a-4ded-d415-91eac95f315e"
      },
      "execution_count": 89,
      "outputs": [
        {
          "output_type": "stream",
          "name": "stderr",
          "text": [
            "/usr/local/lib/python3.7/dist-packages/pandas/util/_decorators.py:311: SettingWithCopyWarning: \n",
            "A value is trying to be set on a copy of a slice from a DataFrame\n",
            "\n",
            "See the caveats in the documentation: https://pandas.pydata.org/pandas-docs/stable/user_guide/indexing.html#returning-a-view-versus-a-copy\n",
            "  return func(*args, **kwargs)\n"
          ]
        }
      ]
    },
    {
      "cell_type": "code",
      "source": [
        "c6_pre.value_counts()"
      ],
      "metadata": {
        "colab": {
          "base_uri": "https://localhost:8080/"
        },
        "id": "AS52Tv0rgJNG",
        "outputId": "2b9584e2-68d5-4e0b-a679-3b2441ef9c15"
      },
      "execution_count": 93,
      "outputs": [
        {
          "output_type": "execute_result",
          "data": {
            "text/plain": [
              "뒤로 팔굽혀펴기    1\n",
              "팔굽혀 펴기      1\n",
              "dtype: int64"
            ]
          },
          "metadata": {},
          "execution_count": 93
        }
      ]
    },
    {
      "cell_type": "code",
      "source": [
        "c6_main.value_counts()"
      ],
      "metadata": {
        "colab": {
          "base_uri": "https://localhost:8080/"
        },
        "id": "2z-gfQSRgLV9",
        "outputId": "27591c42-8c33-4922-af28-042594b77d0b"
      },
      "execution_count": 94,
      "outputs": [
        {
          "output_type": "execute_result",
          "data": {
            "text/plain": [
              "누워서 팔 밀기      1\n",
              "앉아서 가슴 모으기    1\n",
              "앉아서 당겨 내리기    1\n",
              "앉아서 양팔 당기기    1\n",
              "팔다리 교차 버티기    1\n",
              "dtype: int64"
            ]
          },
          "metadata": {},
          "execution_count": 94
        }
      ]
    },
    {
      "cell_type": "code",
      "source": [
        "c6_end.value_counts()"
      ],
      "metadata": {
        "colab": {
          "base_uri": "https://localhost:8080/"
        },
        "id": "qqd8PJy-gM38",
        "outputId": "bca7392a-be1e-4b7c-eda4-88e8656c76f9"
      },
      "execution_count": 95,
      "outputs": [
        {
          "output_type": "execute_result",
          "data": {
            "text/plain": [
              "뒤로 팔 뻗기         1\n",
              "팔꿈치 고정 후 벌리기    1\n",
              "dtype: int64"
            ]
          },
          "metadata": {},
          "execution_count": 95
        }
      ]
    }
  ]
}