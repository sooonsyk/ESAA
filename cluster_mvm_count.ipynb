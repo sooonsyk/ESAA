{
  "nbformat": 4,
  "nbformat_minor": 0,
  "metadata": {
    "colab": {
      "name": "cluster_mvm_count.ipynb",
      "provenance": [],
      "mount_file_id": "1V8xzTgwcJpG5AhluKfjWvSHbIEU_Cf5w",
      "authorship_tag": "ABX9TyOrmoq52uK3gyJkq4leDWJj",
      "include_colab_link": true
    },
    "kernelspec": {
      "name": "python3",
      "display_name": "Python 3"
    },
    "language_info": {
      "name": "python"
    }
  },
  "cells": [
    {
      "cell_type": "markdown",
      "metadata": {
        "id": "view-in-github",
        "colab_type": "text"
      },
      "source": [
        "<a href=\"https://colab.research.google.com/github/sooonsyk/ESAA/blob/main/cluster_mvm_count.ipynb\" target=\"_parent\"><img src=\"https://colab.research.google.com/assets/colab-badge.svg\" alt=\"Open In Colab\"/></a>"
      ]
    },
    {
      "cell_type": "code",
      "source": [
        "import pandas as pd\n",
        "import numpy as np"
      ],
      "metadata": {
        "id": "dePLMS1RwEjQ"
      },
      "execution_count": 1,
      "outputs": []
    },
    {
      "cell_type": "code",
      "source": [
        "DF_2022=pd.read_csv('/content/drive/MyDrive/DF_2022_KNN.csv')\n",
        "col = ['MESURE_AGE_CO','SEXDSTN_FLAG_CD','MESURE_IEM_001_VALUE','MESURE_IEM_002_VALUE','MESURE_IEM_003_VALUE','MESURE_IEM_005_VALUE','MESURE_IEM_006_VALUE','MESURE_IEM_012_VALUE','MESURE_IEM_018_VALUE']\n",
        "df_2022 = DF_2022[col]\n",
        "df_2022 = pd.get_dummies(data=df_2022)"
      ],
      "metadata": {
        "id": "D1TjkXwW4A3c"
      },
      "execution_count": 2,
      "outputs": []
    },
    {
      "cell_type": "code",
      "execution_count": 3,
      "metadata": {
        "id": "8JHM8mk7vTn6"
      },
      "outputs": [],
      "source": [
        "from sklearn.cluster import KMeans"
      ]
    },
    {
      "cell_type": "code",
      "source": [
        "kmeans = KMeans(n_clusters=7, init='k-means++', max_iter=300, random_state=42)\n",
        "kmeans.fit(df_2022)\n",
        "df_2022['cluster'] = kmeans.labels_\n",
        "df_2022['MVM_PRSCRPTN_CN'] = DF_2022['df_2022[, 16]']\n",
        "df_2022['cluster'].value_counts()"
      ],
      "metadata": {
        "colab": {
          "base_uri": "https://localhost:8080/"
        },
        "id": "8IwaWQje4_-P",
        "outputId": "af2756d0-71cc-4c0b-e946-9514a6659692"
      },
      "execution_count": 4,
      "outputs": [
        {
          "output_type": "execute_result",
          "data": {
            "text/plain": [
              "0    31683\n",
              "2    26071\n",
              "3    19379\n",
              "1    19204\n",
              "4    17492\n",
              "6        3\n",
              "5        2\n",
              "Name: cluster, dtype: int64"
            ]
          },
          "metadata": {},
          "execution_count": 4
        }
      ]
    },
    {
      "cell_type": "code",
      "source": [
        "df_2022_c0 = df_2022[df_2022['cluster']==0]\n",
        "df_2022_c1 = df_2022[df_2022['cluster']==1]\n",
        "df_2022_c2 = df_2022[df_2022['cluster']==2]\n",
        "df_2022_c3 = df_2022[df_2022['cluster']==3]\n",
        "df_2022_c4 = df_2022[df_2022['cluster']==4]\n",
        "df_2022_c5 = df_2022[df_2022['cluster']==5]\n",
        "df_2022_c6 = df_2022[df_2022['cluster']==6]"
      ],
      "metadata": {
        "id": "CqvbAVF35_8L"
      },
      "execution_count": 5,
      "outputs": []
    },
    {
      "cell_type": "code",
      "source": [
        "#운동리스트 생성 함수\n",
        "def mvm_list(data):\n",
        "  data_mvm = data['MVM_PRSCRPTN_CN'].dropna(axis=0)\n",
        "\n",
        "  data_ispre = data_mvm[data_mvm.str.startswith('준')]  #준비운동 포함\n",
        "  data_nopre = data_mvm[data_mvm.str.startswith('준')==False] # 준비운동 포함 안 함\n",
        "\n",
        "  ispre_nomain = data_ispre.str.split('본운동:',expand=True).reset_index(drop=True)[:][0]\n",
        "  ispre_ismain = data_ispre.str.split('본운동:',expand=True).reset_index(drop=True)[:][1]\n",
        "  ispre_ismain.dropna(axis=0, inplace=True)\n",
        "\n",
        "  ispre_nomain_noend = ispre_nomain.str.split('마무리운동:',expand=True).reset_index(drop=True)[:][0] \n",
        "  ispre_nomain_isend = ispre_nomain.str.split('마무리운동:',expand=True).reset_index(drop=True)[:][1]\n",
        "  ispre_nomain_isend.dropna(axis=0, inplace=True)\n",
        "\n",
        "  ispre_ismain_noend = ispre_ismain.str.split('마무리운동:',expand=True).reset_index(drop=True)[:][0] \n",
        "  ispre_ismain_isend = ispre_ismain.str.split('마무리운동:',expand=True).reset_index(drop=True)[:][1] \n",
        "  ispre_ismain_isend.dropna(axis=0, inplace=True)\n",
        "\n",
        "  nopre_noend = data_nopre.str.split('마무리운동:',expand=True).reset_index(drop=True)[:][0]\n",
        "  nopre_isend = data_nopre.str.split('마무리운동:',expand=True).reset_index(drop=True)[:][1]\n",
        "  nopre_isend.dropna(axis=0,inplace=True)\n",
        "\n",
        "  #준비운동 리스트 만들기\n",
        "  ispre_nomain_noend = ispre_nomain_noend.str.replace('준비운동:','')\n",
        "  ispre_nomain_noend = ispre_nomain_noend.str.replace(' / ','')\n",
        "  pre_data = ispre_nomain_noend.str.split(',')\n",
        "  pre_list = []\n",
        "  for i in range(pre_data.shape[0]):\n",
        "    for j in range(len(pre_data[i])):\n",
        "      pre_list.append(pre_data[i][j])\n",
        "  pre_list = pd.DataFrame(pre_list)\n",
        "\n",
        "  #본운동 리스트 만들기\n",
        "  nopre_noend = nopre_noend.str.replace('본운동:','')\n",
        "  nopre_noend = nopre_noend.str.replace(' / ','')\n",
        "  nopre_noend = nopre_noend.str.split(',')\n",
        "  ispre_ismain_noend = ispre_ismain_noend.str.replace(' / ','')\n",
        "  ispre_ismain_noend = ispre_ismain_noend.str.split(',')\n",
        "  main_data = pd.concat([nopre_noend, ispre_ismain_noend],axis=0)\n",
        "  main_data.reset_index(drop=True, inplace=True)\n",
        "  main_list = []\n",
        "  for i in range(main_data.shape[0]):\n",
        "    for j in range(len(main_data[i])):\n",
        "        main_list.append(main_data[i][j])\n",
        "  main_list = pd.DataFrame(main_list)\n",
        "\n",
        "  #마무리운동 리스트 만들기\n",
        "  ispre_nomain_isend = ispre_nomain_isend.str.split(',')\n",
        "  ispre_ismain_isend = ispre_ismain_isend.str.split(',')\n",
        "  nopre_isend = nopre_isend.str.split(',')\n",
        "  end_data = pd.concat([ispre_nomain_isend, ispre_ismain_isend, nopre_isend], axis=0)\n",
        "  end_data.reset_index(drop=True, inplace=True)\n",
        "  end_list = []\n",
        "  for i in range(end_data.shape[0]):\n",
        "    for j in range(len(end_data[i])):\n",
        "        end_list.append(end_data[i][j])\n",
        "  end_list = pd.DataFrame(end_list)\n",
        "  \n",
        "  return pre_list, main_list, end_list"
      ],
      "metadata": {
        "id": "hU2b30fe7ALc"
      },
      "execution_count": 6,
      "outputs": []
    },
    {
      "cell_type": "code",
      "source": [
        "#클러스터별 운동 리스트 생성\n",
        "c0_pre, c0_main, c0_end = mvm_list(df_2022_c0)\n",
        "c1_pre, c1_main, c1_end = mvm_list(df_2022_c1)\n",
        "c2_pre, c2_main, c2_end = mvm_list(df_2022_c2)\n",
        "c3_pre, c3_main, c3_end = mvm_list(df_2022_c3)\n",
        "c4_pre, c4_main, c4_end = mvm_list(df_2022_c4)"
      ],
      "metadata": {
        "id": "2dlEgz96-fD-"
      },
      "execution_count": 101,
      "outputs": []
    },
    {
      "cell_type": "code",
      "source": [
        "#클러스터와 원하는 출력 개수 비율 입력하면 준비, 본, 마무리 운동별 운동처방리스트 생성\n",
        "def print_mvm(cluster, ratio):\n",
        "  if cluster == 0:\n",
        "    pre_list = list((c0_pre[0].value_counts()[c0_pre[0].value_counts()>df_2022['cluster'].value_counts()[cluster]*ratio]).index)\n",
        "    main_list = list((c0_main[0].value_counts()[c0_main[0].value_counts()>df_2022['cluster'].value_counts()[cluster]*ratio]).index)\n",
        "    end_list = list((c0_end[0].value_counts()[c0_end[0].value_counts()>df_2022['cluster'].value_counts()[cluster]*ratio]).index)\n",
        "\n",
        "  elif cluster == 1:\n",
        "    pre_list = list((c1_pre[0].value_counts()[c1_pre[0].value_counts()>df_2022['cluster'].value_counts()[cluster]*ratio]).index)\n",
        "    main_list = list((c1_main[0].value_counts()[c1_main[0].value_counts()>df_2022['cluster'].value_counts()[cluster]*ratio]).index)\n",
        "    end_list = list((c1_end[0].value_counts()[c1_end[0].value_counts()>df_2022['cluster'].value_counts()[cluster]*ratio]).index)\n",
        "\n",
        "  elif cluster == 2:\n",
        "    pre_list = list((c2_pre[0].value_counts()[c2_pre[0].value_counts()>df_2022['cluster'].value_counts()[cluster]*ratio]).index)\n",
        "    main_list = list((c2_main[0].value_counts()[c2_main[0].value_counts()>df_2022['cluster'].value_counts()[cluster]*ratio]).index)\n",
        "    end_list = list((c2_end[0].value_counts()[c2_end[0].value_counts()>df_2022['cluster'].value_counts()[cluster]*ratio]).index)\n",
        "\n",
        "  elif cluster == 3:\n",
        "    pre_list = list((c3_pre[0].value_counts()[c3_pre[0].value_counts()>df_2022['cluster'].value_counts()[cluster]*ratio]).index)\n",
        "    main_list = list((c3_main[0].value_counts()[c3_main[0].value_counts()>df_2022['cluster'].value_counts()[cluster]*ratio]).index)\n",
        "    end_list = list((c3_end[0].value_counts()[c3_end[0].value_counts()>df_2022['cluster'].value_counts()[cluster]*ratio]).index)\n",
        "\n",
        "  elif cluster == 4:\n",
        "    pre_list = list((c4_pre[0].value_counts()[c4_pre[0].value_counts()>df_2022['cluster'].value_counts()[cluster]*ratio]).index)\n",
        "    main_list = list((c4_main[0].value_counts()[c4_main[0].value_counts()>df_2022['cluster'].value_counts()[cluster]*ratio]).index)\n",
        "    end_list = list((c4_end[0].value_counts()[c4_end[0].value_counts()>df_2022['cluster'].value_counts()[cluster]*ratio]).index)\n",
        "\n",
        "  return pre_list, main_list, end_list"
      ],
      "metadata": {
        "id": "G7KZX2v3bHEC"
      },
      "execution_count": 168,
      "outputs": []
    },
    {
      "cell_type": "code",
      "source": [
        "test1_pre, test1_main, test1_end = print_mvm(3,0.1)"
      ],
      "metadata": {
        "id": "sa0UjUvPYZzV"
      },
      "execution_count": 169,
      "outputs": []
    },
    {
      "cell_type": "code",
      "source": [
        "list((c3_pre[0].value_counts()[c3_pre[0].value_counts()>df_2022['cluster'].value_counts()[3]*0.1]).index)"
      ],
      "metadata": {
        "colab": {
          "base_uri": "https://localhost:8080/"
        },
        "id": "QbJBf134Y5ss",
        "outputId": "2dfe1dd8-af22-44cd-b7b8-b90e4a14910a"
      },
      "execution_count": 171,
      "outputs": [
        {
          "output_type": "execute_result",
          "data": {
            "text/plain": [
              "['전신 루틴 스트레칭', '동적 스트레칭 루틴프로그램', '유산소 운동 전 동적 루틴 스트레칭']"
            ]
          },
          "metadata": {},
          "execution_count": 171
        }
      ]
    },
    {
      "cell_type": "code",
      "source": [
        "test1_pre"
      ],
      "metadata": {
        "colab": {
          "base_uri": "https://localhost:8080/"
        },
        "id": "8bBKP1AuYjF_",
        "outputId": "2bffeedc-14e5-420b-cfc9-0a5f0a3d919d"
      },
      "execution_count": 172,
      "outputs": [
        {
          "output_type": "execute_result",
          "data": {
            "text/plain": [
              "['전신 루틴 스트레칭', '동적 스트레칭 루틴프로그램', '유산소 운동 전 동적 루틴 스트레칭']"
            ]
          },
          "metadata": {},
          "execution_count": 172
        }
      ]
    },
    {
      "cell_type": "code",
      "source": [
        ""
      ],
      "metadata": {
        "id": "37iedMaQYoRi"
      },
      "execution_count": null,
      "outputs": []
    }
  ]
}