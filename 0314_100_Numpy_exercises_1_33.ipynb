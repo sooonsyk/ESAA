{
  "nbformat": 4,
  "nbformat_minor": 5,
  "metadata": {
    "colab": {
      "name": "0314_100_Numpy_exercises_1_33.ipynb",
      "provenance": [],
      "collapsed_sections": [
        "782d4c77",
        "48d48f01",
        "4fa39382",
        "da64551a",
        "f89d9c9e",
        "7e44c6fa",
        "13c5928c",
        "3fa2e461",
        "73f7a549",
        "6d0c506f",
        "d6ad1a9f",
        "e3a7ba7f",
        "6d17ab5d",
        "8837119b",
        "ec788c9f",
        "391791e0",
        "51898680",
        "89e78048",
        "ebd10810",
        "c0e940f8",
        "22713c3f",
        "f1ae2c2d",
        "34a7bdee",
        "37bc0973",
        "129c342d",
        "42f8b2f9",
        "252c43e2",
        "486df8ea",
        "649e89f9",
        "3421e17f",
        "483dd554",
        "2d07be1c",
        "6415f02e",
        "fe043549",
        "cc08f71c",
        "2002cb03",
        "b7109c9f",
        "7d3131b9",
        "7c8c1fc5",
        "5795b4bd",
        "fb24674c",
        "e6e1ae2f",
        "c01f0ecf",
        "3b64a18b",
        "48413134",
        "0a532633",
        "f98713a6",
        "1abc7cc8",
        "0cf413ee",
        "215b6acc",
        "c0cf37e0",
        "c17fb213",
        "8aaab886",
        "66a04e2e",
        "f4427f7f",
        "58be9dd4",
        "7348abd0",
        "538e651c",
        "33c986d9",
        "00eb27c4",
        "928a1a15",
        "5143f7f3",
        "f62551d8",
        "6896e326",
        "aeaf4a7b",
        "3d11451b",
        "a0a45995",
        "7808578f",
        "8e83df46",
        "e67ff31c",
        "ad8821b1",
        "a0c8cbf5",
        "781fa236",
        "9c9bb0f3",
        "7d8dc135",
        "aa340126",
        "6b6d2c84",
        "7be0fe36",
        "a840a88f",
        "c2bd7385",
        "4c70397b",
        "15ba193c",
        "ec828405",
        "d94352b6",
        "7c3a9e32",
        "da9d5eeb",
        "f7b65fd5",
        "2784c996",
        "71a7574c",
        "30f06441",
        "e5737276",
        "5882e36d"
      ],
      "include_colab_link": true
    },
    "language_info": {
      "name": "python"
    },
    "kernelspec": {
      "name": "python3",
      "display_name": "Python 3"
    }
  },
  "cells": [
    {
      "cell_type": "markdown",
      "metadata": {
        "id": "view-in-github",
        "colab_type": "text"
      },
      "source": [
        "<a href=\"https://colab.research.google.com/github/sooonsyk/ESAA/blob/main/0314_100_Numpy_exercises_1_33.ipynb\" target=\"_parent\"><img src=\"https://colab.research.google.com/assets/colab-badge.svg\" alt=\"Open In Colab\"/></a>"
      ]
    },
    {
      "cell_type": "markdown",
      "metadata": {
        "id": "bf79c78b"
      },
      "source": [
        "# 100 numpy exercises\n",
        "\n",
        "This is a collection of exercises that have been collected in the numpy mailing list, on stack overflow\n",
        "and in the numpy documentation. The goal of this collection is to offer a quick reference for both old\n",
        "and new users but also to provide a set of exercises for those who teach.\n",
        "\n",
        "\n",
        "If you find an error or think you've a better way to solve some of them, feel\n",
        "free to open an issue at <https://github.com/rougier/numpy-100>."
      ],
      "id": "bf79c78b"
    },
    {
      "cell_type": "markdown",
      "metadata": {
        "id": "8536e059"
      },
      "source": [
        "File automatically generated. See the documentation to update questions/answers/hints programmatically."
      ],
      "id": "8536e059"
    },
    {
      "cell_type": "markdown",
      "metadata": {
        "id": "e16ac60b"
      },
      "source": [
        "Run the `initialize.py` module, then for each question you can query the\n",
        "answer or an hint with `hint(n)` or `answer(n)` for `n` question number."
      ],
      "id": "e16ac60b"
    },
    {
      "cell_type": "code",
      "metadata": {
        "id": "a8453483",
        "colab": {
          "base_uri": "https://localhost:8080/"
        },
        "outputId": "df7841cf-5b29-43cc-ff88-1d008acfe756"
      },
      "source": [
        "%run initialise.py"
      ],
      "id": "a8453483",
      "execution_count": 2,
      "outputs": [
        {
          "output_type": "stream",
          "name": "stderr",
          "text": [
            "ERROR:root:File `'initialise.py'` not found.\n"
          ]
        }
      ]
    },
    {
      "cell_type": "markdown",
      "metadata": {
        "id": "017db353"
      },
      "source": [
        "#### 1. Import the numpy package under the name `np` (★☆☆)"
      ],
      "id": "017db353"
    },
    {
      "cell_type": "code",
      "metadata": {
        "id": "68182a76"
      },
      "source": [
        "import numpy as np"
      ],
      "id": "68182a76",
      "execution_count": 3,
      "outputs": []
    },
    {
      "cell_type": "markdown",
      "metadata": {
        "id": "46950f4f"
      },
      "source": [
        "#### 2. Print the numpy version and the configuration (★☆☆)"
      ],
      "id": "46950f4f"
    },
    {
      "cell_type": "code",
      "metadata": {
        "id": "2a9f5838",
        "colab": {
          "base_uri": "https://localhost:8080/"
        },
        "outputId": "54392fda-2fc6-4846-b429-06d41f32984f"
      },
      "source": [
        "print(np.__version__)\n",
        "np.show_config()"
      ],
      "id": "2a9f5838",
      "execution_count": 38,
      "outputs": [
        {
          "output_type": "stream",
          "name": "stdout",
          "text": [
            "1.21.5\n",
            "blas_mkl_info:\n",
            "  NOT AVAILABLE\n",
            "blis_info:\n",
            "  NOT AVAILABLE\n",
            "openblas_info:\n",
            "    libraries = ['openblas', 'openblas']\n",
            "    library_dirs = ['/usr/local/lib']\n",
            "    language = c\n",
            "    define_macros = [('HAVE_CBLAS', None)]\n",
            "    runtime_library_dirs = ['/usr/local/lib']\n",
            "blas_opt_info:\n",
            "    libraries = ['openblas', 'openblas']\n",
            "    library_dirs = ['/usr/local/lib']\n",
            "    language = c\n",
            "    define_macros = [('HAVE_CBLAS', None)]\n",
            "    runtime_library_dirs = ['/usr/local/lib']\n",
            "lapack_mkl_info:\n",
            "  NOT AVAILABLE\n",
            "openblas_lapack_info:\n",
            "    libraries = ['openblas', 'openblas']\n",
            "    library_dirs = ['/usr/local/lib']\n",
            "    language = c\n",
            "    define_macros = [('HAVE_CBLAS', None)]\n",
            "    runtime_library_dirs = ['/usr/local/lib']\n",
            "lapack_opt_info:\n",
            "    libraries = ['openblas', 'openblas']\n",
            "    library_dirs = ['/usr/local/lib']\n",
            "    language = c\n",
            "    define_macros = [('HAVE_CBLAS', None)]\n",
            "    runtime_library_dirs = ['/usr/local/lib']\n",
            "Supported SIMD extensions in this NumPy install:\n",
            "    baseline = SSE,SSE2,SSE3\n",
            "    found = SSSE3,SSE41,POPCNT,SSE42,AVX,F16C,FMA3,AVX2\n",
            "    not found = AVX512F,AVX512CD,AVX512_KNL,AVX512_KNM,AVX512_SKX,AVX512_CLX,AVX512_CNL,AVX512_ICL\n"
          ]
        }
      ]
    },
    {
      "cell_type": "markdown",
      "metadata": {
        "id": "e3c20b3d"
      },
      "source": [
        "#### 3. Create a null vector of size 10 (★☆☆)"
      ],
      "id": "e3c20b3d"
    },
    {
      "cell_type": "code",
      "metadata": {
        "id": "8a758bcf",
        "colab": {
          "base_uri": "https://localhost:8080/"
        },
        "outputId": "a58331c4-85a9-40aa-cbda-5d46e9915b1c"
      },
      "source": [
        "np.zeros(10)"
      ],
      "id": "8a758bcf",
      "execution_count": 39,
      "outputs": [
        {
          "output_type": "execute_result",
          "data": {
            "text/plain": [
              "array([0., 0., 0., 0., 0., 0., 0., 0., 0., 0.])"
            ]
          },
          "metadata": {},
          "execution_count": 39
        }
      ]
    },
    {
      "cell_type": "markdown",
      "metadata": {
        "id": "b15a879f"
      },
      "source": [
        "#### 4. How to find the memory size of any array (★☆☆)"
      ],
      "id": "b15a879f"
    },
    {
      "cell_type": "code",
      "metadata": {
        "id": "1cc3cbc5",
        "colab": {
          "base_uri": "https://localhost:8080/"
        },
        "outputId": "68712ba6-c606-4abf-b4de-e75ec79632bb"
      },
      "source": [
        "array4 = np.array([1,2,3,4])\n",
        "print(array4.size * array4.itemsize)"
      ],
      "id": "1cc3cbc5",
      "execution_count": 40,
      "outputs": [
        {
          "output_type": "stream",
          "name": "stdout",
          "text": [
            "32\n"
          ]
        }
      ]
    },
    {
      "cell_type": "markdown",
      "metadata": {
        "id": "0a708990"
      },
      "source": [
        "#### 5. How to get the documentation of the numpy add function from the command line? (★☆☆)"
      ],
      "id": "0a708990"
    },
    {
      "cell_type": "code",
      "metadata": {
        "id": "477e01f4"
      },
      "source": [
        "%run `python -c \"import numpy; numpy.info(numpy.add)\"`"
      ],
      "id": "477e01f4",
      "execution_count": null,
      "outputs": []
    },
    {
      "cell_type": "markdown",
      "metadata": {
        "id": "0b16cd77"
      },
      "source": [
        "#### 6. Create a null vector of size 10 but the fifth value which is 1 (★☆☆)"
      ],
      "id": "0b16cd77"
    },
    {
      "cell_type": "code",
      "metadata": {
        "id": "4d9b5975",
        "colab": {
          "base_uri": "https://localhost:8080/"
        },
        "outputId": "c01c848e-7ae5-4d1f-a62b-eeeecc94af28"
      },
      "source": [
        "array5 = np.zeros(10)\n",
        "array5[4] = 1\n",
        "print(array5)"
      ],
      "id": "4d9b5975",
      "execution_count": 42,
      "outputs": [
        {
          "output_type": "stream",
          "name": "stdout",
          "text": [
            "[0. 0. 0. 0. 1. 0. 0. 0. 0. 0.]\n"
          ]
        }
      ]
    },
    {
      "cell_type": "markdown",
      "metadata": {
        "id": "782d4c77"
      },
      "source": [
        "#### 7. Create a vector with values ranging from 10 to 49 (★☆☆)"
      ],
      "id": "782d4c77"
    },
    {
      "cell_type": "code",
      "metadata": {
        "id": "5dbe1a08",
        "colab": {
          "base_uri": "https://localhost:8080/"
        },
        "outputId": "f34975a7-0939-4d6f-c9a5-29344855f7dd"
      },
      "source": [
        "np.arange(10,50)"
      ],
      "id": "5dbe1a08",
      "execution_count": 11,
      "outputs": [
        {
          "output_type": "execute_result",
          "data": {
            "text/plain": [
              "array([10, 11, 12, 13, 14, 15, 16, 17, 18, 19, 20, 21, 22, 23, 24, 25, 26,\n",
              "       27, 28, 29, 30, 31, 32, 33, 34, 35, 36, 37, 38, 39, 40, 41, 42, 43,\n",
              "       44, 45, 46, 47, 48, 49])"
            ]
          },
          "metadata": {},
          "execution_count": 11
        }
      ]
    },
    {
      "cell_type": "markdown",
      "metadata": {
        "id": "48d48f01"
      },
      "source": [
        "#### 8. Reverse a vector (first element becomes last) (★☆☆)"
      ],
      "id": "48d48f01"
    },
    {
      "cell_type": "code",
      "metadata": {
        "id": "3ed233e7",
        "colab": {
          "base_uri": "https://localhost:8080/"
        },
        "outputId": "3791ffda-b494-4973-b696-3ddfc697ac45"
      },
      "source": [
        "array8 = np.arange(10, 50)\n",
        "print(array8[::-1])"
      ],
      "id": "3ed233e7",
      "execution_count": 116,
      "outputs": [
        {
          "output_type": "stream",
          "name": "stdout",
          "text": [
            "[49 48 47 46 45 44 43 42 41 40 39 38 37 36 35 34 33 32 31 30 29 28 27 26\n",
            " 25 24 23 22 21 20 19 18 17 16 15 14 13 12 11 10]\n"
          ]
        }
      ]
    },
    {
      "cell_type": "markdown",
      "metadata": {
        "id": "4fa39382"
      },
      "source": [
        "#### 9. Create a 3x3 matrix with values ranging from 0 to 8 (★☆☆)"
      ],
      "id": "4fa39382"
    },
    {
      "cell_type": "code",
      "metadata": {
        "id": "c97757ec",
        "colab": {
          "base_uri": "https://localhost:8080/"
        },
        "outputId": "754a76f6-877a-4f4f-eeea-aca1c196ec30"
      },
      "source": [
        "array9 = np.arange(0,9)\n",
        "array9.reshape(3,3)"
      ],
      "id": "c97757ec",
      "execution_count": 49,
      "outputs": [
        {
          "output_type": "execute_result",
          "data": {
            "text/plain": [
              "array([[0, 1, 2],\n",
              "       [3, 4, 5],\n",
              "       [6, 7, 8]])"
            ]
          },
          "metadata": {},
          "execution_count": 49
        }
      ]
    },
    {
      "cell_type": "markdown",
      "metadata": {
        "id": "da64551a"
      },
      "source": [
        "#### 10. Find indices of non-zero elements from [1,2,0,0,4,0] (★☆☆)"
      ],
      "id": "da64551a"
    },
    {
      "cell_type": "code",
      "metadata": {
        "id": "327f7adb",
        "colab": {
          "base_uri": "https://localhost:8080/"
        },
        "outputId": "264795a3-a4f8-44f8-9e6f-ca3842c5bb0f"
      },
      "source": [
        "array10 = [1,2,0,0,4,0] \n",
        "np.nonzero(array10)"
      ],
      "id": "327f7adb",
      "execution_count": 117,
      "outputs": [
        {
          "output_type": "execute_result",
          "data": {
            "text/plain": [
              "(array([0, 1, 4]),)"
            ]
          },
          "metadata": {},
          "execution_count": 117
        }
      ]
    },
    {
      "cell_type": "markdown",
      "metadata": {
        "id": "f89d9c9e"
      },
      "source": [
        "#### 11. Create a 3x3 identity matrix (★☆☆)"
      ],
      "id": "f89d9c9e"
    },
    {
      "cell_type": "code",
      "metadata": {
        "id": "ba625832",
        "colab": {
          "base_uri": "https://localhost:8080/"
        },
        "outputId": "8188af67-0c33-44a8-d5f9-f18c0e3a48cf"
      },
      "source": [
        "np.eye(3)"
      ],
      "id": "ba625832",
      "execution_count": 76,
      "outputs": [
        {
          "output_type": "execute_result",
          "data": {
            "text/plain": [
              "array([[1., 0., 0.],\n",
              "       [0., 1., 0.],\n",
              "       [0., 0., 1.]])"
            ]
          },
          "metadata": {},
          "execution_count": 76
        }
      ]
    },
    {
      "cell_type": "markdown",
      "metadata": {
        "id": "7e44c6fa"
      },
      "source": [
        "#### 12. Create a 3x3x3 array with random values (★☆☆)"
      ],
      "id": "7e44c6fa"
    },
    {
      "cell_type": "code",
      "metadata": {
        "id": "1cb3dddf",
        "colab": {
          "base_uri": "https://localhost:8080/"
        },
        "outputId": "d0abd2e8-b2e4-4727-92fb-1586d062ecbd"
      },
      "source": [
        "np.random.random((3,3,3))"
      ],
      "id": "1cb3dddf",
      "execution_count": 31,
      "outputs": [
        {
          "output_type": "execute_result",
          "data": {
            "text/plain": [
              "array([[[9.51143707e-01, 1.69740917e-01, 4.16668357e-01],\n",
              "        [1.61713443e-01, 3.47707087e-01, 7.49520509e-01],\n",
              "        [3.05074076e-04, 9.62396058e-01, 3.40321983e-03]],\n",
              "\n",
              "       [[2.29844455e-02, 8.06976987e-01, 4.56239134e-02],\n",
              "        [2.66612986e-01, 6.73867033e-01, 5.02884878e-01],\n",
              "        [1.63192118e-01, 1.56997463e-01, 8.32956227e-01]],\n",
              "\n",
              "       [[1.15880235e-01, 3.71354908e-01, 4.66921740e-01],\n",
              "        [1.44327640e-01, 6.18048678e-01, 5.15955680e-01],\n",
              "        [3.51486221e-01, 3.66889163e-01, 7.23650848e-01]]])"
            ]
          },
          "metadata": {},
          "execution_count": 31
        }
      ]
    },
    {
      "cell_type": "markdown",
      "metadata": {
        "id": "13c5928c"
      },
      "source": [
        "#### 13. Create a 10x10 array with random values and find the minimum and maximum values (★☆☆)"
      ],
      "id": "13c5928c"
    },
    {
      "cell_type": "code",
      "metadata": {
        "id": "911c9b93",
        "colab": {
          "base_uri": "https://localhost:8080/"
        },
        "outputId": "51c14028-aa12-44fc-d6de-9f0950798e0e"
      },
      "source": [
        "array13 = np.random.random((10,10))\n",
        "print(array13)\n",
        "print(array13.min(), array13.max())"
      ],
      "id": "911c9b93",
      "execution_count": 54,
      "outputs": [
        {
          "output_type": "stream",
          "name": "stdout",
          "text": [
            "[[0.33363935 0.75454469 0.59425108 0.38832414 0.73655059 0.86874962\n",
            "  0.33478657 0.30546304 0.76329549 0.36608295]\n",
            " [0.2986903  0.68858856 0.79189019 0.72259772 0.53434986 0.8121845\n",
            "  0.55319244 0.48555716 0.54563205 0.30517298]\n",
            " [0.50949703 0.68249753 0.97487048 0.00445741 0.46716897 0.78834045\n",
            "  0.49698413 0.35367022 0.03589604 0.3380352 ]\n",
            " [0.37251291 0.59332145 0.474252   0.27385702 0.79005019 0.34772679\n",
            "  0.56630675 0.82795457 0.50804998 0.0446927 ]\n",
            " [0.55429373 0.49061218 0.17745645 0.25236945 0.40408791 0.6725102\n",
            "  0.99578559 0.10083689 0.38529685 0.67987944]\n",
            " [0.91835992 0.41344193 0.26618772 0.22403762 0.70426636 0.2582257\n",
            "  0.5319814  0.80473623 0.74398971 0.45347692]\n",
            " [0.43866834 0.29689353 0.78299691 0.63896872 0.32850838 0.73203979\n",
            "  0.22850861 0.61402856 0.36355663 0.7841974 ]\n",
            " [0.48143214 0.51380332 0.73927761 0.16352014 0.75010602 0.06573873\n",
            "  0.94717645 0.80332733 0.71273665 0.94815178]\n",
            " [0.64530742 0.79993489 0.67727832 0.25499045 0.41186458 0.50486634\n",
            "  0.40664233 0.56503259 0.90511237 0.12770326]\n",
            " [0.26084169 0.24392439 0.78479269 0.56555961 0.14563921 0.13978717\n",
            "  0.07562119 0.46869388 0.44262043 0.57439336]]\n",
            "0.0044574135793846725 0.9957855895046214\n"
          ]
        }
      ]
    },
    {
      "cell_type": "markdown",
      "metadata": {
        "id": "3fa2e461"
      },
      "source": [
        "#### 14. Create a random vector of size 30 and find the mean value (★☆☆)"
      ],
      "id": "3fa2e461"
    },
    {
      "cell_type": "code",
      "metadata": {
        "id": "323eb38a",
        "colab": {
          "base_uri": "https://localhost:8080/"
        },
        "outputId": "de8ac6a2-54e1-44b5-b333-da5b1d138652"
      },
      "source": [
        "array14 = np.random.random(30)\n",
        "print(array14.mean())"
      ],
      "id": "323eb38a",
      "execution_count": 55,
      "outputs": [
        {
          "output_type": "stream",
          "name": "stdout",
          "text": [
            "0.4664920559768814\n"
          ]
        }
      ]
    },
    {
      "cell_type": "markdown",
      "metadata": {
        "id": "73f7a549"
      },
      "source": [
        "#### 15. Create a 2d array with 1 on the border and 0 inside (★☆☆)"
      ],
      "id": "73f7a549"
    },
    {
      "cell_type": "code",
      "metadata": {
        "id": "e3a6807d",
        "colab": {
          "base_uri": "https://localhost:8080/"
        },
        "outputId": "5a2093f9-9136-4bea-bf3d-168374d147cb"
      },
      "source": [
        "array15 = np.zeros((3,3))\n",
        "np.pad(array15, pad_width=1, mode='constant',\n",
        "               constant_values=1)"
      ],
      "id": "e3a6807d",
      "execution_count": 102,
      "outputs": [
        {
          "output_type": "execute_result",
          "data": {
            "text/plain": [
              "array([[1., 1., 1., 1., 1.],\n",
              "       [1., 0., 0., 0., 1.],\n",
              "       [1., 0., 0., 0., 1.],\n",
              "       [1., 0., 0., 0., 1.],\n",
              "       [1., 1., 1., 1., 1.]])"
            ]
          },
          "metadata": {},
          "execution_count": 102
        }
      ]
    },
    {
      "cell_type": "markdown",
      "metadata": {
        "id": "6d0c506f"
      },
      "source": [
        "#### 16. How to add a border (filled with 0's) around an existing array? (★☆☆)"
      ],
      "id": "6d0c506f"
    },
    {
      "cell_type": "code",
      "metadata": {
        "id": "32ffee7b",
        "colab": {
          "base_uri": "https://localhost:8080/"
        },
        "outputId": "2fa520d9-da4a-4d16-ef7b-3284327a8912"
      },
      "source": [
        "array16 = np.random.random((3,3))\n",
        "np.pad(array16, pad_width=1, mode='constant',\n",
        "               constant_values=0)"
      ],
      "id": "32ffee7b",
      "execution_count": 99,
      "outputs": [
        {
          "output_type": "execute_result",
          "data": {
            "text/plain": [
              "array([[0.        , 0.        , 0.        , 0.        , 0.        ],\n",
              "       [0.        , 0.30853886, 0.59607158, 0.2878021 , 0.        ],\n",
              "       [0.        , 0.75076173, 0.00964039, 0.73607022, 0.        ],\n",
              "       [0.        , 0.34543269, 0.96163613, 0.14488979, 0.        ],\n",
              "       [0.        , 0.        , 0.        , 0.        , 0.        ]])"
            ]
          },
          "metadata": {},
          "execution_count": 99
        }
      ]
    },
    {
      "cell_type": "markdown",
      "metadata": {
        "id": "d6ad1a9f"
      },
      "source": [
        "#### 17. What is the result of the following expression? (★☆☆)\n",
        "```python\n",
        "0 * np.nan\n",
        "np.nan == np.nan\n",
        "np.inf > np.nan\n",
        "np.nan - np.nan\n",
        "np.nan in set([np.nan])\n",
        "0.3 == 3 * 0.1\n",
        "```"
      ],
      "id": "d6ad1a9f"
    },
    {
      "cell_type": "code",
      "metadata": {
        "id": "ee7ff0f3",
        "colab": {
          "base_uri": "https://localhost:8080/"
        },
        "outputId": "2764b822-33c0-4dad-a261-2e24ab15ac1f"
      },
      "source": [
        "nan\n",
        "False\n",
        "False\n",
        "nan\n",
        "True\n",
        "False"
      ],
      "id": "ee7ff0f3",
      "execution_count": 57,
      "outputs": [
        {
          "output_type": "execute_result",
          "data": {
            "text/plain": [
              "False"
            ]
          },
          "metadata": {},
          "execution_count": 57
        }
      ]
    },
    {
      "cell_type": "markdown",
      "metadata": {
        "id": "e3a7ba7f"
      },
      "source": [
        "#### 18. Create a 5x5 matrix with values 1,2,3,4 just below the diagonal (★☆☆)"
      ],
      "id": "e3a7ba7f"
    },
    {
      "cell_type": "code",
      "metadata": {
        "id": "01d8e257",
        "colab": {
          "base_uri": "https://localhost:8080/"
        },
        "outputId": "90bb687d-daef-4f60-fc34-2d5eca7d9e6d"
      },
      "source": [
        "np.diag(np.arange(1, 5), k=-1) # k<0: 주 대각선 아래의 대각선에 대입"
      ],
      "id": "01d8e257",
      "execution_count": 103,
      "outputs": [
        {
          "output_type": "execute_result",
          "data": {
            "text/plain": [
              "array([[0, 0, 0, 0, 0],\n",
              "       [1, 0, 0, 0, 0],\n",
              "       [0, 2, 0, 0, 0],\n",
              "       [0, 0, 3, 0, 0],\n",
              "       [0, 0, 0, 4, 0]])"
            ]
          },
          "metadata": {},
          "execution_count": 103
        }
      ]
    },
    {
      "cell_type": "markdown",
      "metadata": {
        "id": "6d17ab5d"
      },
      "source": [
        "#### 19. Create a 8x8 matrix and fill it with a checkerboard pattern (★☆☆)"
      ],
      "id": "6d17ab5d"
    },
    {
      "cell_type": "code",
      "metadata": {
        "id": "841373cd",
        "colab": {
          "base_uri": "https://localhost:8080/"
        },
        "outputId": "af92a51b-9035-4036-ee04-f3f14ba62f41"
      },
      "source": [
        "array19 = np.zeros((8, 8))\n",
        "array19[::2, 1::2] = 1\n",
        "array19[1::2, ::2] = 1\n",
        "print(array19)"
      ],
      "id": "841373cd",
      "execution_count": 119,
      "outputs": [
        {
          "output_type": "stream",
          "name": "stdout",
          "text": [
            "[[0. 1. 0. 1. 0. 1. 0. 1.]\n",
            " [1. 0. 1. 0. 1. 0. 1. 0.]\n",
            " [0. 1. 0. 1. 0. 1. 0. 1.]\n",
            " [1. 0. 1. 0. 1. 0. 1. 0.]\n",
            " [0. 1. 0. 1. 0. 1. 0. 1.]\n",
            " [1. 0. 1. 0. 1. 0. 1. 0.]\n",
            " [0. 1. 0. 1. 0. 1. 0. 1.]\n",
            " [1. 0. 1. 0. 1. 0. 1. 0.]]\n"
          ]
        }
      ]
    },
    {
      "cell_type": "markdown",
      "metadata": {
        "id": "8837119b"
      },
      "source": [
        "#### 20. Consider a (6,7,8) shape array, what is the index (x,y,z) of the 100th element? (★☆☆)"
      ],
      "id": "8837119b"
    },
    {
      "cell_type": "code",
      "metadata": {
        "id": "2c0d16f1",
        "colab": {
          "base_uri": "https://localhost:8080/"
        },
        "outputId": "73a316b3-026a-42f6-e93a-317be6a3f5de"
      },
      "source": [
        "print(np.unravel_index(99,(6,7,8)))"
      ],
      "id": "2c0d16f1",
      "execution_count": 120,
      "outputs": [
        {
          "output_type": "stream",
          "name": "stdout",
          "text": [
            "(1, 5, 3)\n"
          ]
        }
      ]
    },
    {
      "cell_type": "markdown",
      "metadata": {
        "id": "ec788c9f"
      },
      "source": [
        "#### 21. Create a checkerboard 8x8 matrix using the tile function (★☆☆)"
      ],
      "id": "ec788c9f"
    },
    {
      "cell_type": "code",
      "metadata": {
        "id": "0a4f919f",
        "colab": {
          "base_uri": "https://localhost:8080/"
        },
        "outputId": "a484723f-72a6-40ed-aa11-f5d0c9aa7296"
      },
      "source": [
        "np.tile([[1,0],[0,1]],[4,4])"
      ],
      "id": "0a4f919f",
      "execution_count": 80,
      "outputs": [
        {
          "output_type": "execute_result",
          "data": {
            "text/plain": [
              "array([[1, 0, 1, 0, 1, 0, 1, 0],\n",
              "       [0, 1, 0, 1, 0, 1, 0, 1],\n",
              "       [1, 0, 1, 0, 1, 0, 1, 0],\n",
              "       [0, 1, 0, 1, 0, 1, 0, 1],\n",
              "       [1, 0, 1, 0, 1, 0, 1, 0],\n",
              "       [0, 1, 0, 1, 0, 1, 0, 1],\n",
              "       [1, 0, 1, 0, 1, 0, 1, 0],\n",
              "       [0, 1, 0, 1, 0, 1, 0, 1]])"
            ]
          },
          "metadata": {},
          "execution_count": 80
        }
      ]
    },
    {
      "cell_type": "markdown",
      "metadata": {
        "id": "391791e0"
      },
      "source": [
        "#### 22. Normalize a 5x5 random matrix (★☆☆)"
      ],
      "id": "391791e0"
    },
    {
      "cell_type": "code",
      "metadata": {
        "id": "f6533d39",
        "colab": {
          "base_uri": "https://localhost:8080/"
        },
        "outputId": "ea642f9f-6c6d-4762-ba37-1dc6fdabc68d"
      },
      "source": [
        "array22 = np.random.random((5,5))\n",
        "(array22 - array22.mean())/array22.std()\n",
        "#array_org = np.random.rand(5, 5)\n",
        "#eigenvalue, eigenvector = np.linalg.eig(array_org)\n",
        "#print(eigenvector)"
      ],
      "id": "f6533d39",
      "execution_count": 65,
      "outputs": [
        {
          "output_type": "execute_result",
          "data": {
            "text/plain": [
              "array([[-1.19300333,  1.17904077,  0.66501968,  0.33750858,  1.0807586 ],\n",
              "       [ 0.41325936, -1.76644988, -0.03417557,  0.56421303, -0.02927582],\n",
              "       [ 1.15338609,  0.20889271,  0.58214377,  0.01258286,  1.41338145],\n",
              "       [ 0.78695646,  0.24724354, -0.63148523,  1.26509821, -0.84148976],\n",
              "       [-1.67242581,  0.66464102, -1.30598044, -1.59266181, -1.50717847]])"
            ]
          },
          "metadata": {},
          "execution_count": 65
        }
      ]
    },
    {
      "cell_type": "markdown",
      "metadata": {
        "id": "1e74d39e"
      },
      "source": [
        "#### 23. Create a custom dtype that describes a color as four unsigned bytes (RGBA) (★☆☆)"
      ],
      "id": "1e74d39e"
    },
    {
      "cell_type": "code",
      "metadata": {
        "id": "3f639d33"
      },
      "source": [
        "color = np.dtype([(\"r\", np.ubyte),\n",
        "                  (\"g\", np.ubyte),\n",
        "                  (\"b\", np.ubyte),\n",
        "                  (\"a\", np.ubyte)])"
      ],
      "id": "3f639d33",
      "execution_count": null,
      "outputs": []
    },
    {
      "cell_type": "markdown",
      "metadata": {
        "id": "78250c14"
      },
      "source": [
        "#### 24. Multiply a 5x3 matrix by a 3x2 matrix (real matrix product) (★☆☆)"
      ],
      "id": "78250c14"
    },
    {
      "cell_type": "code",
      "metadata": {
        "id": "9fe729cb",
        "colab": {
          "base_uri": "https://localhost:8080/"
        },
        "outputId": "70e29a75-450d-4d51-d349-360cc515fe17"
      },
      "source": [
        "a = np.random.random((5,3))\n",
        "b = np.random.random((3,2))\n",
        "print(a)\n",
        "print(b)\n",
        "print(a@b)"
      ],
      "id": "9fe729cb",
      "execution_count": 68,
      "outputs": [
        {
          "output_type": "stream",
          "name": "stdout",
          "text": [
            "[[0.93662823 0.30895223 0.38549567]\n",
            " [0.68644693 0.79178266 0.85270325]\n",
            " [0.92295551 0.34183957 0.38712678]\n",
            " [0.42669749 0.25627291 0.65285433]\n",
            " [0.93423238 0.51590531 0.78487586]]\n",
            "[[0.57217117 0.44576632]\n",
            " [0.87277304 0.37029706]\n",
            " [0.27308025 0.34918793]]\n",
            "[[0.9108281  0.66653186]\n",
            " [1.31666812 0.8969434 ]\n",
            " [0.93215357 0.67318467]\n",
            " [0.64609371 0.51307333]\n",
            " [1.19914317 0.88155673]]\n"
          ]
        }
      ]
    },
    {
      "cell_type": "markdown",
      "metadata": {
        "id": "51898680"
      },
      "source": [
        "#### 25. Given a 1D array, negate all elements which are between 3 and 8, in place. (★☆☆)"
      ],
      "id": "51898680"
    },
    {
      "cell_type": "code",
      "metadata": {
        "id": "51c90f2d"
      },
      "source": [
        "array25 = np.arange(10)\n",
        "array25[(array25 > 3) & (array25 < 8)] *= -1\n",
        "print(array25)"
      ],
      "id": "51c90f2d",
      "execution_count": null,
      "outputs": []
    },
    {
      "cell_type": "markdown",
      "metadata": {
        "id": "89e78048"
      },
      "source": [
        "#### 26. What is the output of the following script? (★☆☆)\n",
        "```python\n",
        "# Author: Jake VanderPlas\n",
        "\n",
        "print(sum(range(5),-1))\n",
        "from numpy import *\n",
        "print(sum(range(5),-1))\n",
        "```"
      ],
      "id": "89e78048"
    },
    {
      "cell_type": "code",
      "metadata": {
        "id": "b62e9d1c",
        "colab": {
          "base_uri": "https://localhost:8080/"
        },
        "outputId": "da5c8d73-daa6-4201-c352-443d48adcdb6"
      },
      "source": [
        "print(sum(range(5),-1)) # sum할 대상으로 포함\n",
        "from numpy import *\n",
        "print(sum(range(5),-1)) # 축의 의미"
      ],
      "id": "b62e9d1c",
      "execution_count": 81,
      "outputs": [
        {
          "output_type": "stream",
          "name": "stdout",
          "text": [
            "9\n",
            "10\n"
          ]
        }
      ]
    },
    {
      "cell_type": "markdown",
      "metadata": {
        "id": "ebd10810"
      },
      "source": [
        "#### 27. Consider an integer vector Z, which of these expressions are legal? (★☆☆)\n",
        "```python\n",
        "Z**Z\n",
        "2 << Z >> 2\n",
        "Z <- Z\n",
        "1j*Z\n",
        "Z/1/1\n",
        "Z<Z>Z\n",
        "```"
      ],
      "id": "ebd10810"
    },
    {
      "cell_type": "code",
      "source": [
        "2 << Z >> 2\n",
        "Z <- Z\n",
        "1j*Z\n",
        "Z/1/1"
      ],
      "metadata": {
        "id": "LStiuZ0gUP17"
      },
      "id": "LStiuZ0gUP17",
      "execution_count": null,
      "outputs": []
    },
    {
      "cell_type": "markdown",
      "metadata": {
        "id": "c0e940f8"
      },
      "source": [
        "#### 28. What are the result of the following expressions? (★☆☆)\n",
        "```python\n",
        "np.array(0) / np.array(0)\n",
        "np.array(0) // np.array(0)\n",
        "np.array([np.nan]).astype(int).astype(float)\n",
        "```"
      ],
      "id": "c0e940f8"
    },
    {
      "cell_type": "code",
      "metadata": {
        "id": "820dc7a5",
        "colab": {
          "base_uri": "https://localhost:8080/"
        },
        "outputId": "76bfc371-9dd6-4945-b772-603e06216d86"
      },
      "source": [
        "np.array(0) / np.array(0)"
      ],
      "id": "820dc7a5",
      "execution_count": 90,
      "outputs": [
        {
          "output_type": "stream",
          "name": "stderr",
          "text": [
            "/usr/local/lib/python3.7/dist-packages/ipykernel_launcher.py:1: RuntimeWarning: invalid value encountered in true_divide\n",
            "  \"\"\"Entry point for launching an IPython kernel.\n"
          ]
        },
        {
          "output_type": "execute_result",
          "data": {
            "text/plain": [
              "nan"
            ]
          },
          "metadata": {},
          "execution_count": 90
        }
      ]
    },
    {
      "cell_type": "code",
      "source": [
        "np.array(0) // np.array(0)\n"
      ],
      "metadata": {
        "colab": {
          "base_uri": "https://localhost:8080/"
        },
        "id": "ThcncXI18hrl",
        "outputId": "4850e566-caab-4b1c-a93a-5fd3d21e32ca"
      },
      "id": "ThcncXI18hrl",
      "execution_count": 91,
      "outputs": [
        {
          "output_type": "stream",
          "name": "stderr",
          "text": [
            "/usr/local/lib/python3.7/dist-packages/ipykernel_launcher.py:1: RuntimeWarning: divide by zero encountered in floor_divide\n",
            "  \"\"\"Entry point for launching an IPython kernel.\n"
          ]
        },
        {
          "output_type": "execute_result",
          "data": {
            "text/plain": [
              "0"
            ]
          },
          "metadata": {},
          "execution_count": 91
        }
      ]
    },
    {
      "cell_type": "code",
      "source": [
        "np.array([np.nan]).astype(int).astype(float)"
      ],
      "metadata": {
        "colab": {
          "base_uri": "https://localhost:8080/"
        },
        "id": "aIZSr6cT8hQQ",
        "outputId": "6021233a-b7fc-4abc-d26d-2ad6e1ff6ca1"
      },
      "id": "aIZSr6cT8hQQ",
      "execution_count": 92,
      "outputs": [
        {
          "output_type": "execute_result",
          "data": {
            "text/plain": [
              "array([-9.22337204e+18])"
            ]
          },
          "metadata": {},
          "execution_count": 92
        }
      ]
    },
    {
      "cell_type": "markdown",
      "metadata": {
        "id": "22713c3f"
      },
      "source": [
        "#### 29. How to round away from zero a float array ? (★☆☆)"
      ],
      "id": "22713c3f"
    },
    {
      "cell_type": "code",
      "metadata": {
        "id": "a3e05c29",
        "colab": {
          "base_uri": "https://localhost:8080/"
        },
        "outputId": "0b7cb56d-d85f-4279-9542-e9592b891d1e"
      },
      "source": [
        "array29 = np.random.random(10)\n",
        "print(array29)\n",
        "np.around(array29)"
      ],
      "id": "a3e05c29",
      "execution_count": 108,
      "outputs": [
        {
          "output_type": "stream",
          "name": "stdout",
          "text": [
            "[0.34992014 0.35309782 0.69086853 0.09528679 0.04064817 0.40363894\n",
            " 0.93946191 0.15468154 0.78368452 0.56043142]\n"
          ]
        },
        {
          "output_type": "execute_result",
          "data": {
            "text/plain": [
              "array([0., 0., 1., 0., 0., 0., 1., 0., 1., 1.])"
            ]
          },
          "metadata": {},
          "execution_count": 108
        }
      ]
    },
    {
      "cell_type": "markdown",
      "metadata": {
        "id": "f1ae2c2d"
      },
      "source": [
        "#### 30. How to find common values between two arrays? (★☆☆)"
      ],
      "id": "f1ae2c2d"
    },
    {
      "cell_type": "code",
      "metadata": {
        "id": "6801c73d",
        "colab": {
          "base_uri": "https://localhost:8080/"
        },
        "outputId": "d8b8cf9c-ca2c-4891-e59a-36032d968150"
      },
      "source": [
        "a = np.random.randint(0,10,10)\n",
        "b = np.random.randint(0,10,10)\n",
        "print(np.intersect1d(a, b))"
      ],
      "id": "6801c73d",
      "execution_count": 106,
      "outputs": [
        {
          "output_type": "stream",
          "name": "stdout",
          "text": [
            "[4 8 9]\n"
          ]
        }
      ]
    },
    {
      "cell_type": "markdown",
      "metadata": {
        "id": "34a7bdee"
      },
      "source": [
        "#### 31. How to ignore all numpy warnings (not recommended)? (★☆☆)"
      ],
      "id": "34a7bdee"
    },
    {
      "cell_type": "code",
      "metadata": {
        "id": "befc60d1"
      },
      "source": [
        "# Suicide mode on\n",
        "defaults = np.seterr(all=\"ignore\")\n",
        "Z = np.ones(1) / 0\n",
        "\n",
        "# Back to sanity\n",
        "_ = np.seterr(**defaults)\n",
        "\n",
        "# Equivalently with a context manager\n",
        "with np.errstate(all=\"ignore\"):\n",
        "    np.arange(3) / 0"
      ],
      "id": "befc60d1",
      "execution_count": null,
      "outputs": []
    },
    {
      "cell_type": "markdown",
      "metadata": {
        "id": "37bc0973"
      },
      "source": [
        "#### 32. Is the following expressions true? (★☆☆)\n",
        "```python\n",
        "np.sqrt(-1) == np.emath.sqrt(-1)\n",
        "```"
      ],
      "id": "37bc0973"
    },
    {
      "cell_type": "code",
      "metadata": {
        "id": "c70cbabe",
        "colab": {
          "base_uri": "https://localhost:8080/"
        },
        "outputId": "60847902-a9bb-47c6-88af-f012b3ed9980"
      },
      "source": [
        "np.sqrt(-1) == np.emath.sqrt(-1)"
      ],
      "id": "c70cbabe",
      "execution_count": 75,
      "outputs": [
        {
          "output_type": "stream",
          "name": "stderr",
          "text": [
            "/usr/local/lib/python3.7/dist-packages/ipykernel_launcher.py:1: RuntimeWarning: invalid value encountered in sqrt\n",
            "  \"\"\"Entry point for launching an IPython kernel.\n"
          ]
        },
        {
          "output_type": "execute_result",
          "data": {
            "text/plain": [
              "False"
            ]
          },
          "metadata": {},
          "execution_count": 75
        }
      ]
    },
    {
      "cell_type": "code",
      "source": [
        "print(np.sqrt(-1), np.emath.sqrt(-1))"
      ],
      "metadata": {
        "colab": {
          "base_uri": "https://localhost:8080/"
        },
        "id": "qZ3cE5rr610v",
        "outputId": "aeb55027-6e74-4fc6-d6a2-1bb555257694"
      },
      "id": "qZ3cE5rr610v",
      "execution_count": 74,
      "outputs": [
        {
          "output_type": "stream",
          "name": "stdout",
          "text": [
            "nan 1j\n"
          ]
        },
        {
          "output_type": "stream",
          "name": "stderr",
          "text": [
            "/usr/local/lib/python3.7/dist-packages/ipykernel_launcher.py:1: RuntimeWarning: invalid value encountered in sqrt\n",
            "  \"\"\"Entry point for launching an IPython kernel.\n"
          ]
        }
      ]
    },
    {
      "cell_type": "markdown",
      "metadata": {
        "id": "129c342d"
      },
      "source": [
        "#### 33. How to get the dates of yesterday, today and tomorrow? (★☆☆)"
      ],
      "id": "129c342d"
    },
    {
      "cell_type": "code",
      "metadata": {
        "id": "8ba1badb",
        "colab": {
          "base_uri": "https://localhost:8080/"
        },
        "outputId": "55c54bf8-99ba-4678-8f30-43914f90f5be"
      },
      "source": [
        "yesterday = np.datetime64('today') - np.timedelta64(1)\n",
        "today     = np.datetime64('today')\n",
        "tomorrow  = np.datetime64('today') + np.timedelta64(1)\n",
        "print(yesterday, today, tomorrow)"
      ],
      "id": "8ba1badb",
      "execution_count": 124,
      "outputs": [
        {
          "output_type": "stream",
          "name": "stdout",
          "text": [
            "2022-03-13 2022-03-14 2022-03-15\n"
          ]
        }
      ]
    }
  ]
}