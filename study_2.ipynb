{
  "nbformat": 4,
  "nbformat_minor": 0,
  "metadata": {
    "colab": {
      "name": "study_2.ipynb",
      "provenance": [],
      "authorship_tag": "ABX9TyPEwGanHLcMHq6iSI2LM8fY",
      "include_colab_link": true
    },
    "kernelspec": {
      "name": "python3",
      "display_name": "Python 3"
    },
    "language_info": {
      "name": "python"
    }
  },
  "cells": [
    {
      "cell_type": "markdown",
      "metadata": {
        "id": "view-in-github",
        "colab_type": "text"
      },
      "source": [
        "<a href=\"https://colab.research.google.com/github/sooonsyk/ESAA/blob/main/study_2.ipynb\" target=\"_parent\"><img src=\"https://colab.research.google.com/assets/colab-badge.svg\" alt=\"Open In Colab\"/></a>"
      ]
    },
    {
      "cell_type": "markdown",
      "source": [
        "###**GBM**\n",
        "- 부스팅 알고리즘은 여러 개의 약한 학습기를 순차적으로 학습-예측하면서 잘못 예측한 데이터에 가중치 부여를 통해 오류를 개선해 나가면서 학습하는 방식 - 에이다 부스트, 그래디언트 부스트\n",
        "- GBM은 에이다부스트와 유사하나 가중치 업데이트를 경사 하강법을 이용, 오류값은 실제값-예측값, 오류식을 최소화하는 방향성을 가지고 반복적으로 가중치 값을 업데이트"
      ],
      "metadata": {
        "id": "LTcoB-4hnT34"
      }
    },
    {
      "cell_type": "markdown",
      "source": [
        "##**XGBoost extra Gradient Boost**\n",
        "###**XGBoost 개요**\n",
        "- GBM에 기반하고 있지만, GBM의 단점인 느린 수행 시간 및 과적합 규제 부재 등의 문제를 해결\n",
        "- 병렬 CPU 환경에서 병렬 학습이 가능해 기존 GBM보다 빠르게 학습을 완료할 수 있음\n",
        "- 장점 : 뛰어난 예측 성능, GBM 대비 빠른 수행 시간, 과적합 규제, 나무 가지치기, 자체 내장된 교차 검증, 결손값 자체 처리"
      ],
      "metadata": {
        "id": "xoJVQIm_9zwN"
      }
    },
    {
      "cell_type": "markdown",
      "source": [
        "##**LightGBM**\n",
        "- XGBoost보다 학습에 걸리는 시간이 훨씬 적고 메모리 사용량도 상대적으로 적음\n",
        "- 적은 데이터 세트에 적용할 경우 과적합이 발생하기 쉬움\n",
        "- 리프 중신 트리 분할 방식 사용 - 트리의 균형을 맞추지 않고 최대 손실 값을 가지는 리프 노드를 지속적으로 분할하면서 트리의 깊이가 깊어지고 비대칭적은 규칙 트리 생성됨\n",
        "###**하이퍼 파라미터 튜닝 방안**\n",
        "- num_leaves 의 개수를 중심으로 min_child_samples(min_data_in_leaf), max_depth를 함께 조정하면서 모델의 복잡도를 줄이는 것"
      ],
      "metadata": {
        "id": "-A0goPh3U7Cp"
      }
    }
  ]
}